{
 "cells": [
  {
   "cell_type": "code",
   "execution_count": 28,
   "metadata": {},
   "outputs": [],
   "source": [
    "# linux or mac\n",
    "import os \n",
    "os.environ['WATTTIME_USER'] = 'nomanbashir'\n",
    "os.environ['WATTTIME_PASSWORD'] = 'vikner-bozda4-fesrEb'\n",
    "\n",
    "import pandas as pd\n",
    "from tqdm import tqdm"
   ]
  },
  {
   "cell_type": "code",
   "execution_count": 16,
   "metadata": {},
   "outputs": [],
   "source": [
    "from watttime import WattTimeMyAccess\n",
    "from watttime import WattTimeForecast\n",
    "from watttime import WattTimeHistorical\n",
    "\n",
    "wt_forecast = WattTimeForecast()\n",
    "\n",
    "wt_historical = WattTimeHistorical()\n",
    "\n",
    "wt_myaccess = WattTimeMyAccess()"
   ]
  },
  {
   "cell_type": "code",
   "execution_count": 17,
   "metadata": {},
   "outputs": [
    {
     "name": "stdout",
     "output_type": "stream",
     "text": [
      "       signal_type       region                       region_name  \\\n",
      "0         co2_moer         AECI      Associated Electric Coop Inc   \n",
      "1         co2_moer         AECI      Associated Electric Coop Inc   \n",
      "2         co2_moer         AESO  Alberta Electric System Operator   \n",
      "3         co2_moer         AESO  Alberta Electric System Operator   \n",
      "4         co2_moer           AT                           Austria   \n",
      "..             ...          ...                               ...   \n",
      "526       co2_moer          WEM                 Western Australia   \n",
      "527       co2_moer          WEM                 Western Australia   \n",
      "528  health_damage  CAISO_NORTH           California ISO Northern   \n",
      "529  health_damage  CAISO_NORTH           California ISO Northern   \n",
      "530  health_damage  CAISO_NORTH           California ISO Northern   \n",
      "\n",
      "          endpoint       model data_start train_start  train_end  \\\n",
      "0    v3/historical  2022-10-01 2020-01-01  2020-03-01 2022-03-01   \n",
      "1      v3/forecast  2022-10-01 2021-12-31  2020-01-01 2021-12-31   \n",
      "2    v3/historical  2022-10-01 2020-01-01  2020-03-01 2022-03-01   \n",
      "3      v3/forecast  2022-10-01 2021-12-31  2020-01-01 2021-12-31   \n",
      "4    v3/historical  2022-10-01 2020-01-01  2020-03-01 2022-03-01   \n",
      "..             ...         ...        ...         ...        ...   \n",
      "526  v3/historical  2022-10-01 2020-01-01  2020-03-01 2022-03-01   \n",
      "527    v3/forecast  2022-10-01 2021-12-31  2020-01-01 2021-12-31   \n",
      "528  v3/historical  2022-10-01 2020-01-01  2020-03-01 2022-03-01   \n",
      "529    v3/forecast  2022-06-03 2019-12-31  2019-01-01 2019-12-31   \n",
      "530    v3/forecast  2022-10-01 2021-12-31  2020-01-01 2021-12-31   \n",
      "\n",
      "                  type  \n",
      "0    binned_regression  \n",
      "1                  NaN  \n",
      "2    binned_regression  \n",
      "3                  NaN  \n",
      "4    binned_regression  \n",
      "..                 ...  \n",
      "526  binned_regression  \n",
      "527                NaN  \n",
      "528  binned_regression  \n",
      "529                NaN  \n",
      "530                NaN  \n",
      "\n",
      "[531 rows x 9 columns]\n"
     ]
    }
   ],
   "source": [
    "regions_available = wt_myaccess.get_access_pandas()\n",
    "# regions_available.to_csv('regions_available.csv', index=False)\n",
    "print(regions_available)"
   ]
  },
  {
   "cell_type": "code",
   "execution_count": 14,
   "metadata": {},
   "outputs": [
    {
     "name": "stdout",
     "output_type": "stream",
     "text": [
      "933.8888599537037\n"
     ]
    }
   ],
   "source": [
    "hist_forecasts_hour = wt_forecast.get_historical_forecast_pandas(\n",
    "    start = '2023-12-01 00:00+00:00',\n",
    "    end = '2023-12-01 00:59+00:00',\n",
    "    region = 'CAISO_NORTH',\n",
    "    signal_type = 'co2_moer',\n",
    ")\n",
    "avg_forecast = hist_forecasts_hour['value'].mean()\n",
    "\n",
    "# hist_forecasts.to_csv('hist_forecasts.csv', index=False)\n",
    "\n",
    "print(avg_forecast)"
   ]
  },
  {
   "cell_type": "code",
   "execution_count": 21,
   "metadata": {},
   "outputs": [
    {
     "name": "stdout",
     "output_type": "stream",
     "text": [
      "1023.6666666666666\n"
     ]
    }
   ],
   "source": [
    "hist_hour = wt_historical.get_historical_pandas(\n",
    "    start = '2023-12-01 00:00+00:00',\n",
    "    end = '2023-12-01 00:59+00:00',\n",
    "    region = 'CAISO_NORTH',\n",
    "    signal_type = 'co2_moer',\n",
    ")\n",
    "avg_marginal = hist_hour['value'].mean()\n",
    "\n",
    "print(avg_marginal)"
   ]
  },
  {
   "cell_type": "code",
   "execution_count": 45,
   "metadata": {},
   "outputs": [
    {
     "name": "stderr",
     "output_type": "stream",
     "text": [
      " 19%|█▊        | 1637/8760 [2:11:11<9:22:20,  4.74s/it] "
     ]
    }
   ],
   "source": [
    "carbon_data = [\n",
    "    # (\"ap-southeast-2\", \"NEM_NSW\"),\n",
    "    # (\"ca-central-1\", \"HQ\"),\n",
    "    (\"eu-central-1\", \"DE\"),\n",
    "    # (\"eu-north-1\", \"SE\"),\n",
    "    # (\"eu-west-2\", \"UK\"),\n",
    "    # (\"eu-west-3\", \"FR\"),\n",
    "    # (\"us-east-1\", \"PJM_DC\"),\n",
    "    # (\"us-west-2\", \"PACW\"),\n",
    "    # (\"us-west-1\", \"CAISO_NORTH\"),\n",
    "]\n",
    "\n",
    "for csv_name, region in carbon_data:\n",
    "    # load csv from carbon-data\n",
    "    df = pd.read_csv(f\"carbon-data/{csv_name}.csv\", parse_dates=[\"datetime\"])\n",
    "\n",
    "    # filter data to only consider 2022 data\n",
    "    df = df[df['datetime'] >= pd.Timestamp(\"2022-01-01\", tz='UTC')]\n",
    "    \n",
    "    # get the list of timestamps in the underlying data\n",
    "    timestamps = df['datetime']\n",
    "    \n",
    "    hist_marginal = []\n",
    "    hist_marginal_forecast = []\n",
    "    for time in tqdm(timestamps):\n",
    "        start_time = time\n",
    "        end_time = time + pd.Timedelta('59 minutes')\n",
    "\n",
    "        model = \"2022-10-01\"\n",
    "        # if start_time < pd.Timestamp(\"2020-03-01\", tz='UTC'):\n",
    "        #     model = \"2022-10-01\"\n",
    "\n",
    "        # get the data from WattTime\n",
    "        try:\n",
    "            hist_hour = wt_historical.get_historical_pandas(\n",
    "                start = start_time,\n",
    "                end = end_time,\n",
    "                region = region,\n",
    "                signal_type = 'co2_moer',\n",
    "                # model = model,\n",
    "            )\n",
    "            hist_forecasts_hour = wt_forecast.get_historical_forecast_pandas(\n",
    "                start = start_time,\n",
    "                end = end_time,\n",
    "                region = region,\n",
    "                signal_type = 'co2_moer',\n",
    "                model = model,\n",
    "            )\n",
    "        except:\n",
    "            # if it fails, wait a minute\n",
    "            time.sleep(60)\n",
    "            # try again\n",
    "            hist_hour = wt_historical.get_historical_pandas(\n",
    "                start = start_time,\n",
    "                end = end_time,\n",
    "                region = region,\n",
    "                signal_type = 'co2_moer',\n",
    "                # model = model,\n",
    "            )\n",
    "            hist_forecasts_hour = wt_forecast.get_historical_forecast_pandas(\n",
    "                start = start_time,\n",
    "                end = end_time,\n",
    "                region = region,\n",
    "                signal_type = 'co2_moer',\n",
    "                model = model,\n",
    "            )\n",
    "        avg_marginal = hist_hour['value'].mean()\n",
    "        avg_forecast = hist_forecasts_hour['value'].mean()\n",
    "        hist_marginal.append(avg_marginal)\n",
    "        hist_marginal_forecast.append(avg_forecast)\n",
    "    df['marginal_carbon_avg'] = hist_marginal\n",
    "    df['marginal_forecast_avg'] = hist_marginal_forecast\n",
    "    df.to_csv(f\"marginal-data/{csv_name}.csv\", index=False)\n",
    "    print(f\"Processed {csv_name}\")\n"
   ]
  },
  {
   "cell_type": "code",
   "execution_count": null,
   "metadata": {},
   "outputs": [],
   "source": []
  }
 ],
 "metadata": {
  "kernelspec": {
   "display_name": "base",
   "language": "python",
   "name": "python3"
  },
  "language_info": {
   "codemirror_mode": {
    "name": "ipython",
    "version": 3
   },
   "file_extension": ".py",
   "mimetype": "text/x-python",
   "name": "python",
   "nbconvert_exporter": "python",
   "pygments_lexer": "ipython3",
   "version": "3.11.4"
  }
 },
 "nbformat": 4,
 "nbformat_minor": 2
}
