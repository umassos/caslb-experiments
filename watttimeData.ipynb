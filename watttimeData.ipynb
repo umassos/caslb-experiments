{
 "cells": [
  {
   "cell_type": "code",
   "execution_count": 55,
   "metadata": {},
   "outputs": [],
   "source": [
    "# linux or mac\n",
    "import os \n",
    "os.environ['WATTTIME_USER'] = 'nomanbashir'\n",
    "os.environ['WATTTIME_PASSWORD'] = 'vikner-bozda4-fesrEb'\n",
    "\n",
    "import pandas as pd\n",
    "from tqdm import tqdm"
   ]
  },
  {
   "cell_type": "code",
   "execution_count": 56,
   "metadata": {},
   "outputs": [],
   "source": [
    "from watttime import WattTimeMyAccess\n",
    "from watttime import WattTimeForecast\n",
    "from watttime import WattTimeHistorical\n",
    "\n",
    "wt_forecast = WattTimeForecast()\n",
    "\n",
    "wt_historical = WattTimeHistorical()\n",
    "\n",
    "wt_myaccess = WattTimeMyAccess()"
   ]
  },
  {
   "cell_type": "code",
   "execution_count": 57,
   "metadata": {},
   "outputs": [
    {
     "name": "stdout",
     "output_type": "stream",
     "text": [
      "       signal_type       region                       region_name  \\\n",
      "0         co2_moer         AECI      Associated Electric Coop Inc   \n",
      "1         co2_moer         AECI      Associated Electric Coop Inc   \n",
      "2         co2_moer         AESO  Alberta Electric System Operator   \n",
      "3         co2_moer         AESO  Alberta Electric System Operator   \n",
      "4         co2_moer           AT                           Austria   \n",
      "..             ...          ...                               ...   \n",
      "526       co2_moer          WEM                 Western Australia   \n",
      "527       co2_moer          WEM                 Western Australia   \n",
      "528  health_damage  CAISO_NORTH           California ISO Northern   \n",
      "529  health_damage  CAISO_NORTH           California ISO Northern   \n",
      "530  health_damage  CAISO_NORTH           California ISO Northern   \n",
      "\n",
      "          endpoint       model data_start train_start  train_end  \\\n",
      "0    v3/historical  2022-10-01 2020-01-01  2020-03-01 2022-03-01   \n",
      "1      v3/forecast  2022-10-01 2021-12-31  2020-01-01 2021-12-31   \n",
      "2    v3/historical  2022-10-01 2020-01-01  2020-03-01 2022-03-01   \n",
      "3      v3/forecast  2022-10-01 2021-12-31  2020-01-01 2021-12-31   \n",
      "4    v3/historical  2022-10-01 2020-01-01  2020-03-01 2022-03-01   \n",
      "..             ...         ...        ...         ...        ...   \n",
      "526  v3/historical  2022-10-01 2020-01-01  2020-03-01 2022-03-01   \n",
      "527    v3/forecast  2022-10-01 2021-12-31  2020-01-01 2021-12-31   \n",
      "528  v3/historical  2022-10-01 2020-01-01  2020-03-01 2022-03-01   \n",
      "529    v3/forecast  2022-06-03 2019-12-31  2019-01-01 2019-12-31   \n",
      "530    v3/forecast  2022-10-01 2021-12-31  2020-01-01 2021-12-31   \n",
      "\n",
      "                  type  \n",
      "0    binned_regression  \n",
      "1                  NaN  \n",
      "2    binned_regression  \n",
      "3                  NaN  \n",
      "4    binned_regression  \n",
      "..                 ...  \n",
      "526  binned_regression  \n",
      "527                NaN  \n",
      "528  binned_regression  \n",
      "529                NaN  \n",
      "530                NaN  \n",
      "\n",
      "[531 rows x 9 columns]\n"
     ]
    }
   ],
   "source": [
    "regions_available = wt_myaccess.get_access_pandas()\n",
    "# regions_available.to_csv('regions_available.csv', index=False)\n",
    "print(regions_available)"
   ]
  },
  {
   "cell_type": "code",
   "execution_count": 59,
   "metadata": {},
   "outputs": [
    {
     "ename": "TypeError",
     "evalue": "WattTimeForecast.get_historical_forecast_pandas() got an unexpected keyword argument 'generated_at_period_seconds'",
     "output_type": "error",
     "traceback": [
      "\u001b[0;31m---------------------------------------------------------------------------\u001b[0m",
      "\u001b[0;31mTypeError\u001b[0m                                 Traceback (most recent call last)",
      "Cell \u001b[0;32mIn[59], line 1\u001b[0m\n\u001b[0;32m----> 1\u001b[0m hist_forecasts_hour \u001b[38;5;241m=\u001b[39m wt_forecast\u001b[38;5;241m.\u001b[39mget_historical_forecast_pandas(\n\u001b[1;32m      2\u001b[0m     start \u001b[38;5;241m=\u001b[39m \u001b[38;5;124m'\u001b[39m\u001b[38;5;124m2023-12-01 00:00+00:00\u001b[39m\u001b[38;5;124m'\u001b[39m,\n\u001b[1;32m      3\u001b[0m     end \u001b[38;5;241m=\u001b[39m \u001b[38;5;124m'\u001b[39m\u001b[38;5;124m2023-12-01 00:59+00:00\u001b[39m\u001b[38;5;124m'\u001b[39m,\n\u001b[1;32m      4\u001b[0m     region \u001b[38;5;241m=\u001b[39m \u001b[38;5;124m'\u001b[39m\u001b[38;5;124mCAISO_NORTH\u001b[39m\u001b[38;5;124m'\u001b[39m,\n\u001b[1;32m      5\u001b[0m     signal_type \u001b[38;5;241m=\u001b[39m \u001b[38;5;124m'\u001b[39m\u001b[38;5;124mco2_moer\u001b[39m\u001b[38;5;124m'\u001b[39m,\n\u001b[1;32m      6\u001b[0m     generated_at_period_seconds \u001b[38;5;241m=\u001b[39m \u001b[38;5;241m3600\u001b[39m\n\u001b[1;32m      7\u001b[0m )\n\u001b[1;32m      8\u001b[0m avg_forecast \u001b[38;5;241m=\u001b[39m hist_forecasts_hour[\u001b[38;5;124m'\u001b[39m\u001b[38;5;124mvalue\u001b[39m\u001b[38;5;124m'\u001b[39m]\u001b[38;5;241m.\u001b[39mmean()\n\u001b[1;32m     10\u001b[0m \u001b[38;5;66;03m# hist_forecasts.to_csv('hist_forecasts.csv', index=False)\u001b[39;00m\n",
      "\u001b[0;31mTypeError\u001b[0m: WattTimeForecast.get_historical_forecast_pandas() got an unexpected keyword argument 'generated_at_period_seconds'"
     ]
    }
   ],
   "source": [
    "hist_forecasts_hour = wt_forecast.get_historical_forecast_pandas(\n",
    "    start = '2023-12-01 00:00+00:00',\n",
    "    end = '2023-12-01 00:59+00:00',\n",
    "    region = 'CAISO_NORTH',\n",
    "    signal_type = 'co2_moer',\n",
    ")\n",
    "avg_forecast = hist_forecasts_hour['value'].mean()\n",
    "\n",
    "# hist_forecasts.to_csv('hist_forecasts.csv', index=False)\n",
    "\n",
    "print(avg_forecast)"
   ]
  },
  {
   "cell_type": "code",
   "execution_count": 21,
   "metadata": {},
   "outputs": [
    {
     "name": "stdout",
     "output_type": "stream",
     "text": [
      "1023.6666666666666\n"
     ]
    }
   ],
   "source": [
    "hist_hour = wt_historical.get_historical_pandas(\n",
    "    start = '2023-12-01 00:00+00:00',\n",
    "    end = '2023-12-01 00:59+00:00',\n",
    "    region = 'CAISO_NORTH',\n",
    "    signal_type = 'co2_moer',\n",
    ")\n",
    "avg_marginal = hist_hour['value'].mean()\n",
    "\n",
    "print(avg_marginal)"
   ]
  },
  {
   "cell_type": "code",
   "execution_count": 51,
   "metadata": {},
   "outputs": [],
   "source": [
    "def downloadData(tuple):\n",
    "    csv_name, region = tuple\n",
    "    print(\"getting data for\", csv_name)\n",
    "    # load csv from carbon-data\n",
    "    df = pd.read_csv(f\"carbon-data/{csv_name}.csv\", parse_dates=[\"datetime\"])\n",
    "\n",
    "    # filter data to only consider 2022 data\n",
    "    df = df[df['datetime'] >= pd.Timestamp(\"2022-01-01\", tz='UTC')]\n",
    "\n",
    "    # just take the first 10 rows for testing\n",
    "    # df = df.head(10)\n",
    "    \n",
    "    # get the list of timestamps in the underlying data\n",
    "    timestamps = df['datetime']\n",
    "    \n",
    "    hist_marginal = []\n",
    "    hist_marginal_forecast = []\n",
    "    for time in tqdm(timestamps):\n",
    "        start_time = time\n",
    "        end_time = time + pd.Timedelta('59 minutes')\n",
    "\n",
    "        model = \"2022-10-01\"\n",
    "        # if start_time < pd.Timestamp(\"2020-03-01\", tz='UTC'):\n",
    "        #     model = \"2022-10-01\"\n",
    "\n",
    "        # get the data from WattTime\n",
    "        try:\n",
    "            hist_hour = wt_historical.get_historical_pandas(\n",
    "                start = start_time,\n",
    "                end = end_time,\n",
    "                region = region,\n",
    "                signal_type = 'co2_moer',\n",
    "                # model = model,\n",
    "            )\n",
    "            hist_forecasts_hour = wt_forecast.get_historical_forecast_pandas(\n",
    "                start = start_time,\n",
    "                end = end_time,\n",
    "                region = region,\n",
    "                signal_type = 'co2_moer',\n",
    "                model = model,\n",
    "            )\n",
    "        except:\n",
    "            # if it fails, wait a minute, try again.\n",
    "            time.sleep(60)\n",
    "            # try again\n",
    "            try:\n",
    "                hist_hour = wt_historical.get_historical_pandas(\n",
    "                    start = start_time,\n",
    "                    end = end_time,\n",
    "                    region = region,\n",
    "                    signal_type = 'co2_moer',\n",
    "                    # model = model,\n",
    "                )\n",
    "                hist_forecasts_hour = wt_forecast.get_historical_forecast_pandas(\n",
    "                    start = start_time,\n",
    "                    end = end_time,\n",
    "                    region = region,\n",
    "                    signal_type = 'co2_moer',\n",
    "                    model = model,\n",
    "                )\n",
    "            except:\n",
    "                print(\"failed to get data for\", time, \" and \", region)\n",
    "                hist_marginal.append(hist_marginal[-1])\n",
    "                hist_marginal_forecast.append(hist_marginal_forecast[-1])\n",
    "                continue\n",
    "        avg_marginal = hist_hour['value'].mean()\n",
    "        avg_forecast = hist_forecasts_hour['value'].mean()\n",
    "        hist_marginal.append(avg_marginal)\n",
    "        hist_marginal_forecast.append(avg_forecast)\n",
    "    df['marginal_carbon_avg'] = hist_marginal\n",
    "    df['marginal_forecast_avg'] = hist_marginal_forecast\n",
    "    df.to_csv(f\"marginal-data/{csv_name}.csv\", index=False)\n",
    "    print(f\"Processed {csv_name}\")"
   ]
  },
  {
   "cell_type": "code",
   "execution_count": 52,
   "metadata": {},
   "outputs": [],
   "source": [
    "carbon_data = [\n",
    "    # (\"ap-southeast-2\", \"NEM_NSW\"),\n",
    "    # (\"ca-central-1\", \"HQ\"),\n",
    "    (\"eu-central-1\", \"DE\"),\n",
    "    (\"eu-north-1\", \"SE\"),\n",
    "    (\"eu-west-2\", \"UK\"),\n",
    "    # (\"eu-west-3\", \"FR\"),\n",
    "    # (\"us-east-1\", \"PJM_DC\"),\n",
    "    # (\"us-west-2\", \"PACW\"),\n",
    "    (\"us-west-1\", \"CAISO_NORTH\"),\n",
    "]"
   ]
  },
  {
   "cell_type": "code",
   "execution_count": 54,
   "metadata": {},
   "outputs": [
    {
     "name": "stdout",
     "output_type": "stream",
     "text": [
      "getting data for eu-central-1\n"
     ]
    },
    {
     "name": "stderr",
     "output_type": "stream",
     "text": [
      "  4%|▍         | 391/8760 [30:00<10:42:22,  4.61s/it]\n"
     ]
    },
    {
     "ename": "AttributeError",
     "evalue": "'Timestamp' object has no attribute 'sleep'",
     "output_type": "error",
     "traceback": [
      "\u001b[0;31m---------------------------------------------------------------------------\u001b[0m",
      "\u001b[0;31mHTTPError\u001b[0m                                 Traceback (most recent call last)",
      "File \u001b[0;32m~/miniconda3/lib/python3.11/site-packages/watttime/api.py:217\u001b[0m, in \u001b[0;36mWattTimeHistorical.get_historical_jsons\u001b[0;34m(self, start, end, region, signal_type, model)\u001b[0m\n\u001b[1;32m    216\u001b[0m \u001b[38;5;28;01mtry\u001b[39;00m:\n\u001b[0;32m--> 217\u001b[0m     rsp\u001b[38;5;241m.\u001b[39mraise_for_status()\n\u001b[1;32m    218\u001b[0m     j \u001b[38;5;241m=\u001b[39m rsp\u001b[38;5;241m.\u001b[39mjson()\n",
      "File \u001b[0;32m~/miniconda3/lib/python3.11/site-packages/requests/models.py:1021\u001b[0m, in \u001b[0;36mResponse.raise_for_status\u001b[0;34m(self)\u001b[0m\n\u001b[1;32m   1020\u001b[0m \u001b[38;5;28;01mif\u001b[39;00m http_error_msg:\n\u001b[0;32m-> 1021\u001b[0m     \u001b[38;5;28;01mraise\u001b[39;00m HTTPError(http_error_msg, response\u001b[38;5;241m=\u001b[39m\u001b[38;5;28mself\u001b[39m)\n",
      "\u001b[0;31mHTTPError\u001b[0m: 401 Client Error: Unauthorized for url: https://api.watttime.org/v3/historical?region=DE&signal_type=co2_moer&start=2022-01-17+07%3A00%3A00%2B00%3A00&end=2022-01-17+07%3A59%3A00%2B00%3A00",
      "\nDuring handling of the above exception, another exception occurred:\n",
      "\u001b[0;31mException\u001b[0m                                 Traceback (most recent call last)",
      "Cell \u001b[0;32mIn[51], line 28\u001b[0m, in \u001b[0;36mdownloadData\u001b[0;34m(tuple)\u001b[0m\n\u001b[1;32m     27\u001b[0m \u001b[38;5;28;01mtry\u001b[39;00m:\n\u001b[0;32m---> 28\u001b[0m     hist_hour \u001b[38;5;241m=\u001b[39m wt_historical\u001b[38;5;241m.\u001b[39mget_historical_pandas(\n\u001b[1;32m     29\u001b[0m         start \u001b[38;5;241m=\u001b[39m start_time,\n\u001b[1;32m     30\u001b[0m         end \u001b[38;5;241m=\u001b[39m end_time,\n\u001b[1;32m     31\u001b[0m         region \u001b[38;5;241m=\u001b[39m region,\n\u001b[1;32m     32\u001b[0m         signal_type \u001b[38;5;241m=\u001b[39m \u001b[38;5;124m'\u001b[39m\u001b[38;5;124mco2_moer\u001b[39m\u001b[38;5;124m'\u001b[39m,\n\u001b[1;32m     33\u001b[0m         \u001b[38;5;66;03m# model = model,\u001b[39;00m\n\u001b[1;32m     34\u001b[0m     )\n\u001b[1;32m     35\u001b[0m     hist_forecasts_hour \u001b[38;5;241m=\u001b[39m wt_forecast\u001b[38;5;241m.\u001b[39mget_historical_forecast_pandas(\n\u001b[1;32m     36\u001b[0m         start \u001b[38;5;241m=\u001b[39m start_time,\n\u001b[1;32m     37\u001b[0m         end \u001b[38;5;241m=\u001b[39m end_time,\n\u001b[0;32m   (...)\u001b[0m\n\u001b[1;32m     40\u001b[0m         model \u001b[38;5;241m=\u001b[39m model,\n\u001b[1;32m     41\u001b[0m     )\n",
      "File \u001b[0;32m~/miniconda3/lib/python3.11/site-packages/watttime/api.py:261\u001b[0m, in \u001b[0;36mWattTimeHistorical.get_historical_pandas\u001b[0;34m(self, start, end, region, signal_type, model, include_meta)\u001b[0m\n\u001b[1;32m    249\u001b[0m \u001b[38;5;250m\u001b[39m\u001b[38;5;124;03m\"\"\"\u001b[39;00m\n\u001b[1;32m    250\u001b[0m \u001b[38;5;124;03mReturn a pd.DataFrame with point_time, and values.\u001b[39;00m\n\u001b[1;32m    251\u001b[0m \n\u001b[0;32m   (...)\u001b[0m\n\u001b[1;32m    259\u001b[0m \u001b[38;5;124;03m    pd.DataFrame: _description_\u001b[39;00m\n\u001b[1;32m    260\u001b[0m \u001b[38;5;124;03m\"\"\"\u001b[39;00m\n\u001b[0;32m--> 261\u001b[0m responses \u001b[38;5;241m=\u001b[39m \u001b[38;5;28mself\u001b[39m\u001b[38;5;241m.\u001b[39mget_historical_jsons(\n\u001b[1;32m    262\u001b[0m     start, end, region, signal_type, model\n\u001b[1;32m    263\u001b[0m )\n\u001b[1;32m    264\u001b[0m df \u001b[38;5;241m=\u001b[39m pd\u001b[38;5;241m.\u001b[39mjson_normalize(\n\u001b[1;32m    265\u001b[0m     responses, record_path\u001b[38;5;241m=\u001b[39m\u001b[38;5;124m\"\u001b[39m\u001b[38;5;124mdata\u001b[39m\u001b[38;5;124m\"\u001b[39m, meta\u001b[38;5;241m=\u001b[39m[\u001b[38;5;124m\"\u001b[39m\u001b[38;5;124mmeta\u001b[39m\u001b[38;5;124m\"\u001b[39m] \u001b[38;5;28;01mif\u001b[39;00m include_meta \u001b[38;5;28;01melse\u001b[39;00m []\n\u001b[1;32m    266\u001b[0m )\n",
      "File \u001b[0;32m~/miniconda3/lib/python3.11/site-packages/watttime/api.py:221\u001b[0m, in \u001b[0;36mWattTimeHistorical.get_historical_jsons\u001b[0;34m(self, start, end, region, signal_type, model)\u001b[0m\n\u001b[1;32m    220\u001b[0m \u001b[38;5;28;01mexcept\u001b[39;00m \u001b[38;5;167;01mException\u001b[39;00m \u001b[38;5;28;01mas\u001b[39;00m e:\n\u001b[0;32m--> 221\u001b[0m     \u001b[38;5;28;01mraise\u001b[39;00m \u001b[38;5;167;01mException\u001b[39;00m(\n\u001b[1;32m    222\u001b[0m         \u001b[38;5;124mf\u001b[39m\u001b[38;5;124m\"\u001b[39m\u001b[38;5;130;01m\\n\u001b[39;00m\u001b[38;5;124mAPI Response Error: \u001b[39m\u001b[38;5;132;01m{\u001b[39;00mrsp\u001b[38;5;241m.\u001b[39mstatus_code\u001b[38;5;132;01m}\u001b[39;00m\u001b[38;5;124m, \u001b[39m\u001b[38;5;132;01m{\u001b[39;00mrsp\u001b[38;5;241m.\u001b[39mtext\u001b[38;5;132;01m}\u001b[39;00m\u001b[38;5;124m [\u001b[39m\u001b[38;5;132;01m{\u001b[39;00mrsp\u001b[38;5;241m.\u001b[39mheaders\u001b[38;5;241m.\u001b[39mget(\u001b[38;5;124m'\u001b[39m\u001b[38;5;124mx-request-id\u001b[39m\u001b[38;5;124m'\u001b[39m)\u001b[38;5;132;01m}\u001b[39;00m\u001b[38;5;124m]\u001b[39m\u001b[38;5;124m\"\u001b[39m\n\u001b[1;32m    223\u001b[0m     )\n\u001b[1;32m    225\u001b[0m \u001b[38;5;28;01mif\u001b[39;00m \u001b[38;5;28mlen\u001b[39m(j[\u001b[38;5;124m\"\u001b[39m\u001b[38;5;124mmeta\u001b[39m\u001b[38;5;124m\"\u001b[39m][\u001b[38;5;124m\"\u001b[39m\u001b[38;5;124mwarnings\u001b[39m\u001b[38;5;124m\"\u001b[39m]):\n",
      "\u001b[0;31mException\u001b[0m: \nAPI Response Error: 401, <html>\r\n<head><title>401 Authorization Required</title></head>\r\n<body>\r\n<center><h1>401 Authorization Required</h1></center>\r\n<hr><center>nginx</center>\r\n</body>\r\n</html>\r\n [None]",
      "\nDuring handling of the above exception, another exception occurred:\n",
      "\u001b[0;31mAttributeError\u001b[0m                            Traceback (most recent call last)",
      "Cell \u001b[0;32mIn[54], line 1\u001b[0m\n\u001b[0;32m----> 1\u001b[0m downloadData(carbon_data[\u001b[38;5;241m0\u001b[39m])\n",
      "Cell \u001b[0;32mIn[51], line 44\u001b[0m, in \u001b[0;36mdownloadData\u001b[0;34m(tuple)\u001b[0m\n\u001b[1;32m     35\u001b[0m     hist_forecasts_hour \u001b[38;5;241m=\u001b[39m wt_forecast\u001b[38;5;241m.\u001b[39mget_historical_forecast_pandas(\n\u001b[1;32m     36\u001b[0m         start \u001b[38;5;241m=\u001b[39m start_time,\n\u001b[1;32m     37\u001b[0m         end \u001b[38;5;241m=\u001b[39m end_time,\n\u001b[0;32m   (...)\u001b[0m\n\u001b[1;32m     40\u001b[0m         model \u001b[38;5;241m=\u001b[39m model,\n\u001b[1;32m     41\u001b[0m     )\n\u001b[1;32m     42\u001b[0m \u001b[38;5;28;01mexcept\u001b[39;00m:\n\u001b[1;32m     43\u001b[0m     \u001b[38;5;66;03m# if it fails, wait a minute\u001b[39;00m\n\u001b[0;32m---> 44\u001b[0m     time\u001b[38;5;241m.\u001b[39msleep(\u001b[38;5;241m60\u001b[39m)\n\u001b[1;32m     45\u001b[0m     \u001b[38;5;66;03m# try again\u001b[39;00m\n\u001b[1;32m     46\u001b[0m     hist_hour \u001b[38;5;241m=\u001b[39m wt_historical\u001b[38;5;241m.\u001b[39mget_historical_pandas(\n\u001b[1;32m     47\u001b[0m         start \u001b[38;5;241m=\u001b[39m start_time,\n\u001b[1;32m     48\u001b[0m         end \u001b[38;5;241m=\u001b[39m end_time,\n\u001b[0;32m   (...)\u001b[0m\n\u001b[1;32m     51\u001b[0m         \u001b[38;5;66;03m# model = model,\u001b[39;00m\n\u001b[1;32m     52\u001b[0m     )\n",
      "\u001b[0;31mAttributeError\u001b[0m: 'Timestamp' object has no attribute 'sleep'"
     ]
    }
   ],
   "source": [
    "downloadData(carbon_data[0])"
   ]
  },
  {
   "cell_type": "code",
   "execution_count": null,
   "metadata": {},
   "outputs": [],
   "source": []
  }
 ],
 "metadata": {
  "kernelspec": {
   "display_name": "base",
   "language": "python",
   "name": "python3"
  },
  "language_info": {
   "codemirror_mode": {
    "name": "ipython",
    "version": 3
   },
   "file_extension": ".py",
   "mimetype": "text/x-python",
   "name": "python",
   "nbconvert_exporter": "python",
   "pygments_lexer": "ipython3",
   "version": "3.11.4"
  }
 },
 "nbformat": 4,
 "nbformat_minor": 2
}
