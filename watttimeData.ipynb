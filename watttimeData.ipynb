{
 "cells": [
  {
   "cell_type": "code",
   "execution_count": 55,
   "metadata": {},
   "outputs": [],
   "source": [
    "# linux or mac\n",
    "import os \n",
    "os.environ['WATTTIME_USER'] = 'nomanbashir'\n",
    "os.environ['WATTTIME_PASSWORD'] = 'vikner-bozda4-fesrEb'\n",
    "\n",
    "import pandas as pd\n",
    "from tqdm import tqdm"
   ]
  },
  {
   "cell_type": "code",
   "execution_count": 56,
   "metadata": {},
   "outputs": [],
   "source": [
    "from watttime import WattTimeMyAccess\n",
    "from watttime import WattTimeForecast\n",
    "from watttime import WattTimeHistorical\n",
    "\n",
    "wt_forecast = WattTimeForecast()\n",
    "\n",
    "wt_historical = WattTimeHistorical()\n",
    "\n",
    "wt_myaccess = WattTimeMyAccess()"
   ]
  },
  {
   "cell_type": "code",
   "execution_count": 57,
   "metadata": {},
   "outputs": [
    {
     "name": "stdout",
     "output_type": "stream",
     "text": [
      "       signal_type       region                       region_name  \\\n",
      "0         co2_moer         AECI      Associated Electric Coop Inc   \n",
      "1         co2_moer         AECI      Associated Electric Coop Inc   \n",
      "2         co2_moer         AESO  Alberta Electric System Operator   \n",
      "3         co2_moer         AESO  Alberta Electric System Operator   \n",
      "4         co2_moer           AT                           Austria   \n",
      "..             ...          ...                               ...   \n",
      "526       co2_moer          WEM                 Western Australia   \n",
      "527       co2_moer          WEM                 Western Australia   \n",
      "528  health_damage  CAISO_NORTH           California ISO Northern   \n",
      "529  health_damage  CAISO_NORTH           California ISO Northern   \n",
      "530  health_damage  CAISO_NORTH           California ISO Northern   \n",
      "\n",
      "          endpoint       model data_start train_start  train_end  \\\n",
      "0    v3/historical  2022-10-01 2020-01-01  2020-03-01 2022-03-01   \n",
      "1      v3/forecast  2022-10-01 2021-12-31  2020-01-01 2021-12-31   \n",
      "2    v3/historical  2022-10-01 2020-01-01  2020-03-01 2022-03-01   \n",
      "3      v3/forecast  2022-10-01 2021-12-31  2020-01-01 2021-12-31   \n",
      "4    v3/historical  2022-10-01 2020-01-01  2020-03-01 2022-03-01   \n",
      "..             ...         ...        ...         ...        ...   \n",
      "526  v3/historical  2022-10-01 2020-01-01  2020-03-01 2022-03-01   \n",
      "527    v3/forecast  2022-10-01 2021-12-31  2020-01-01 2021-12-31   \n",
      "528  v3/historical  2022-10-01 2020-01-01  2020-03-01 2022-03-01   \n",
      "529    v3/forecast  2022-06-03 2019-12-31  2019-01-01 2019-12-31   \n",
      "530    v3/forecast  2022-10-01 2021-12-31  2020-01-01 2021-12-31   \n",
      "\n",
      "                  type  \n",
      "0    binned_regression  \n",
      "1                  NaN  \n",
      "2    binned_regression  \n",
      "3                  NaN  \n",
      "4    binned_regression  \n",
      "..                 ...  \n",
      "526  binned_regression  \n",
      "527                NaN  \n",
      "528  binned_regression  \n",
      "529                NaN  \n",
      "530                NaN  \n",
      "\n",
      "[531 rows x 9 columns]\n"
     ]
    }
   ],
   "source": [
    "regions_available = wt_myaccess.get_access_pandas()\n",
    "# regions_available.to_csv('regions_available.csv', index=False)\n",
    "print(regions_available)"
   ]
  },
  {
   "cell_type": "code",
   "execution_count": 59,
   "metadata": {},
   "outputs": [
    {
     "ename": "TypeError",
     "evalue": "WattTimeForecast.get_historical_forecast_pandas() got an unexpected keyword argument 'generated_at_period_seconds'",
     "output_type": "error",
     "traceback": [
      "\u001b[0;31m---------------------------------------------------------------------------\u001b[0m",
      "\u001b[0;31mTypeError\u001b[0m                                 Traceback (most recent call last)",
      "Cell \u001b[0;32mIn[59], line 1\u001b[0m\n\u001b[0;32m----> 1\u001b[0m hist_forecasts_hour \u001b[38;5;241m=\u001b[39m wt_forecast\u001b[38;5;241m.\u001b[39mget_historical_forecast_pandas(\n\u001b[1;32m      2\u001b[0m     start \u001b[38;5;241m=\u001b[39m \u001b[38;5;124m'\u001b[39m\u001b[38;5;124m2023-12-01 00:00+00:00\u001b[39m\u001b[38;5;124m'\u001b[39m,\n\u001b[1;32m      3\u001b[0m     end \u001b[38;5;241m=\u001b[39m \u001b[38;5;124m'\u001b[39m\u001b[38;5;124m2023-12-01 00:59+00:00\u001b[39m\u001b[38;5;124m'\u001b[39m,\n\u001b[1;32m      4\u001b[0m     region \u001b[38;5;241m=\u001b[39m \u001b[38;5;124m'\u001b[39m\u001b[38;5;124mCAISO_NORTH\u001b[39m\u001b[38;5;124m'\u001b[39m,\n\u001b[1;32m      5\u001b[0m     signal_type \u001b[38;5;241m=\u001b[39m \u001b[38;5;124m'\u001b[39m\u001b[38;5;124mco2_moer\u001b[39m\u001b[38;5;124m'\u001b[39m,\n\u001b[1;32m      6\u001b[0m     generated_at_period_seconds \u001b[38;5;241m=\u001b[39m \u001b[38;5;241m3600\u001b[39m\n\u001b[1;32m      7\u001b[0m )\n\u001b[1;32m      8\u001b[0m avg_forecast \u001b[38;5;241m=\u001b[39m hist_forecasts_hour[\u001b[38;5;124m'\u001b[39m\u001b[38;5;124mvalue\u001b[39m\u001b[38;5;124m'\u001b[39m]\u001b[38;5;241m.\u001b[39mmean()\n\u001b[1;32m     10\u001b[0m \u001b[38;5;66;03m# hist_forecasts.to_csv('hist_forecasts.csv', index=False)\u001b[39;00m\n",
      "\u001b[0;31mTypeError\u001b[0m: WattTimeForecast.get_historical_forecast_pandas() got an unexpected keyword argument 'generated_at_period_seconds'"
     ]
    }
   ],
   "source": [
    "hist_forecasts_hour = wt_forecast.get_historical_forecast_pandas(\n",
    "    start = '2023-12-01 00:00+00:00',\n",
    "    end = '2023-12-01 00:59+00:00',\n",
    "    region = 'CAISO_NORTH',\n",
    "    signal_type = 'co2_moer',\n",
    ")\n",
    "avg_forecast = hist_forecasts_hour['value'].mean()\n",
    "\n",
    "# hist_forecasts.to_csv('hist_forecasts.csv', index=False)\n",
    "\n",
    "print(avg_forecast)"
   ]
  },
  {
   "cell_type": "code",
   "execution_count": 21,
   "metadata": {},
   "outputs": [
    {
     "name": "stdout",
     "output_type": "stream",
     "text": [
      "1023.6666666666666\n"
     ]
    }
   ],
   "source": [
    "hist_hour = wt_historical.get_historical_pandas(\n",
    "    start = '2023-12-01 00:00+00:00',\n",
    "    end = '2023-12-01 00:59+00:00',\n",
    "    region = 'CAISO_NORTH',\n",
    "    signal_type = 'co2_moer',\n",
    ")\n",
    "avg_marginal = hist_hour['value'].mean()\n",
    "\n",
    "print(avg_marginal)"
   ]
  },
  {
   "cell_type": "code",
   "execution_count": 60,
   "metadata": {},
   "outputs": [],
   "source": [
    "def downloadData(tuple):\n",
    "    csv_name, region = tuple\n",
    "    print(\"getting data for\", csv_name)\n",
    "    # load csv from carbon-data\n",
    "    df = pd.read_csv(f\"carbon-data/{csv_name}.csv\", parse_dates=[\"datetime\"])\n",
    "\n",
    "    # filter data to only consider 2022 data\n",
    "    df = df[df['datetime'] >= pd.Timestamp(\"2022-01-01\", tz='UTC')]\n",
    "\n",
    "    # just take the first 10 rows for testing\n",
    "    # df = df.head(10)\n",
    "    \n",
    "    # get the list of timestamps in the underlying data\n",
    "    timestamps = df['datetime']\n",
    "    \n",
    "    hist_marginal = []\n",
    "    hist_marginal_forecast = []\n",
    "    for time in tqdm(timestamps):\n",
    "        start_time = time\n",
    "        end_time = time + pd.Timedelta('59 minutes')\n",
    "\n",
    "        model = \"2022-10-01\"\n",
    "        # if start_time < pd.Timestamp(\"2020-03-01\", tz='UTC'):\n",
    "        #     model = \"2022-10-01\"\n",
    "\n",
    "        # get the data from WattTime\n",
    "        try:\n",
    "            hist_hour = wt_historical.get_historical_pandas(\n",
    "                start = start_time,\n",
    "                end = end_time,\n",
    "                region = region,\n",
    "                signal_type = 'co2_moer',\n",
    "                # model = model,\n",
    "            )\n",
    "            hist_forecasts_hour = wt_forecast.get_historical_forecast_pandas(\n",
    "                start = start_time,\n",
    "                end = end_time,\n",
    "                region = region,\n",
    "                signal_type = 'co2_moer',\n",
    "                model = model,\n",
    "            )\n",
    "        except:\n",
    "            # if it fails, wait a minute, try again.\n",
    "            time.sleep(60)\n",
    "            # try again\n",
    "            try:\n",
    "                hist_hour = wt_historical.get_historical_pandas(\n",
    "                    start = start_time,\n",
    "                    end = end_time,\n",
    "                    region = region,\n",
    "                    signal_type = 'co2_moer',\n",
    "                    # model = model,\n",
    "                )\n",
    "                hist_forecasts_hour = wt_forecast.get_historical_forecast_pandas(\n",
    "                    start = start_time,\n",
    "                    end = end_time,\n",
    "                    region = region,\n",
    "                    signal_type = 'co2_moer',\n",
    "                    model = model,\n",
    "                )\n",
    "            except:\n",
    "                print(\"failed to get data for\", time, \" and \", region)\n",
    "                hist_marginal.append(hist_marginal[-1])\n",
    "                hist_marginal_forecast.append(hist_marginal_forecast[-1])\n",
    "                continue\n",
    "        try:\n",
    "            avg_marginal = hist_hour['value'].mean()\n",
    "            avg_forecast = hist_forecasts_hour['value'].mean()\n",
    "            hist_marginal.append(avg_marginal)\n",
    "            hist_marginal_forecast.append(avg_forecast)\n",
    "        except:\n",
    "            print(\"failed to get data for\", time, \" and \", region)\n",
    "            hist_marginal.append(hist_marginal[-1])\n",
    "            hist_marginal_forecast.append(hist_marginal_forecast[-1])\n",
    "            continue\n",
    "    df['marginal_carbon_avg'] = hist_marginal\n",
    "    df['marginal_forecast_avg'] = hist_marginal_forecast\n",
    "    df.to_csv(f\"marginal-data/{csv_name}.csv\", index=False)\n",
    "    print(f\"Processed {csv_name}\")"
   ]
  },
  {
   "cell_type": "code",
   "execution_count": 61,
   "metadata": {},
   "outputs": [],
   "source": [
    "carbon_data = [\n",
    "    # (\"ap-southeast-2\", \"NEM_NSW\"),\n",
    "    # (\"ca-central-1\", \"HQ\"),\n",
    "    (\"eu-central-1\", \"DE\"),\n",
    "    (\"eu-north-1\", \"SE\"),\n",
    "    (\"eu-west-2\", \"UK\"),\n",
    "    # (\"eu-west-3\", \"FR\"),\n",
    "    # (\"us-east-1\", \"PJM_DC\"),\n",
    "    # (\"us-west-2\", \"PACW\"),\n",
    "    (\"us-west-1\", \"CAISO_NORTH\"),\n",
    "]"
   ]
  },
  {
   "cell_type": "code",
   "execution_count": 62,
   "metadata": {},
   "outputs": [
    {
     "name": "stdout",
     "output_type": "stream",
     "text": [
      "getting data for eu-central-1\n"
     ]
    },
    {
     "name": "stderr",
     "output_type": "stream",
     "text": [
      "  2%|▏         | 164/8760 [12:45<11:08:19,  4.66s/it]\n"
     ]
    },
    {
     "ename": "AttributeError",
     "evalue": "'Timestamp' object has no attribute 'sleep'",
     "output_type": "error",
     "traceback": [
      "\u001b[0;31m---------------------------------------------------------------------------\u001b[0m",
      "\u001b[0;31mKeyboardInterrupt\u001b[0m                         Traceback (most recent call last)",
      "Cell \u001b[0;32mIn[60], line 35\u001b[0m, in \u001b[0;36mdownloadData\u001b[0;34m(tuple)\u001b[0m\n\u001b[1;32m     28\u001b[0m     hist_hour \u001b[38;5;241m=\u001b[39m wt_historical\u001b[38;5;241m.\u001b[39mget_historical_pandas(\n\u001b[1;32m     29\u001b[0m         start \u001b[38;5;241m=\u001b[39m start_time,\n\u001b[1;32m     30\u001b[0m         end \u001b[38;5;241m=\u001b[39m end_time,\n\u001b[0;32m   (...)\u001b[0m\n\u001b[1;32m     33\u001b[0m         \u001b[38;5;66;03m# model = model,\u001b[39;00m\n\u001b[1;32m     34\u001b[0m     )\n\u001b[0;32m---> 35\u001b[0m     hist_forecasts_hour \u001b[38;5;241m=\u001b[39m wt_forecast\u001b[38;5;241m.\u001b[39mget_historical_forecast_pandas(\n\u001b[1;32m     36\u001b[0m         start \u001b[38;5;241m=\u001b[39m start_time,\n\u001b[1;32m     37\u001b[0m         end \u001b[38;5;241m=\u001b[39m end_time,\n\u001b[1;32m     38\u001b[0m         region \u001b[38;5;241m=\u001b[39m region,\n\u001b[1;32m     39\u001b[0m         signal_type \u001b[38;5;241m=\u001b[39m \u001b[38;5;124m'\u001b[39m\u001b[38;5;124mco2_moer\u001b[39m\u001b[38;5;124m'\u001b[39m,\n\u001b[1;32m     40\u001b[0m         model \u001b[38;5;241m=\u001b[39m model,\n\u001b[1;32m     41\u001b[0m     )\n\u001b[1;32m     42\u001b[0m \u001b[38;5;28;01mexcept\u001b[39;00m:\n\u001b[1;32m     43\u001b[0m     \u001b[38;5;66;03m# if it fails, wait a minute, try again.\u001b[39;00m\n",
      "File \u001b[0;32m~/miniconda3/lib/python3.11/site-packages/watttime/api.py:528\u001b[0m, in \u001b[0;36mWattTimeForecast.get_historical_forecast_pandas\u001b[0;34m(self, start, end, region, signal_type, model, horizon_hours)\u001b[0m\n\u001b[1;32m    513\u001b[0m \u001b[38;5;250m\u001b[39m\u001b[38;5;124;03m\"\"\"\u001b[39;00m\n\u001b[1;32m    514\u001b[0m \u001b[38;5;124;03mRetrieves the historical forecast data as a pandas DataFrame.\u001b[39;00m\n\u001b[1;32m    515\u001b[0m \n\u001b[0;32m   (...)\u001b[0m\n\u001b[1;32m    526\u001b[0m \u001b[38;5;124;03m    pd.DataFrame: A pandas DataFrame containing the historical forecast data.\u001b[39;00m\n\u001b[1;32m    527\u001b[0m \u001b[38;5;124;03m\"\"\"\u001b[39;00m\n\u001b[0;32m--> 528\u001b[0m json_list \u001b[38;5;241m=\u001b[39m \u001b[38;5;28mself\u001b[39m\u001b[38;5;241m.\u001b[39mget_historical_forecast_json(\n\u001b[1;32m    529\u001b[0m     start, end, region, signal_type, model, horizon_hours\n\u001b[1;32m    530\u001b[0m )\n\u001b[1;32m    531\u001b[0m out \u001b[38;5;241m=\u001b[39m pd\u001b[38;5;241m.\u001b[39mDataFrame()\n",
      "File \u001b[0;32m~/miniconda3/lib/python3.11/site-packages/watttime/api.py:486\u001b[0m, in \u001b[0;36mWattTimeForecast.get_historical_forecast_json\u001b[0;34m(self, start, end, region, signal_type, model, horizon_hours)\u001b[0m\n\u001b[1;32m    485\u001b[0m params[\u001b[38;5;124m\"\u001b[39m\u001b[38;5;124mstart\u001b[39m\u001b[38;5;124m\"\u001b[39m], params[\u001b[38;5;124m\"\u001b[39m\u001b[38;5;124mend\u001b[39m\u001b[38;5;124m\"\u001b[39m] \u001b[38;5;241m=\u001b[39m c\n\u001b[0;32m--> 486\u001b[0m rsp \u001b[38;5;241m=\u001b[39m requests\u001b[38;5;241m.\u001b[39mget(url, headers\u001b[38;5;241m=\u001b[39mheaders, params\u001b[38;5;241m=\u001b[39mparams)\n\u001b[1;32m    487\u001b[0m \u001b[38;5;28;01mtry\u001b[39;00m:\n",
      "File \u001b[0;32m~/miniconda3/lib/python3.11/site-packages/requests/api.py:73\u001b[0m, in \u001b[0;36mget\u001b[0;34m(url, params, **kwargs)\u001b[0m\n\u001b[1;32m     63\u001b[0m \u001b[38;5;250m\u001b[39m\u001b[38;5;124mr\u001b[39m\u001b[38;5;124;03m\"\"\"Sends a GET request.\u001b[39;00m\n\u001b[1;32m     64\u001b[0m \n\u001b[1;32m     65\u001b[0m \u001b[38;5;124;03m:param url: URL for the new :class:`Request` object.\u001b[39;00m\n\u001b[0;32m   (...)\u001b[0m\n\u001b[1;32m     70\u001b[0m \u001b[38;5;124;03m:rtype: requests.Response\u001b[39;00m\n\u001b[1;32m     71\u001b[0m \u001b[38;5;124;03m\"\"\"\u001b[39;00m\n\u001b[0;32m---> 73\u001b[0m \u001b[38;5;28;01mreturn\u001b[39;00m request(\u001b[38;5;124m\"\u001b[39m\u001b[38;5;124mget\u001b[39m\u001b[38;5;124m\"\u001b[39m, url, params\u001b[38;5;241m=\u001b[39mparams, \u001b[38;5;241m*\u001b[39m\u001b[38;5;241m*\u001b[39mkwargs)\n",
      "File \u001b[0;32m~/miniconda3/lib/python3.11/site-packages/requests/api.py:59\u001b[0m, in \u001b[0;36mrequest\u001b[0;34m(method, url, **kwargs)\u001b[0m\n\u001b[1;32m     58\u001b[0m \u001b[38;5;28;01mwith\u001b[39;00m sessions\u001b[38;5;241m.\u001b[39mSession() \u001b[38;5;28;01mas\u001b[39;00m session:\n\u001b[0;32m---> 59\u001b[0m     \u001b[38;5;28;01mreturn\u001b[39;00m session\u001b[38;5;241m.\u001b[39mrequest(method\u001b[38;5;241m=\u001b[39mmethod, url\u001b[38;5;241m=\u001b[39murl, \u001b[38;5;241m*\u001b[39m\u001b[38;5;241m*\u001b[39mkwargs)\n",
      "File \u001b[0;32m~/miniconda3/lib/python3.11/site-packages/requests/sessions.py:589\u001b[0m, in \u001b[0;36mSession.request\u001b[0;34m(self, method, url, params, data, headers, cookies, files, auth, timeout, allow_redirects, proxies, hooks, stream, verify, cert, json)\u001b[0m\n\u001b[1;32m    588\u001b[0m send_kwargs\u001b[38;5;241m.\u001b[39mupdate(settings)\n\u001b[0;32m--> 589\u001b[0m resp \u001b[38;5;241m=\u001b[39m \u001b[38;5;28mself\u001b[39m\u001b[38;5;241m.\u001b[39msend(prep, \u001b[38;5;241m*\u001b[39m\u001b[38;5;241m*\u001b[39msend_kwargs)\n\u001b[1;32m    591\u001b[0m \u001b[38;5;28;01mreturn\u001b[39;00m resp\n",
      "File \u001b[0;32m~/miniconda3/lib/python3.11/site-packages/requests/sessions.py:703\u001b[0m, in \u001b[0;36mSession.send\u001b[0;34m(self, request, **kwargs)\u001b[0m\n\u001b[1;32m    702\u001b[0m \u001b[38;5;66;03m# Send the request\u001b[39;00m\n\u001b[0;32m--> 703\u001b[0m r \u001b[38;5;241m=\u001b[39m adapter\u001b[38;5;241m.\u001b[39msend(request, \u001b[38;5;241m*\u001b[39m\u001b[38;5;241m*\u001b[39mkwargs)\n\u001b[1;32m    705\u001b[0m \u001b[38;5;66;03m# Total elapsed time of the request (approximately)\u001b[39;00m\n",
      "File \u001b[0;32m~/miniconda3/lib/python3.11/site-packages/requests/adapters.py:486\u001b[0m, in \u001b[0;36mHTTPAdapter.send\u001b[0;34m(self, request, stream, timeout, verify, cert, proxies)\u001b[0m\n\u001b[1;32m    485\u001b[0m \u001b[38;5;28;01mtry\u001b[39;00m:\n\u001b[0;32m--> 486\u001b[0m     resp \u001b[38;5;241m=\u001b[39m conn\u001b[38;5;241m.\u001b[39murlopen(\n\u001b[1;32m    487\u001b[0m         method\u001b[38;5;241m=\u001b[39mrequest\u001b[38;5;241m.\u001b[39mmethod,\n\u001b[1;32m    488\u001b[0m         url\u001b[38;5;241m=\u001b[39murl,\n\u001b[1;32m    489\u001b[0m         body\u001b[38;5;241m=\u001b[39mrequest\u001b[38;5;241m.\u001b[39mbody,\n\u001b[1;32m    490\u001b[0m         headers\u001b[38;5;241m=\u001b[39mrequest\u001b[38;5;241m.\u001b[39mheaders,\n\u001b[1;32m    491\u001b[0m         redirect\u001b[38;5;241m=\u001b[39m\u001b[38;5;28;01mFalse\u001b[39;00m,\n\u001b[1;32m    492\u001b[0m         assert_same_host\u001b[38;5;241m=\u001b[39m\u001b[38;5;28;01mFalse\u001b[39;00m,\n\u001b[1;32m    493\u001b[0m         preload_content\u001b[38;5;241m=\u001b[39m\u001b[38;5;28;01mFalse\u001b[39;00m,\n\u001b[1;32m    494\u001b[0m         decode_content\u001b[38;5;241m=\u001b[39m\u001b[38;5;28;01mFalse\u001b[39;00m,\n\u001b[1;32m    495\u001b[0m         retries\u001b[38;5;241m=\u001b[39m\u001b[38;5;28mself\u001b[39m\u001b[38;5;241m.\u001b[39mmax_retries,\n\u001b[1;32m    496\u001b[0m         timeout\u001b[38;5;241m=\u001b[39mtimeout,\n\u001b[1;32m    497\u001b[0m         chunked\u001b[38;5;241m=\u001b[39mchunked,\n\u001b[1;32m    498\u001b[0m     )\n\u001b[1;32m    500\u001b[0m \u001b[38;5;28;01mexcept\u001b[39;00m (ProtocolError, \u001b[38;5;167;01mOSError\u001b[39;00m) \u001b[38;5;28;01mas\u001b[39;00m err:\n",
      "File \u001b[0;32m~/miniconda3/lib/python3.11/site-packages/urllib3/connectionpool.py:715\u001b[0m, in \u001b[0;36mHTTPConnectionPool.urlopen\u001b[0;34m(self, method, url, body, headers, retries, redirect, assert_same_host, timeout, pool_timeout, release_conn, chunked, body_pos, **response_kw)\u001b[0m\n\u001b[1;32m    714\u001b[0m \u001b[38;5;66;03m# Make the request on the httplib connection object.\u001b[39;00m\n\u001b[0;32m--> 715\u001b[0m httplib_response \u001b[38;5;241m=\u001b[39m \u001b[38;5;28mself\u001b[39m\u001b[38;5;241m.\u001b[39m_make_request(\n\u001b[1;32m    716\u001b[0m     conn,\n\u001b[1;32m    717\u001b[0m     method,\n\u001b[1;32m    718\u001b[0m     url,\n\u001b[1;32m    719\u001b[0m     timeout\u001b[38;5;241m=\u001b[39mtimeout_obj,\n\u001b[1;32m    720\u001b[0m     body\u001b[38;5;241m=\u001b[39mbody,\n\u001b[1;32m    721\u001b[0m     headers\u001b[38;5;241m=\u001b[39mheaders,\n\u001b[1;32m    722\u001b[0m     chunked\u001b[38;5;241m=\u001b[39mchunked,\n\u001b[1;32m    723\u001b[0m )\n\u001b[1;32m    725\u001b[0m \u001b[38;5;66;03m# If we're going to release the connection in ``finally:``, then\u001b[39;00m\n\u001b[1;32m    726\u001b[0m \u001b[38;5;66;03m# the response doesn't need to know about the connection. Otherwise\u001b[39;00m\n\u001b[1;32m    727\u001b[0m \u001b[38;5;66;03m# it will also try to release it and we'll have a double-release\u001b[39;00m\n\u001b[1;32m    728\u001b[0m \u001b[38;5;66;03m# mess.\u001b[39;00m\n",
      "File \u001b[0;32m~/miniconda3/lib/python3.11/site-packages/urllib3/connectionpool.py:467\u001b[0m, in \u001b[0;36mHTTPConnectionPool._make_request\u001b[0;34m(self, conn, method, url, timeout, chunked, **httplib_request_kw)\u001b[0m\n\u001b[1;32m    463\u001b[0m         \u001b[38;5;28;01mexcept\u001b[39;00m \u001b[38;5;167;01mBaseException\u001b[39;00m \u001b[38;5;28;01mas\u001b[39;00m e:\n\u001b[1;32m    464\u001b[0m             \u001b[38;5;66;03m# Remove the TypeError from the exception chain in\u001b[39;00m\n\u001b[1;32m    465\u001b[0m             \u001b[38;5;66;03m# Python 3 (including for exceptions like SystemExit).\u001b[39;00m\n\u001b[1;32m    466\u001b[0m             \u001b[38;5;66;03m# Otherwise it looks like a bug in the code.\u001b[39;00m\n\u001b[0;32m--> 467\u001b[0m             six\u001b[38;5;241m.\u001b[39mraise_from(e, \u001b[38;5;28;01mNone\u001b[39;00m)\n\u001b[1;32m    468\u001b[0m \u001b[38;5;28;01mexcept\u001b[39;00m (SocketTimeout, BaseSSLError, SocketError) \u001b[38;5;28;01mas\u001b[39;00m e:\n",
      "File \u001b[0;32m<string>:3\u001b[0m, in \u001b[0;36mraise_from\u001b[0;34m(value, from_value)\u001b[0m\n",
      "File \u001b[0;32m~/miniconda3/lib/python3.11/site-packages/urllib3/connectionpool.py:462\u001b[0m, in \u001b[0;36mHTTPConnectionPool._make_request\u001b[0;34m(self, conn, method, url, timeout, chunked, **httplib_request_kw)\u001b[0m\n\u001b[1;32m    461\u001b[0m \u001b[38;5;28;01mtry\u001b[39;00m:\n\u001b[0;32m--> 462\u001b[0m     httplib_response \u001b[38;5;241m=\u001b[39m conn\u001b[38;5;241m.\u001b[39mgetresponse()\n\u001b[1;32m    463\u001b[0m \u001b[38;5;28;01mexcept\u001b[39;00m \u001b[38;5;167;01mBaseException\u001b[39;00m \u001b[38;5;28;01mas\u001b[39;00m e:\n\u001b[1;32m    464\u001b[0m     \u001b[38;5;66;03m# Remove the TypeError from the exception chain in\u001b[39;00m\n\u001b[1;32m    465\u001b[0m     \u001b[38;5;66;03m# Python 3 (including for exceptions like SystemExit).\u001b[39;00m\n\u001b[1;32m    466\u001b[0m     \u001b[38;5;66;03m# Otherwise it looks like a bug in the code.\u001b[39;00m\n",
      "File \u001b[0;32m~/miniconda3/lib/python3.11/http/client.py:1378\u001b[0m, in \u001b[0;36mHTTPConnection.getresponse\u001b[0;34m(self)\u001b[0m\n\u001b[1;32m   1377\u001b[0m \u001b[38;5;28;01mtry\u001b[39;00m:\n\u001b[0;32m-> 1378\u001b[0m     response\u001b[38;5;241m.\u001b[39mbegin()\n\u001b[1;32m   1379\u001b[0m \u001b[38;5;28;01mexcept\u001b[39;00m \u001b[38;5;167;01mConnectionError\u001b[39;00m:\n",
      "File \u001b[0;32m~/miniconda3/lib/python3.11/http/client.py:318\u001b[0m, in \u001b[0;36mHTTPResponse.begin\u001b[0;34m(self)\u001b[0m\n\u001b[1;32m    317\u001b[0m \u001b[38;5;28;01mwhile\u001b[39;00m \u001b[38;5;28;01mTrue\u001b[39;00m:\n\u001b[0;32m--> 318\u001b[0m     version, status, reason \u001b[38;5;241m=\u001b[39m \u001b[38;5;28mself\u001b[39m\u001b[38;5;241m.\u001b[39m_read_status()\n\u001b[1;32m    319\u001b[0m     \u001b[38;5;28;01mif\u001b[39;00m status \u001b[38;5;241m!=\u001b[39m CONTINUE:\n",
      "File \u001b[0;32m~/miniconda3/lib/python3.11/http/client.py:279\u001b[0m, in \u001b[0;36mHTTPResponse._read_status\u001b[0;34m(self)\u001b[0m\n\u001b[1;32m    278\u001b[0m \u001b[38;5;28;01mdef\u001b[39;00m \u001b[38;5;21m_read_status\u001b[39m(\u001b[38;5;28mself\u001b[39m):\n\u001b[0;32m--> 279\u001b[0m     line \u001b[38;5;241m=\u001b[39m \u001b[38;5;28mstr\u001b[39m(\u001b[38;5;28mself\u001b[39m\u001b[38;5;241m.\u001b[39mfp\u001b[38;5;241m.\u001b[39mreadline(_MAXLINE \u001b[38;5;241m+\u001b[39m \u001b[38;5;241m1\u001b[39m), \u001b[38;5;124m\"\u001b[39m\u001b[38;5;124miso-8859-1\u001b[39m\u001b[38;5;124m\"\u001b[39m)\n\u001b[1;32m    280\u001b[0m     \u001b[38;5;28;01mif\u001b[39;00m \u001b[38;5;28mlen\u001b[39m(line) \u001b[38;5;241m>\u001b[39m _MAXLINE:\n",
      "File \u001b[0;32m~/miniconda3/lib/python3.11/socket.py:706\u001b[0m, in \u001b[0;36mSocketIO.readinto\u001b[0;34m(self, b)\u001b[0m\n\u001b[1;32m    705\u001b[0m \u001b[38;5;28;01mtry\u001b[39;00m:\n\u001b[0;32m--> 706\u001b[0m     \u001b[38;5;28;01mreturn\u001b[39;00m \u001b[38;5;28mself\u001b[39m\u001b[38;5;241m.\u001b[39m_sock\u001b[38;5;241m.\u001b[39mrecv_into(b)\n\u001b[1;32m    707\u001b[0m \u001b[38;5;28;01mexcept\u001b[39;00m timeout:\n",
      "File \u001b[0;32m~/miniconda3/lib/python3.11/ssl.py:1278\u001b[0m, in \u001b[0;36mSSLSocket.recv_into\u001b[0;34m(self, buffer, nbytes, flags)\u001b[0m\n\u001b[1;32m   1275\u001b[0m         \u001b[38;5;28;01mraise\u001b[39;00m \u001b[38;5;167;01mValueError\u001b[39;00m(\n\u001b[1;32m   1276\u001b[0m           \u001b[38;5;124m\"\u001b[39m\u001b[38;5;124mnon-zero flags not allowed in calls to recv_into() on \u001b[39m\u001b[38;5;132;01m%s\u001b[39;00m\u001b[38;5;124m\"\u001b[39m \u001b[38;5;241m%\u001b[39m\n\u001b[1;32m   1277\u001b[0m           \u001b[38;5;28mself\u001b[39m\u001b[38;5;241m.\u001b[39m\u001b[38;5;18m__class__\u001b[39m)\n\u001b[0;32m-> 1278\u001b[0m     \u001b[38;5;28;01mreturn\u001b[39;00m \u001b[38;5;28mself\u001b[39m\u001b[38;5;241m.\u001b[39mread(nbytes, buffer)\n\u001b[1;32m   1279\u001b[0m \u001b[38;5;28;01melse\u001b[39;00m:\n",
      "File \u001b[0;32m~/miniconda3/lib/python3.11/ssl.py:1134\u001b[0m, in \u001b[0;36mSSLSocket.read\u001b[0;34m(self, len, buffer)\u001b[0m\n\u001b[1;32m   1133\u001b[0m \u001b[38;5;28;01mif\u001b[39;00m buffer \u001b[38;5;129;01mis\u001b[39;00m \u001b[38;5;129;01mnot\u001b[39;00m \u001b[38;5;28;01mNone\u001b[39;00m:\n\u001b[0;32m-> 1134\u001b[0m     \u001b[38;5;28;01mreturn\u001b[39;00m \u001b[38;5;28mself\u001b[39m\u001b[38;5;241m.\u001b[39m_sslobj\u001b[38;5;241m.\u001b[39mread(\u001b[38;5;28mlen\u001b[39m, buffer)\n\u001b[1;32m   1135\u001b[0m \u001b[38;5;28;01melse\u001b[39;00m:\n",
      "\u001b[0;31mKeyboardInterrupt\u001b[0m: ",
      "\nDuring handling of the above exception, another exception occurred:\n",
      "\u001b[0;31mAttributeError\u001b[0m                            Traceback (most recent call last)",
      "Cell \u001b[0;32mIn[62], line 1\u001b[0m\n\u001b[0;32m----> 1\u001b[0m downloadData(carbon_data[\u001b[38;5;241m0\u001b[39m])\n",
      "Cell \u001b[0;32mIn[60], line 44\u001b[0m, in \u001b[0;36mdownloadData\u001b[0;34m(tuple)\u001b[0m\n\u001b[1;32m     35\u001b[0m     hist_forecasts_hour \u001b[38;5;241m=\u001b[39m wt_forecast\u001b[38;5;241m.\u001b[39mget_historical_forecast_pandas(\n\u001b[1;32m     36\u001b[0m         start \u001b[38;5;241m=\u001b[39m start_time,\n\u001b[1;32m     37\u001b[0m         end \u001b[38;5;241m=\u001b[39m end_time,\n\u001b[0;32m   (...)\u001b[0m\n\u001b[1;32m     40\u001b[0m         model \u001b[38;5;241m=\u001b[39m model,\n\u001b[1;32m     41\u001b[0m     )\n\u001b[1;32m     42\u001b[0m \u001b[38;5;28;01mexcept\u001b[39;00m:\n\u001b[1;32m     43\u001b[0m     \u001b[38;5;66;03m# if it fails, wait a minute, try again.\u001b[39;00m\n\u001b[0;32m---> 44\u001b[0m     time\u001b[38;5;241m.\u001b[39msleep(\u001b[38;5;241m60\u001b[39m)\n\u001b[1;32m     45\u001b[0m     \u001b[38;5;66;03m# try again\u001b[39;00m\n\u001b[1;32m     46\u001b[0m     \u001b[38;5;28;01mtry\u001b[39;00m:\n",
      "\u001b[0;31mAttributeError\u001b[0m: 'Timestamp' object has no attribute 'sleep'"
     ]
    }
   ],
   "source": [
    "downloadData(carbon_data[0])"
   ]
  },
  {
   "cell_type": "code",
   "execution_count": null,
   "metadata": {},
   "outputs": [],
   "source": []
  }
 ],
 "metadata": {
  "kernelspec": {
   "display_name": "base",
   "language": "python",
   "name": "python3"
  },
  "language_info": {
   "codemirror_mode": {
    "name": "ipython",
    "version": 3
   },
   "file_extension": ".py",
   "mimetype": "text/x-python",
   "name": "python",
   "nbconvert_exporter": "python",
   "pygments_lexer": "ipython3",
   "version": "3.11.4"
  }
 },
 "nbformat": 4,
 "nbformat_minor": 2
}
