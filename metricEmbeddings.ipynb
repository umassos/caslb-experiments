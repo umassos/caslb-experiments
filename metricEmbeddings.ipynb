{
 "cells": [
  {
   "cell_type": "code",
   "execution_count": 1,
   "metadata": {},
   "outputs": [],
   "source": [
    "import numpy as np\n",
    "import matplotlib.pyplot as plt\n",
    "import pandas as pd"
   ]
  },
  {
   "cell_type": "code",
   "execution_count": 2,
   "metadata": {},
   "outputs": [
    {
     "data": {
      "text/html": [
       "<div>\n",
       "<style scoped>\n",
       "    .dataframe tbody tr th:only-of-type {\n",
       "        vertical-align: middle;\n",
       "    }\n",
       "\n",
       "    .dataframe tbody tr th {\n",
       "        vertical-align: top;\n",
       "    }\n",
       "\n",
       "    .dataframe thead th {\n",
       "        text-align: right;\n",
       "    }\n",
       "</style>\n",
       "<table border=\"1\" class=\"dataframe\">\n",
       "  <thead>\n",
       "    <tr style=\"text-align: right;\">\n",
       "      <th></th>\n",
       "      <th>from</th>\n",
       "      <th>to</th>\n",
       "      <th>latency</th>\n",
       "    </tr>\n",
       "    <tr>\n",
       "      <th>datetime</th>\n",
       "      <th></th>\n",
       "      <th></th>\n",
       "      <th></th>\n",
       "    </tr>\n",
       "  </thead>\n",
       "  <tbody>\n",
       "    <tr>\n",
       "      <th>2024-07-03 20:00:41</th>\n",
       "      <td>eu-west-2</td>\n",
       "      <td>us-east-1</td>\n",
       "      <td>398</td>\n",
       "    </tr>\n",
       "    <tr>\n",
       "      <th>2024-07-03 20:00:47</th>\n",
       "      <td>eu-west-2</td>\n",
       "      <td>us-west-1</td>\n",
       "      <td>561</td>\n",
       "    </tr>\n",
       "    <tr>\n",
       "      <th>2024-07-03 20:00:50</th>\n",
       "      <td>eu-west-2</td>\n",
       "      <td>us-west-2</td>\n",
       "      <td>457</td>\n",
       "    </tr>\n",
       "    <tr>\n",
       "      <th>2024-07-03 20:00:54</th>\n",
       "      <td>eu-west-2</td>\n",
       "      <td>af-south-1</td>\n",
       "      <td>585</td>\n",
       "    </tr>\n",
       "    <tr>\n",
       "      <th>2024-07-03 20:00:58</th>\n",
       "      <td>eu-west-2</td>\n",
       "      <td>ap-south-2</td>\n",
       "      <td>555</td>\n",
       "    </tr>\n",
       "  </tbody>\n",
       "</table>\n",
       "</div>"
      ],
      "text/plain": [
       "                          from          to  latency\n",
       "datetime                                           \n",
       "2024-07-03 20:00:41  eu-west-2   us-east-1      398\n",
       "2024-07-03 20:00:47  eu-west-2   us-west-1      561\n",
       "2024-07-03 20:00:50  eu-west-2   us-west-2      457\n",
       "2024-07-03 20:00:54  eu-west-2  af-south-1      585\n",
       "2024-07-03 20:00:58  eu-west-2  ap-south-2      555"
      ]
     },
     "execution_count": 2,
     "metadata": {},
     "output_type": "execute_result"
    }
   ],
   "source": [
    "# AWS regions\n",
    "names = [\n",
    "    \"us-east-1\",      # US East (N. Virginia)\n",
    "    \"us-west-1\",      # US West (N. California)\n",
    "    \"us-west-2\",      # US West (Oregon)\n",
    "    \"af-south-1\",     # Africa (Cape Town)\n",
    "    \"ap-south-2\",     # Asia Pacific (Hyderabad)\n",
    "    \"ap-northeast-2\", # Asia Pacific (Seoul)\n",
    "    \"ap-southeast-2\", # Asia Pacific (Sydney)\n",
    "    \"ca-central-1\",   # Canada (Central)\n",
    "    \"eu-central-1\",   # Europe (Frankfurt)\n",
    "    \"eu-west-2\",      # Europe (London)\n",
    "    \"eu-west-3\",      # Europe (Paris)\n",
    "    \"eu-north-1\",     # Europe (Stockholm)\n",
    "    \"sa-east-1\",       # South America (São Paulo)\n",
    "    \"il-central-1\"    # Israel (Tel Aviv)\n",
    "]\n",
    "\n",
    "# load latency measurements from csv\n",
    "df = pd.read_csv(\"latencies.csv\", index_col=0)\n",
    "df.head()"
   ]
  },
  {
   "cell_type": "code",
   "execution_count": 3,
   "metadata": {},
   "outputs": [
    {
     "data": {
      "text/plain": [
       "<matplotlib.image.AxesImage at 0x276ccc74690>"
      ]
     },
     "execution_count": 3,
     "metadata": {},
     "output_type": "execute_result"
    },
    {
     "data": {
      "image/png": "[encoded data removed]",
      "text/plain": [
       "<Figure size 640x480 with 1 Axes>"
      ]
     },
     "metadata": {},
     "output_type": "display_data"
    }
   ],
   "source": [
    "# compute average and std dev of latencies between the AWS regions and store them in a matrix\n",
    "avg_distances = np.zeros((len(names), len(names)))\n",
    "std_dev_distances = np.zeros((len(names), len(names)))\n",
    "                     \n",
    "for from_region in names:\n",
    "    for to_region in names:\n",
    "        if from_region == to_region:\n",
    "            continue\n",
    "        # filter the dataframe to get the latencies between the two regions\n",
    "        latencies_from = df[(df['from'] == from_region) & (df['to'] == to_region)]['latency']\n",
    "        latencies_to = df[(df['from'] == to_region) & (df['to'] == from_region)]['latency']\n",
    "        # combine the two series\n",
    "        latencies = pd.concat([latencies_from, latencies_to])\n",
    "        # compute the average and std dev\n",
    "        avg_distances[names.index(from_region), names.index(to_region)] = latencies.mean()\n",
    "        avg_distances[names.index(to_region), names.index(from_region)] = latencies.mean()\n",
    "        std_dev_distances[names.index(from_region), names.index(to_region)] = latencies.std()\n",
    "        std_dev_distances[names.index(to_region), names.index(from_region)] = latencies.std()\n",
    "\n",
    "# plot the distance matrix\n",
    "plt.imshow(avg_distances, cmap='hot', interpolation='nearest')\n"
   ]
  },
  {
   "cell_type": "code",
   "execution_count": 4,
   "metadata": {},
   "outputs": [],
   "source": [
    "# use the FRT algorithm to embed a metric space into a hierarchically separated tree\n"
   ]
  },
  {
   "cell_type": "code",
   "execution_count": 42,
   "metadata": {},
   "outputs": [
    {
     "name": "stdout",
     "output_type": "stream",
     "text": [
      " ['ap-northeast-2', 'ap-south-2', 'sa-east-1', 'eu-west-2', 'us-west-2', 'us-east-1', 'ap-southeast-2', 'af-south-1', 'eu-north-1', 'eu-west-3', 'il-central-1', 'ca-central-1', 'us-west-1', 'eu-central-1']\n",
      "           ['ca-central-1', 'ap-northeast-2', 'ap-south-2', 'sa-east-1', 'eu-west-2', 'us-west-2', 'us-east-1', 'ap-southeast-2', 'af-south-1', 'eu-north-1', 'il-central-1', 'eu-west-3', 'us-west-1', 'eu-central-1']\n",
      "                     ['ap-northeast-2', 'sa-east-1', 'us-east-1', 'ap-southeast-2', 'il-central-1']\n",
      "                               ['sa-east-1']\n",
      "                                         ['O', 'F', 'F']\n",
      "                               ['il-central-1']\n",
      "                                         ['O', 'F', 'F']\n",
      "                               ['ap-northeast-2']\n",
      "                                         ['O', 'F', 'F']\n",
      "                               ['ap-southeast-2']\n",
      "                                         ['O', 'F', 'F']\n",
      "                               ['us-east-1']\n",
      "                                         ['O', 'F', 'F']\n",
      "                     ['ap-south-2', 'eu-west-2', 'us-west-2', 'af-south-1', 'eu-north-1', 'eu-west-3', 'us-west-1', 'eu-central-1']\n",
      "                               ['eu-west-3', 'eu-north-1']\n",
      "                                         ['eu-west-3', 'eu-north-1']\n",
      "                                                   ['eu-west-3']\n",
      "                                                             ['O', 'F', 'F']\n",
      "                                                   ['eu-north-1']\n",
      "                                                             ['O', 'F', 'F']\n",
      "                               ['eu-central-1', 'eu-west-2']\n",
      "                                         ['eu-west-2']\n",
      "                                                   ['O', 'F', 'F']\n",
      "                                         ['eu-central-1']\n",
      "                                                   ['O', 'F', 'F']\n",
      "                               ['us-west-2']\n",
      "                                         ['O', 'F', 'F']\n",
      "                               ['af-south-1']\n",
      "                                         ['O', 'F', 'F']\n",
      "                               ['us-west-1']\n",
      "                                         ['O', 'F', 'F']\n",
      "                               ['ap-south-2']\n",
      "                                         ['O', 'F', 'F']\n",
      "                     ['ca-central-1']\n",
      "                               ['O', 'F', 'F']\n"
     ]
    }
   ],
   "source": [
    "import random\n",
    "import math\n",
    "from collections import defaultdict\n",
    "\n",
    "class Node:\n",
    "    def __init__(self, point):\n",
    "        self.point = point\n",
    "        self.children = []\n",
    "\n",
    "class Tree:\n",
    "    def __init__(self, root):\n",
    "        self.root = root\n",
    "\n",
    "def distance(point1, point2):\n",
    "    return avg_distances[names.index(point1), names.index(point2)]\n",
    "\n",
    "def random_partition(points, radius):\n",
    "    \"\"\"\n",
    "    Randomly partition the points based on a given radius.\n",
    "    \"\"\"\n",
    "    clusters = defaultdict(list)\n",
    "    # Select a random center\n",
    "    center = random.choice(points)\n",
    "    for point in points:\n",
    "        d = distance(center, point)\n",
    "        if d < radius:\n",
    "            clusters[center].append(point)\n",
    "    return clusters\n",
    "\n",
    "def build_tree(points, radius):\n",
    "    if not points:\n",
    "        return None\n",
    "\n",
    "    partitions = random_partition(points, radius)\n",
    "    root = Node(None)\n",
    "    for center, cluster in partitions.items():\n",
    "        if cluster:\n",
    "            child = build_tree(cluster, radius / 2)\n",
    "            root.children.append(child)\n",
    "    return root\n",
    "\n",
    "def ball(points, point, radius):\n",
    "    \"\"\"\n",
    "    Return the set of points within the ball of the given radius centered at the given point.\n",
    "    \"\"\"\n",
    "    point_set = set()\n",
    "    for p in points:\n",
    "        d = distance(point, p)\n",
    "        if d <= radius:\n",
    "            point_set.add(p)\n",
    "    return point_set\n",
    "\n",
    "def diameter(points):\n",
    "    return max(distance(p1, p2) for p1 in points for p2 in points)\n",
    "\n",
    "def frt_algorithm(points):\n",
    "    diam = diameter(points)\n",
    "    n = len(points)\n",
    "    log_delta = np.ceil(np.log2(diam))\n",
    "\n",
    "    # permute the points and save them in pi\n",
    "    pi = np.random.permutation(points)\n",
    "\n",
    "    # choose r_0\n",
    "    radius_0 = np.random.uniform(0.5, 1)\n",
    "    radius_0 = 1\n",
    "    radii = [radius_0 * 2**i for i in range(1, int(log_delta) + 1)]\n",
    "\n",
    "    # set of nodes at each level (dict)\n",
    "    levels = defaultdict(list)\n",
    "    ancestors = defaultdict(list)\n",
    "    edgeweights = defaultdict(float)\n",
    "    levels[log_delta] = [frozenset(points)]\n",
    "    ancestors[log_delta] = None\n",
    "    end = 1\n",
    "\n",
    "    for i in reversed(range(1, int(log_delta)+1)):\n",
    "        # get the sets of nodes at level i\n",
    "        Cs = levels[i]\n",
    "        # if the length of Cs is n, we are done\n",
    "        if len(Cs) == n:\n",
    "            end = i\n",
    "            break\n",
    "        # print(\"i: {}, Cs: {}\".format(i,Cs))\n",
    "        for C in Cs:\n",
    "            # print(\"i: {}, C: {}\".format(i,C))\n",
    "            S = C.copy()\n",
    "            for j in range(0, n):\n",
    "                B = ball(points, pi[j], radii[i-1])\n",
    "                # print(\"i: {}, C: {}, radius: {}, B: {}\".format(i, C, radii[i-1], B))\n",
    "                P = S.intersection(B)\n",
    "                # if P is not empty...\n",
    "                if len(P) > 0:\n",
    "                    S = S.difference(P)\n",
    "                    # add P to T as a child of C at level i-1\n",
    "                    levels[i-1].append(frozenset(P))\n",
    "                    ancestors[i-1].append(frozenset(C))\n",
    "        edgeweights[i-1] = radii[i-1]\n",
    "\n",
    "    # build the tree\n",
    "    root = Node(frozenset(points))\n",
    "    tree = Tree(root)\n",
    "    cur_level = [root]\n",
    "    completed = set()\n",
    "    for i in reversed(range(end, int(log_delta))):\n",
    "        next_level = []\n",
    "        for C, parent in zip(levels[i], ancestors[i]):\n",
    "            # get parent node from current level\n",
    "            parent_node = None\n",
    "            for node in cur_level:\n",
    "                if node.point == parent:\n",
    "                    parent_node = node\n",
    "                    break\n",
    "            # check if the parent and C are identical with length 1\n",
    "            if parent == C and len(C) == 1:\n",
    "                continue\n",
    "            # create a new node\n",
    "            new_node = Node(C)\n",
    "            parent_node.children.append(new_node)\n",
    "            next_level.append(new_node)\n",
    "            # if C has length one, add it to the completed set and add an OFF state\n",
    "            if len(C) == 1:\n",
    "                completed.add(C)\n",
    "                leaf_node = Node(\"OFF\")\n",
    "                new_node.children.append(leaf_node)\n",
    "        cur_level = next_level\n",
    "    \n",
    "    return tree, edgeweights, log_delta\n",
    "    \n",
    "\n",
    "# Example usage:\n",
    "points = names\n",
    "# levels, ancestors = frt_algorithm(points)\n",
    "tree, weights, levels = frt_algorithm(points)\n",
    "\n",
    "def print_tree(node, level=0):\n",
    "    if node:\n",
    "        print(' ' * level * 10, str(list(node.point)))\n",
    "        for child in node.children:\n",
    "            print_tree(child, level + 1)\n",
    "\n",
    "print_tree(tree.root)\n",
    "# print(tree.root.children)"
   ]
  },
  {
   "cell_type": "code",
   "execution_count": 39,
   "metadata": {},
   "outputs": [
    {
     "name": "stdout",
     "output_type": "stream",
     "text": [
      "defaultdict(<class 'float'>, {9: 1024, 8: 512, 7: 256, 6: 128, 5: 64})\n"
     ]
    }
   ],
   "source": [
    "print(weights)"
   ]
  },
  {
   "cell_type": "code",
   "execution_count": 43,
   "metadata": {},
   "outputs": [],
   "source": [
    "weight_vector = [0]\n",
    "# iterate through the tree using breadth first search, each time we encounter a node, we add the weight of the preceding edge to the weight vector\n",
    "queue = [tree.root]\n",
    "level_queue = [levels]\n",
    "tau = 1\n",
    "while queue:\n",
    "    node = queue.pop(0)\n",
    "    level = level_queue.pop(0)\n",
    "    for child in node.children:\n",
    "        if len(node.children) == 1 and child.point == \"OFF\":\n",
    "            queue.append(child)\n",
    "            level_queue.append(level-1)\n",
    "            weight_vector.append(tau)\n",
    "        else:\n",
    "            queue.append(child)\n",
    "            level_queue.append(level-1)\n",
    "            weight_vector.append(weights[level-1])"
   ]
  },
  {
   "cell_type": "code",
   "execution_count": 44,
   "metadata": {},
   "outputs": [
    {
     "name": "stdout",
     "output_type": "stream",
     "text": [
      "[0, 1024, 512, 512, 512, 256, 256, 256, 256, 256, 256, 256, 256, 256, 256, 256, 1, 1, 1, 1, 1, 1, 128, 128, 128, 1, 1, 1, 1, 64, 64, 1, 1, 1, 1]\n"
     ]
    }
   ],
   "source": [
    "print(weight_vector)"
   ]
  },
  {
   "cell_type": "code",
   "execution_count": 50,
   "metadata": {},
   "outputs": [],
   "source": [
    "c_vector = [0]\n",
    "name_vector = []\n",
    "# iterate through the tree using breadth first search, each time we encounter a node, we add a 1 to the c vector if it is an ON node, otherwise we add a 0\n",
    "queue = [tree.root]\n",
    "level_queue = [levels]\n",
    "while queue:\n",
    "    node = queue.pop(0)\n",
    "    level = level_queue.pop(0)\n",
    "    for child in node.children:\n",
    "        queue.append(child)\n",
    "        level_queue.append(level-1)\n",
    "        if len(child.point) == 1:\n",
    "            c_vector.append(1)\n",
    "            name_vector.append(list(child.point)[0])\n",
    "        else:\n",
    "            c_vector.append(0)\n",
    "            string = \"\"\n",
    "            if child.point == \"OFF\":\n",
    "                string = list(node.point)[0] + \" OFF\"\n",
    "            name_vector.append(string)"
   ]
  },
  {
   "cell_type": "code",
   "execution_count": 51,
   "metadata": {},
   "outputs": [
    {
     "name": "stdout",
     "output_type": "stream",
     "text": [
      "[0, 0, 0, 0, 1, 1, 1, 1, 1, 1, 0, 0, 1, 1, 1, 1, 0, 0, 0, 0, 0, 0, 0, 1, 1, 0, 0, 0, 0, 1, 1, 0, 0, 0, 0]\n",
      "['', '', '', 'ca-central-1', 'sa-east-1', 'il-central-1', 'ap-northeast-2', 'ap-southeast-2', 'us-east-1', '', '', 'us-west-2', 'af-south-1', 'us-west-1', 'ap-south-2', 'ca-central-1 OFF', 'sa-east-1 OFF', 'il-central-1 OFF', 'ap-northeast-2 OFF', 'ap-southeast-2 OFF', 'us-east-1 OFF', '', 'eu-west-2', 'eu-central-1', 'us-west-2 OFF', 'af-south-1 OFF', 'us-west-1 OFF', 'ap-south-2 OFF', 'eu-west-3', 'eu-north-1', 'eu-west-2 OFF', 'eu-central-1 OFF', 'eu-west-3 OFF', 'eu-north-1 OFF']\n"
     ]
    }
   ],
   "source": [
    "print(c_vector)\n",
    "print(name_vector)"
   ]
  },
  {
   "cell_type": "code",
   "execution_count": 7,
   "metadata": {},
   "outputs": [
    {
     "name": "stdout",
     "output_type": "stream",
     "text": [
      "frozenset({'ca-central-1', 'ap-northeast-2', 'ap-south-2', 'sa-east-1', 'eu-west-2', 'us-west-2', 'us-east-1', 'ap-southeast-2', 'af-south-1', 'eu-north-1', 'il-central-1', 'eu-west-3', 'us-west-1', 'eu-central-1'})\n"
     ]
    },
    {
     "data": {
      "text/plain": [
       "1240.4332736567735"
      ]
     },
     "execution_count": 7,
     "metadata": {},
     "output_type": "execute_result"
    }
   ],
   "source": [
    "def distance_in_tree(tree, weights, levels, point1, point2):\n",
    "    # search for shortest path between point1 and point2 in the tree\n",
    "    # first, find the lowest (in terms of level) node which contains both point1 and point2 in name\n",
    "    level = levels\n",
    "    root = tree.root\n",
    "    prev_root = None\n",
    "    while root != prev_root:\n",
    "        prev_root = root\n",
    "        for child in root.children:\n",
    "            if point1 in child.point and point2 in child.point:\n",
    "                level = level - 1\n",
    "                root = child\n",
    "                break\n",
    "    \n",
    "    print(root.point)\n",
    "    # print(weights[level-1])\n",
    "\n",
    "    # now, we have the lowest common ancestor of point1 and point2\n",
    "    # we can compute the distance between point1 and point2 by summing the weights of the edges from point1 to the LCA and from the LCA to point2\n",
    "    distance_to_point1 = weights[level-1]\n",
    "    distance_to_point2 = weights[level-1]\n",
    "    found_point1 = False\n",
    "    found_point2 = False\n",
    "    root_point1 = root\n",
    "    root_point2 = root\n",
    "    level_point1 = level-2\n",
    "    level_point2 = level-2\n",
    "    while not found_point1:\n",
    "        for child in root_point1.children:\n",
    "            if str(list(child.point)) == \"['{}']\".format(point1):\n",
    "                found_point1 = True\n",
    "                break\n",
    "            if point1 in child.point:\n",
    "                root_point1 = child\n",
    "                distance_to_point1 += weights[level_point1]\n",
    "                break\n",
    "        level_point1 -= 1\n",
    "    while not found_point2:\n",
    "        for child in root_point2.children:\n",
    "            if str(list(child.point)) == \"['{}']\".format(point2):\n",
    "                found_point2 = True\n",
    "                break\n",
    "            if point2 in child.point:\n",
    "                root_point2 = child\n",
    "                distance_to_point2 += weights[level_point2]\n",
    "                break\n",
    "        level_point2 -= 1\n",
    "    return distance_to_point1 + distance_to_point2\n",
    "\n",
    "\n",
    "distance_in_tree(tree, weights, levels, \"us-east-1\", \"us-west-1\")"
   ]
  },
  {
   "cell_type": "code",
   "execution_count": 8,
   "metadata": {},
   "outputs": [
    {
     "data": {
      "text/plain": [
       "30.458839376460833"
      ]
     },
     "execution_count": 8,
     "metadata": {},
     "output_type": "execute_result"
    }
   ],
   "source": [
    "8*np.log2(14)"
   ]
  },
  {
   "cell_type": "code",
   "execution_count": 664,
   "metadata": {},
   "outputs": [
    {
     "data": {
      "text/plain": [
       "221.0427046263345"
      ]
     },
     "execution_count": 664,
     "metadata": {},
     "output_type": "execute_result"
    },
    {
     "ename": "",
     "evalue": "",
     "output_type": "error",
     "traceback": [
      "\u001b[1;31mThe Kernel crashed while executing code in the current cell or a previous cell. \n",
      "\u001b[1;31mPlease review the code in the cell(s) to identify a possible cause of the failure. \n",
      "\u001b[1;31mClick <a href='https://aka.ms/vscodeJupyterKernelCrash'>here</a> for more info. \n",
      "\u001b[1;31mView Jupyter <a href='command:jupyter.viewOutput'>log</a> for further details."
     ]
    }
   ],
   "source": [
    "distance(\"us-east-1\", \"us-west-1\")"
   ]
  },
  {
   "cell_type": "code",
   "execution_count": null,
   "metadata": {},
   "outputs": [],
   "source": [
    "# use a vector notation to represent the tree as a convex set\n",
    "# define a weighted L1 norm on this vector space to represent the distance between two points in the tree\n",
    "\n",
    "def vectorize_tree(tree, weights, levels):\n",
    "    # vectorize the tree\n",
    "    # first, we need to know the number of nodes in the tree\n",
    "    n = 0\n",
    "    for i in range(1, levels+1):\n",
    "        n += len(tree.root.children) ** i\n",
    "    # now, we can create the vector\n",
    "    vector = np.zeros(n)\n",
    "    # now, we can fill the vector\n",
    "    def fill_vector(node, level, index):\n",
    "        if node:\n",
    "            vector[index] = 1\n",
    "            for child in node.children:\n",
    "                fill_vector(child, level + 1, index + 1)\n",
    "    fill_vector(tree.root, 0, 0)\n",
    "    return vector"
   ]
  }
 ],
 "metadata": {
  "kernelspec": {
   "display_name": "base",
   "language": "python",
   "name": "python3"
  },
  "language_info": {
   "codemirror_mode": {
    "name": "ipython",
    "version": 3
   },
   "file_extension": ".py",
   "mimetype": "text/x-python",
   "name": "python",
   "nbconvert_exporter": "python",
   "pygments_lexer": "ipython3",
   "version": "3.11.4"
  }
 },
 "nbformat": 4,
 "nbformat_minor": 2
}
