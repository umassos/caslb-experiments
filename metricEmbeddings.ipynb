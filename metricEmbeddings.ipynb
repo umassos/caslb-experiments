{
 "cells": [
  {
   "cell_type": "code",
   "execution_count": 1,
   "metadata": {},
   "outputs": [],
   "source": [
    "import numpy as np\n",
    "import matplotlib.pyplot as plt\n",
    "import pandas as pd"
   ]
  },
  {
   "cell_type": "code",
   "execution_count": 2,
   "metadata": {},
   "outputs": [
    {
     "data": {
      "text/html": [
       "<div>\n",
       "<style scoped>\n",
       "    .dataframe tbody tr th:only-of-type {\n",
       "        vertical-align: middle;\n",
       "    }\n",
       "\n",
       "    .dataframe tbody tr th {\n",
       "        vertical-align: top;\n",
       "    }\n",
       "\n",
       "    .dataframe thead th {\n",
       "        text-align: right;\n",
       "    }\n",
       "</style>\n",
       "<table border=\"1\" class=\"dataframe\">\n",
       "  <thead>\n",
       "    <tr style=\"text-align: right;\">\n",
       "      <th></th>\n",
       "      <th>from</th>\n",
       "      <th>to</th>\n",
       "      <th>latency</th>\n",
       "    </tr>\n",
       "    <tr>\n",
       "      <th>datetime</th>\n",
       "      <th></th>\n",
       "      <th></th>\n",
       "      <th></th>\n",
       "    </tr>\n",
       "  </thead>\n",
       "  <tbody>\n",
       "    <tr>\n",
       "      <th>2024-07-03 20:00:41</th>\n",
       "      <td>eu-west-2</td>\n",
       "      <td>us-east-1</td>\n",
       "      <td>398</td>\n",
       "    </tr>\n",
       "    <tr>\n",
       "      <th>2024-07-03 20:00:47</th>\n",
       "      <td>eu-west-2</td>\n",
       "      <td>us-west-1</td>\n",
       "      <td>561</td>\n",
       "    </tr>\n",
       "    <tr>\n",
       "      <th>2024-07-03 20:00:50</th>\n",
       "      <td>eu-west-2</td>\n",
       "      <td>us-west-2</td>\n",
       "      <td>457</td>\n",
       "    </tr>\n",
       "    <tr>\n",
       "      <th>2024-07-03 20:00:54</th>\n",
       "      <td>eu-west-2</td>\n",
       "      <td>af-south-1</td>\n",
       "      <td>585</td>\n",
       "    </tr>\n",
       "    <tr>\n",
       "      <th>2024-07-03 20:00:58</th>\n",
       "      <td>eu-west-2</td>\n",
       "      <td>ap-south-2</td>\n",
       "      <td>555</td>\n",
       "    </tr>\n",
       "  </tbody>\n",
       "</table>\n",
       "</div>"
      ],
      "text/plain": [
       "                          from          to  latency\n",
       "datetime                                           \n",
       "2024-07-03 20:00:41  eu-west-2   us-east-1      398\n",
       "2024-07-03 20:00:47  eu-west-2   us-west-1      561\n",
       "2024-07-03 20:00:50  eu-west-2   us-west-2      457\n",
       "2024-07-03 20:00:54  eu-west-2  af-south-1      585\n",
       "2024-07-03 20:00:58  eu-west-2  ap-south-2      555"
      ]
     },
     "execution_count": 2,
     "metadata": {},
     "output_type": "execute_result"
    }
   ],
   "source": [
    "# AWS regions\n",
    "names = [\n",
    "    \"us-east-1\",      # US East (N. Virginia)\n",
    "    \"us-west-1\",      # US West (N. California)\n",
    "    \"us-west-2\",      # US West (Oregon)\n",
    "    \"af-south-1\",     # Africa (Cape Town)\n",
    "    \"ap-south-2\",     # Asia Pacific (Hyderabad)\n",
    "    \"ap-northeast-2\", # Asia Pacific (Seoul)\n",
    "    \"ap-southeast-2\", # Asia Pacific (Sydney)\n",
    "    \"ca-central-1\",   # Canada (Central)\n",
    "    \"eu-central-1\",   # Europe (Frankfurt)\n",
    "    \"eu-west-2\",      # Europe (London)\n",
    "    \"eu-west-3\",      # Europe (Paris)\n",
    "    \"eu-north-1\",     # Europe (Stockholm)\n",
    "    \"sa-east-1\",       # South America (São Paulo)\n",
    "    \"il-central-1\"    # Israel (Tel Aviv)\n",
    "]\n",
    "\n",
    "# load latency measurements from csv\n",
    "df = pd.read_csv(\"latencies.csv\", index_col=0)\n",
    "df.head()"
   ]
  },
  {
   "cell_type": "code",
   "execution_count": 3,
   "metadata": {},
   "outputs": [
    {
     "name": "stdout",
     "output_type": "stream",
     "text": [
      "[[  0.          44.05142297  74.07929527 378.39063531 377.07072201\n",
      "  113.90238468 219.25308095 466.80996428  55.70629656  54.24779669\n",
      "   53.06154437  61.31922514  58.60473872 137.54134718]\n",
      " [ 44.05142297   0.         267.79762911  81.09649831 424.46866093\n",
      "   60.20592643  66.44234427  54.21164527  68.81032431  61.65607604\n",
      "   64.36720025  98.3628731   81.82543429 367.65917856]\n",
      " [ 74.07929527 267.79762911   0.          81.71828885 430.6431515\n",
      "   71.35498406  73.74816628  63.62826343  81.42671816  69.84131359\n",
      "   71.87740783 102.40846791 103.46441217 380.34038306]\n",
      " [378.39063531  81.09649831  81.71828885   0.         180.49561224\n",
      "  132.65753359 132.45065412 446.27644786  77.23694522  73.1047403\n",
      "   72.41683298 120.15434386  75.30614098 393.49853542]\n",
      " [377.07072201 424.46866093 430.6431515  180.49561224   0.\n",
      "   75.66225749  69.80928209 424.09862565  94.9015416  101.62122598\n",
      "   97.08986181 105.86780811 105.61629815 381.80943496]\n",
      " [113.90238468  60.20592643  71.35498406 132.65753359  75.66225749\n",
      "    0.          72.48992332 111.02154709 297.60355748 180.65018444\n",
      "  102.37863365  85.75942987  66.13258266 265.65699362]\n",
      " [219.25308095  66.44234427  73.74816628 132.45065412  69.80928209\n",
      "   72.48992332   0.         158.5340757   81.02174469  87.71860624\n",
      "   77.08794928  90.31371263  77.36254349 211.34022961]\n",
      " [466.80996428  54.21164527  63.62826343 446.27644786 424.09862565\n",
      "  111.02154709 158.5340757    0.          57.1256322   56.67832891\n",
      "   60.31775521  62.22617112  57.94860698  88.75637295]\n",
      " [ 55.70629656  68.81032431  81.42671816  77.23694522  94.9015416\n",
      "  297.60355748  81.02174469  57.1256322    0.         369.42845878\n",
      "  468.08203633 306.84230819 260.79610718  75.24706509]\n",
      " [ 54.24779669  61.65607604  69.84131359  73.1047403  101.62122598\n",
      "  180.65018444  87.71860624  56.67832891 369.42845878   0.\n",
      "  457.50976537  58.6424715   93.7785106   58.36275368]\n",
      " [ 53.06154437  64.36720025  71.87740783  72.41683298  97.08986181\n",
      "  102.37863365  77.08794928  60.31775521 468.08203633 457.50976537\n",
      "    0.         103.43426159 145.43484963  57.99821179]\n",
      " [ 61.31922514  98.3628731  102.40846791 120.15434386 105.86780811\n",
      "   85.75942987  90.31371263  62.22617112 306.84230819  58.6424715\n",
      "  103.43426159   0.         458.28155291  89.34095142]\n",
      " [ 58.60473872  81.82543429 103.46441217  75.30614098 105.61629815\n",
      "   66.13258266  77.36254349  57.94860698 260.79610718  93.7785106\n",
      "  145.43484963 458.28155291   0.         238.37607652]\n",
      " [137.54134718 367.65917856 380.34038306 393.49853542 381.80943496\n",
      "  265.65699362 211.34022961  88.75637295  75.24706509  58.36275368\n",
      "   57.99821179  89.34095142 238.37607652   0.        ]]\n"
     ]
    },
    {
     "data": {
      "image/png": "[encoded data removed]",
      "text/plain": [
       "<Figure size 640x480 with 1 Axes>"
      ]
     },
     "metadata": {},
     "output_type": "display_data"
    }
   ],
   "source": [
    "# compute average and std dev of latencies between the AWS regions and store them in a matrix\n",
    "avg_distances = np.zeros((len(names), len(names)))\n",
    "std_dev_distances = np.zeros((len(names), len(names)))\n",
    "                     \n",
    "for from_region in names:\n",
    "    for to_region in names:\n",
    "        if from_region == to_region:\n",
    "            continue\n",
    "        # filter the dataframe to get the latencies between the two regions\n",
    "        latencies_from = df[(df['from'] == from_region) & (df['to'] == to_region)]['latency']\n",
    "        latencies_to = df[(df['from'] == to_region) & (df['to'] == from_region)]['latency']\n",
    "        # combine the two series\n",
    "        latencies = pd.concat([latencies_from, latencies_to])\n",
    "        # compute the average and std dev\n",
    "        avg_distances[names.index(from_region), names.index(to_region)] = latencies.mean()\n",
    "        avg_distances[names.index(to_region), names.index(from_region)] = latencies.mean()\n",
    "        std_dev_distances[names.index(from_region), names.index(to_region)] = latencies.std()\n",
    "        std_dev_distances[names.index(to_region), names.index(from_region)] = latencies.std()\n",
    "\n",
    "# plot the distance matrix\n",
    "plt.imshow(avg_distances, cmap='hot', interpolation='nearest')\n",
    "\n",
    "# print the standard deviation matrix\n",
    "print(std_dev_distances)"
   ]
  },
  {
   "cell_type": "code",
   "execution_count": 5,
   "metadata": {},
   "outputs": [
    {
     "name": "stdout",
     "output_type": "stream",
     "text": [
      " ['us-east-1', 'ap-southeast-2', 'af-south-1', 'eu-central-1', 'eu-west-3', 'us-west-2', 'ap-northeast-2', 'ap-south-2', 'eu-west-2', 'ca-central-1', 'sa-east-1', 'il-central-1', 'us-west-1', 'eu-north-1']\n",
      "           ['us-east-1', 'ap-southeast-2', 'us-west-1', 'af-south-1', 'eu-central-1', 'us-west-2', 'ap-northeast-2', 'ap-south-2', 'eu-west-2', 'ca-central-1', 'sa-east-1', 'il-central-1', 'eu-west-3', 'eu-north-1']\n",
      "                     ['us-east-1', 'us-west-1', 'af-south-1', 'eu-central-1', 'us-west-2', 'eu-west-2', 'ca-central-1', 'sa-east-1', 'eu-west-3', 'eu-north-1']\n",
      "                               ['us-west-1', 'us-east-1']\n",
      "                                         ['us-east-1']\n",
      "                                                   ['O', 'F', 'F']\n",
      "                                         ['us-west-1']\n",
      "                                                   ['O', 'F', 'F']\n",
      "                               ['eu-west-3', 'eu-west-2', 'eu-central-1', 'eu-north-1']\n",
      "                                         ['eu-north-1', 'eu-west-2']\n",
      "                                                   ['eu-west-2']\n",
      "                                                             ['O', 'F', 'F']\n",
      "                                                   ['eu-north-1']\n",
      "                                                             ['O', 'F', 'F']\n",
      "                                         ['eu-west-3']\n",
      "                                                   ['O', 'F', 'F']\n",
      "                                         ['eu-central-1']\n",
      "                                                   ['O', 'F', 'F']\n",
      "                               ['af-south-1']\n",
      "                                         ['O', 'F', 'F']\n",
      "                               ['sa-east-1']\n",
      "                                         ['O', 'F', 'F']\n",
      "                               ['ca-central-1', 'us-west-2']\n",
      "                                         ['ca-central-1']\n",
      "                                                   ['O', 'F', 'F']\n",
      "                                         ['us-west-2']\n",
      "                                                   ['O', 'F', 'F']\n",
      "                     ['il-central-1', 'ap-southeast-2', 'ap-northeast-2', 'ap-south-2']\n",
      "                               ['il-central-1']\n",
      "                                         ['O', 'F', 'F']\n",
      "                               ['ap-northeast-2']\n",
      "                                         ['O', 'F', 'F']\n",
      "                               ['ap-southeast-2']\n",
      "                                         ['O', 'F', 'F']\n",
      "                               ['ap-south-2']\n",
      "                                         ['O', 'F', 'F']\n"
     ]
    }
   ],
   "source": [
    "import random\n",
    "import math\n",
    "from collections import defaultdict\n",
    "\n",
    "# use the FRT algorithm to embed a metric space into a hierarchically separated tree\n",
    "\n",
    "class Node:\n",
    "    def __init__(self, point):\n",
    "        self.point = point\n",
    "        self.children = []\n",
    "\n",
    "class Tree:\n",
    "    def __init__(self, root):\n",
    "        self.root = root\n",
    "\n",
    "def distance(point1, point2):\n",
    "    return avg_distances[names.index(point1), names.index(point2)]\n",
    "\n",
    "def ball(points, point, radius):\n",
    "    \"\"\"\n",
    "    Return the set of points within the ball of the given radius centered at the given point.\n",
    "    \"\"\"\n",
    "    point_set = set()\n",
    "    for p in points:\n",
    "        d = distance(point, p)\n",
    "        if d <= radius:\n",
    "            point_set.add(p)\n",
    "    return point_set\n",
    "\n",
    "def diameter(points):\n",
    "    return max(distance(p1, p2) for p1 in points for p2 in points)\n",
    "\n",
    "def frt_algorithm(points):\n",
    "    diam = diameter(points)\n",
    "    n = len(points)\n",
    "    log_delta = np.ceil(np.log2(diam))\n",
    "\n",
    "    # permute the points and save them in pi\n",
    "    pi = np.random.permutation(points)\n",
    "\n",
    "    # choose r_0\n",
    "    radius_0 = np.random.uniform(0.5, 1)\n",
    "    radius_0 = 1\n",
    "    radii = [radius_0 * 2**i for i in range(1, int(log_delta) + 1)]\n",
    "\n",
    "    # set of nodes at each level (dict)\n",
    "    levels = defaultdict(list)\n",
    "    ancestors = defaultdict(list)\n",
    "    edgeweights = defaultdict(float)\n",
    "    levels[log_delta] = [frozenset(points)]\n",
    "    ancestors[log_delta] = None\n",
    "    end = 1\n",
    "\n",
    "    for i in reversed(range(1, int(log_delta)+1)):\n",
    "        # get the sets of nodes at level i\n",
    "        Cs = levels[i]\n",
    "        # if the length of Cs is n, we are done\n",
    "        if len(Cs) == n:\n",
    "            end = i\n",
    "            break\n",
    "        # print(\"i: {}, Cs: {}\".format(i,Cs))\n",
    "        for C in Cs:\n",
    "            # print(\"i: {}, C: {}\".format(i,C))\n",
    "            S = C.copy()\n",
    "            for j in range(0, n):\n",
    "                B = ball(points, pi[j], radii[i-1])\n",
    "                # print(\"i: {}, C: {}, radius: {}, B: {}\".format(i, C, radii[i-1], B))\n",
    "                P = S.intersection(B)\n",
    "                # if P is not empty...\n",
    "                if len(P) > 0:\n",
    "                    S = S.difference(P)\n",
    "                    # add P to T as a child of C at level i-1\n",
    "                    levels[i-1].append(frozenset(P))\n",
    "                    ancestors[i-1].append(frozenset(C))\n",
    "        edgeweights[i-1] = radii[i-1]\n",
    "\n",
    "    # build the tree\n",
    "    root = Node(frozenset(points))\n",
    "    tree = Tree(root)\n",
    "    cur_level = [root]\n",
    "    completed = set()\n",
    "    for i in reversed(range(end, int(log_delta))):\n",
    "        next_level = []\n",
    "        for C, parent in zip(levels[i], ancestors[i]):\n",
    "            # get parent node from current level\n",
    "            parent_node = None\n",
    "            for node in cur_level:\n",
    "                if node.point == parent:\n",
    "                    parent_node = node\n",
    "                    break\n",
    "            # check if the parent and C are identical with length 1\n",
    "            if parent == C and len(C) == 1:\n",
    "                continue\n",
    "            # create a new node\n",
    "            new_node = Node(C)\n",
    "            parent_node.children.append(new_node)\n",
    "            next_level.append(new_node)\n",
    "            # if C has length one, add it to the completed set and add an OFF state\n",
    "            if len(C) == 1:\n",
    "                completed.add(C)\n",
    "                leaf_node = Node(\"OFF\")\n",
    "                new_node.children.append(leaf_node)\n",
    "        cur_level = next_level\n",
    "    \n",
    "    return tree, edgeweights, log_delta\n",
    "    \n",
    "\n",
    "# Example usage:\n",
    "points = names\n",
    "# levels, ancestors = frt_algorithm(points)\n",
    "tree, weights, levels = frt_algorithm(points)\n",
    "\n",
    "def print_tree(node, level=0):\n",
    "    if node:\n",
    "        print(' ' * level * 10, str(list(node.point)))\n",
    "        for child in node.children:\n",
    "            print_tree(child, level + 1)\n",
    "\n",
    "print_tree(tree.root)\n",
    "# print(tree.root.children)"
   ]
  },
  {
   "cell_type": "code",
   "execution_count": 43,
   "metadata": {},
   "outputs": [
    {
     "name": "stdout",
     "output_type": "stream",
     "text": [
      "defaultdict(<class 'float'>, {9: 1024, 8: 512, 7: 256, 6: 128, 5: 64, 4.0: 0.0})\n",
      "[0, 1024, 512, 512, 256, 256, 256, 256, 256, 256, 256, 256, 256, 128, 128, 128, 128, 128, 1, 1, 128, 128, 1, 1, 1, 1, 1, 1, 64, 64, 1, 1, 1, 1, 1, 1]\n"
     ]
    }
   ],
   "source": [
    "print(weights)"
   ]
  },
  {
   "cell_type": "code",
   "execution_count": 42,
   "metadata": {},
   "outputs": [],
   "source": [
    "weight_vector = [0]\n",
    "# iterate through the tree using breadth first search, each time we encounter a node, we add the weight of the preceding edge to the weight vector\n",
    "queue = [tree.root]\n",
    "level_queue = [levels]\n",
    "tau = 1\n",
    "while queue:\n",
    "    node = queue.pop(0)\n",
    "    level = level_queue.pop(0)\n",
    "    for child in node.children:\n",
    "        if len(node.children) == 1 and child.point == \"OFF\":\n",
    "            queue.append(child)\n",
    "            level_queue.append(level-1)\n",
    "            weight_vector.append(tau)\n",
    "        else:\n",
    "            queue.append(child)\n",
    "            level_queue.append(level-1)\n",
    "            weight_vector.append(weights[level-1])"
   ]
  },
  {
   "cell_type": "code",
   "execution_count": 44,
   "metadata": {},
   "outputs": [
    {
     "name": "stdout",
     "output_type": "stream",
     "text": [
      "[0, 1024, 512, 512, 256, 256, 256, 256, 256, 256, 256, 256, 256, 128, 128, 128, 128, 128, 1, 1, 128, 128, 1, 1, 1, 1, 1, 1, 64, 64, 1, 1, 1, 1, 1, 1]\n"
     ]
    }
   ],
   "source": [
    "print(weight_vector)"
   ]
  },
  {
   "cell_type": "code",
   "execution_count": 102,
   "metadata": {},
   "outputs": [],
   "source": [
    "c_vector = [0]\n",
    "name_vector = [\"root\"]\n",
    "# iterate through the tree using breadth first search, each time we encounter a node, we add a 1 to the c vector if it is an ON node, otherwise we add a 0\n",
    "queue = [tree.root]\n",
    "level_queue = [levels]\n",
    "while queue:\n",
    "    node = queue.pop(0)\n",
    "    level = level_queue.pop(0)\n",
    "    for child in node.children:\n",
    "        queue.append(child)\n",
    "        level_queue.append(level-1)\n",
    "        if len(child.point) == 1:\n",
    "            c_vector.append(1)\n",
    "            name_vector.append(list(child.point)[0])\n",
    "        else:\n",
    "            c_vector.append(0)\n",
    "            string = str(list(node.point))\n",
    "            if child.point == \"OFF\":\n",
    "                string = list(node.point)[0] + \" OFF\"\n",
    "            name_vector.append(string)"
   ]
  },
  {
   "cell_type": "code",
   "execution_count": 103,
   "metadata": {},
   "outputs": [
    {
     "name": "stdout",
     "output_type": "stream",
     "text": [
      "[0, 0, 0, 0, 0, 0, 1, 1, 0, 1, 1, 1, 1, 1, 1, 0, 1, 1, 0, 0, 1, 1, 0, 0, 0, 0, 0, 0, 1, 1, 0, 0, 0, 0, 0, 0]\n",
      "['root', \"['us-east-1', 'ap-southeast-2', 'af-south-1', 'eu-central-1', 'eu-west-3', 'us-west-2', 'ap-northeast-2', 'ap-south-2', 'eu-west-2', 'ca-central-1', 'sa-east-1', 'il-central-1', 'us-west-1', 'eu-north-1']\", \"['us-east-1', 'ap-southeast-2', 'us-west-1', 'af-south-1', 'eu-central-1', 'us-west-2', 'ap-northeast-2', 'ap-south-2', 'eu-west-2', 'ca-central-1', 'sa-east-1', 'il-central-1', 'eu-west-3', 'eu-north-1']\", \"['us-east-1', 'ap-southeast-2', 'us-west-1', 'af-south-1', 'eu-central-1', 'us-west-2', 'ap-northeast-2', 'ap-south-2', 'eu-west-2', 'ca-central-1', 'sa-east-1', 'il-central-1', 'eu-west-3', 'eu-north-1']\", \"['us-east-1', 'us-west-1', 'af-south-1', 'eu-central-1', 'us-west-2', 'eu-west-2', 'ca-central-1', 'sa-east-1', 'eu-west-3', 'eu-north-1']\", \"['us-east-1', 'us-west-1', 'af-south-1', 'eu-central-1', 'us-west-2', 'eu-west-2', 'ca-central-1', 'sa-east-1', 'eu-west-3', 'eu-north-1']\", 'af-south-1', 'sa-east-1', \"['us-east-1', 'us-west-1', 'af-south-1', 'eu-central-1', 'us-west-2', 'eu-west-2', 'ca-central-1', 'sa-east-1', 'eu-west-3', 'eu-north-1']\", 'il-central-1', 'ap-northeast-2', 'ap-southeast-2', 'ap-south-2', 'us-east-1', 'us-west-1', \"['eu-west-3', 'eu-west-2', 'eu-central-1', 'eu-north-1']\", 'eu-west-3', 'eu-central-1', 'af-south-1 OFF', 'sa-east-1 OFF', 'ca-central-1', 'us-west-2', 'il-central-1 OFF', 'ap-northeast-2 OFF', 'ap-southeast-2 OFF', 'ap-south-2 OFF', 'us-east-1 OFF', 'us-west-1 OFF', 'eu-west-2', 'eu-north-1', 'eu-west-3 OFF', 'eu-central-1 OFF', 'ca-central-1 OFF', 'us-west-2 OFF', 'eu-west-2 OFF', 'eu-north-1 OFF']\n"
     ]
    }
   ],
   "source": [
    "print(c_vector)\n",
    "print(name_vector)"
   ]
  },
  {
   "cell_type": "code",
   "execution_count": 104,
   "metadata": {},
   "outputs": [
    {
     "name": "stdout",
     "output_type": "stream",
     "text": [
      "frozenset({'us-west-1', 'us-east-1'})\n"
     ]
    },
    {
     "data": {
      "text/plain": [
       "256"
      ]
     },
     "execution_count": 104,
     "metadata": {},
     "output_type": "execute_result"
    }
   ],
   "source": [
    "def distance_in_tree(tree, weights, levels, point1, point2):\n",
    "    # search for shortest path between point1 and point2 in the tree\n",
    "    # first, find the lowest (in terms of level) node which contains both point1 and point2 in name\n",
    "    level = levels\n",
    "    root = tree.root\n",
    "    prev_root = None\n",
    "    while root != prev_root:\n",
    "        prev_root = root\n",
    "        for child in root.children:\n",
    "            if point1 in child.point and point2 in child.point:\n",
    "                level = level - 1\n",
    "                root = child\n",
    "                break\n",
    "    \n",
    "    print(root.point)\n",
    "    # print(weights[level-1])\n",
    "\n",
    "    # now, we have the lowest common ancestor of point1 and point2\n",
    "    # we can compute the distance between point1 and point2 by summing the weights of the edges from point1 to the LCA and from the LCA to point2\n",
    "    distance_to_point1 = weights[level-1]\n",
    "    distance_to_point2 = weights[level-1]\n",
    "    found_point1 = False\n",
    "    found_point2 = False\n",
    "    root_point1 = root\n",
    "    root_point2 = root\n",
    "    level_point1 = level-2\n",
    "    level_point2 = level-2\n",
    "    while not found_point1:\n",
    "        for child in root_point1.children:\n",
    "            if str(list(child.point)) == \"['{}']\".format(point1):\n",
    "                found_point1 = True\n",
    "                break\n",
    "            if point1 in child.point:\n",
    "                root_point1 = child\n",
    "                distance_to_point1 += weights[level_point1]\n",
    "                break\n",
    "        level_point1 -= 1\n",
    "    while not found_point2:\n",
    "        for child in root_point2.children:\n",
    "            if str(list(child.point)) == \"['{}']\".format(point2):\n",
    "                found_point2 = True\n",
    "                break\n",
    "            if point2 in child.point:\n",
    "                root_point2 = child\n",
    "                distance_to_point2 += weights[level_point2]\n",
    "                break\n",
    "        level_point2 -= 1\n",
    "    return distance_to_point1 + distance_to_point2\n",
    "\n",
    "\n",
    "distance_in_tree(tree, weights, levels, \"us-east-1\", \"us-west-1\")"
   ]
  },
  {
   "cell_type": "code",
   "execution_count": 105,
   "metadata": {},
   "outputs": [
    {
     "data": {
      "text/plain": [
       "30.458839376460833"
      ]
     },
     "execution_count": 105,
     "metadata": {},
     "output_type": "execute_result"
    }
   ],
   "source": [
    "8*np.log2(14)"
   ]
  },
  {
   "cell_type": "code",
   "execution_count": 106,
   "metadata": {},
   "outputs": [
    {
     "data": {
      "text/plain": [
       "221.0427046263345"
      ]
     },
     "execution_count": 106,
     "metadata": {},
     "output_type": "execute_result"
    }
   ],
   "source": [
    "distance(\"us-east-1\", \"us-west-1\")"
   ]
  },
  {
   "cell_type": "code",
   "execution_count": 107,
   "metadata": {},
   "outputs": [],
   "source": [
    "# weighted_l1_norm computes the weighted L1 norm between two vectors.\n",
    "def weighted_l1_norm(vector1, vector2, weights, cvxpy=False):\n",
    "    if cvxpy:\n",
    "        weighted_diff = cp.multiply(cp.abs(vector1 - vector2), weights)\n",
    "        weighted_sum = cp.sum(weighted_diff)\n",
    "    else:\n",
    "        assert vector1.shape == vector2.shape == weights.shape, \"Input arrays must have the same shape.\"\n",
    "\n",
    "        weighted_diff = np.abs(vector1 - vector2) * weights\n",
    "        weighted_sum = np.sum(weighted_diff)\n",
    "\n",
    "    return weighted_sum"
   ]
  },
  {
   "cell_type": "code",
   "execution_count": 108,
   "metadata": {},
   "outputs": [
    {
     "data": {
      "text/plain": [
       "256.4"
      ]
     },
     "execution_count": 108,
     "metadata": {},
     "output_type": "execute_result"
    }
   ],
   "source": [
    "us_east_1_vector = np.zeros_like(weight_vector, dtype=float)\n",
    "us_west_1_vector = np.zeros_like(weight_vector, dtype=float)\n",
    "us_east_1_vector[0] = 1\n",
    "us_west_1_vector[0] = 1\n",
    "for i, name in enumerate(name_vector):\n",
    "    if \"us-east-1\" in name and \"OFF\" not in name:\n",
    "        us_east_1_vector[i] = 1\n",
    "    if \"us-west-1\" in name and \"OFF\" not in name:\n",
    "        us_west_1_vector[i] = 1\n",
    "\n",
    "us_east_1_vector[name_vector.index('us-east-1 OFF')] = 0.4\n",
    "\n",
    "weighted_l1_norm(us_east_1_vector, us_west_1_vector, np.array(weight_vector))"
   ]
  },
  {
   "cell_type": "code",
   "execution_count": 109,
   "metadata": {},
   "outputs": [
    {
     "name": "stdout",
     "output_type": "stream",
     "text": [
      "['root', \"['us-east-1', 'ap-southeast-2', 'af-south-1', 'eu-central-1', 'eu-west-3', 'us-west-2', 'ap-northeast-2', 'ap-south-2', 'eu-west-2', 'ca-central-1', 'sa-east-1', 'il-central-1', 'us-west-1', 'eu-north-1']\", \"['us-east-1', 'ap-southeast-2', 'us-west-1', 'af-south-1', 'eu-central-1', 'us-west-2', 'ap-northeast-2', 'ap-south-2', 'eu-west-2', 'ca-central-1', 'sa-east-1', 'il-central-1', 'eu-west-3', 'eu-north-1']\", \"['us-east-1', 'ap-southeast-2', 'us-west-1', 'af-south-1', 'eu-central-1', 'us-west-2', 'ap-northeast-2', 'ap-south-2', 'eu-west-2', 'ca-central-1', 'sa-east-1', 'il-central-1', 'eu-west-3', 'eu-north-1']\", \"['us-east-1', 'us-west-1', 'af-south-1', 'eu-central-1', 'us-west-2', 'eu-west-2', 'ca-central-1', 'sa-east-1', 'eu-west-3', 'eu-north-1']\", \"['us-east-1', 'us-west-1', 'af-south-1', 'eu-central-1', 'us-west-2', 'eu-west-2', 'ca-central-1', 'sa-east-1', 'eu-west-3', 'eu-north-1']\", 'af-south-1', 'sa-east-1', \"['us-east-1', 'us-west-1', 'af-south-1', 'eu-central-1', 'us-west-2', 'eu-west-2', 'ca-central-1', 'sa-east-1', 'eu-west-3', 'eu-north-1']\", 'il-central-1', 'ap-northeast-2', 'ap-southeast-2', 'ap-south-2', 'us-east-1', 'us-west-1', \"['eu-west-3', 'eu-west-2', 'eu-central-1', 'eu-north-1']\", 'eu-west-3', 'eu-central-1', 'af-south-1 OFF', 'sa-east-1 OFF', 'ca-central-1', 'us-west-2', 'il-central-1 OFF', 'ap-northeast-2 OFF', 'ap-southeast-2 OFF', 'ap-south-2 OFF', 'us-east-1 OFF', 'us-west-1 OFF', 'eu-west-2', 'eu-north-1', 'eu-west-3 OFF', 'eu-central-1 OFF', 'ca-central-1 OFF', 'us-west-2 OFF', 'eu-west-2 OFF', 'eu-north-1 OFF']\n",
      "26\n"
     ]
    }
   ],
   "source": [
    "print(name_vector)\n",
    "print(name_vector.index('us-east-1 OFF'))"
   ]
  },
  {
   "cell_type": "code",
   "execution_count": 110,
   "metadata": {},
   "outputs": [
    {
     "name": "stdout",
     "output_type": "stream",
     "text": [
      "[1.  1.  1.  1.  1.  1.  0.  0.  1.  0.  0.  0.  0.  1.  0.  0.  0.  0.\n",
      " 0.  0.  0.  0.  0.  0.  0.  0.  0.4 0.  0.  0.  0.  0.  0.  0.  0.  0. ]\n"
     ]
    }
   ],
   "source": [
    "print(us_east_1_vector)"
   ]
  },
  {
   "cell_type": "code",
   "execution_count": 111,
   "metadata": {},
   "outputs": [
    {
     "name": "stdout",
     "output_type": "stream",
     "text": [
      "['us-east-1 ON', 'us-east-1 OFF', 'us-west-1 ON', 'us-west-1 OFF', 'us-west-2 ON', 'us-west-2 OFF', 'af-south-1 ON', 'af-south-1 OFF', 'ap-south-2 ON', 'ap-south-2 OFF', 'ap-northeast-2 ON', 'ap-northeast-2 OFF', 'ap-southeast-2 ON', 'ap-southeast-2 OFF', 'ca-central-1 ON', 'ca-central-1 OFF', 'eu-central-1 ON', 'eu-central-1 OFF', 'eu-west-2 ON', 'eu-west-2 OFF', 'eu-west-3 ON', 'eu-west-3 OFF', 'eu-north-1 ON', 'eu-north-1 OFF', 'sa-east-1 ON', 'sa-east-1 OFF', 'il-central-1 ON', 'il-central-1 OFF']\n"
     ]
    }
   ],
   "source": [
    "# define some simplex vectors\n",
    "simplex_names = []\n",
    "for name in names:\n",
    "    simplex_names.append(name + \" ON\")\n",
    "    simplex_names.append(name + \" OFF\")\n",
    "\n",
    "print(simplex_names)"
   ]
  },
  {
   "cell_type": "code",
   "execution_count": 112,
   "metadata": {},
   "outputs": [],
   "source": [
    "# convert us_east_1_vector into a corresponding simplex vector\n",
    "us_east_1_simplex_vector = np.zeros(len(simplex_names))\n",
    "for i, value in enumerate(us_east_1_vector):\n",
    "    if name_vector[i] == \"us-east-1\":\n",
    "        us_east_1_simplex_vector[simplex_names.index(\"us-east-1 ON\")] = value - us_east_1_vector[name_vector.index('us-east-1 OFF')]\n",
    "    if name_vector[i] == \"us-east-1 OFF\":\n",
    "        us_east_1_simplex_vector[simplex_names.index(\"us-east-1 OFF\")] = value"
   ]
  },
  {
   "cell_type": "code",
   "execution_count": 114,
   "metadata": {},
   "outputs": [],
   "source": [
    "# convert us_east_1_vector into a corresponding simplex vector (indexing version)\n",
    "us_east_1_simplex_vector = np.zeros(len(simplex_names))\n",
    "us_east_1_simplex_vector[simplex_names.index(\"us-east-1 ON\")] = us_east_1_vector[name_vector.index('us-east-1')] - us_east_1_vector[name_vector.index('us-east-1 OFF')]\n",
    "us_east_1_simplex_vector[simplex_names.index(\"us-east-1 OFF\")] = us_east_1_vector[name_vector.index('us-east-1 OFF')]"
   ]
  },
  {
   "cell_type": "code",
   "execution_count": 115,
   "metadata": {},
   "outputs": [
    {
     "name": "stdout",
     "output_type": "stream",
     "text": [
      "[0.6 0.4 0.  0.  0.  0.  0.  0.  0.  0.  0.  0.  0.  0.  0.  0.  0.  0.\n",
      " 0.  0.  0.  0.  0.  0.  0.  0.  0.  0. ]\n"
     ]
    }
   ],
   "source": [
    "print(us_east_1_simplex_vector)"
   ]
  },
  {
   "cell_type": "code",
   "execution_count": 116,
   "metadata": {},
   "outputs": [
    {
     "data": {
      "text/plain": [
       "array([0.6, 0.4, 0. , 0. , 0. , 0. , 0. , 0. , 0. , 0. , 0. , 0. , 0. ,\n",
       "       0. , 0. , 0. , 0. , 0. , 0. , 0. , 0. , 0. , 0. , 0. , 0. , 0. ,\n",
       "       0. , 0. ])"
      ]
     },
     "execution_count": 116,
     "metadata": {},
     "output_type": "execute_result"
    }
   ],
   "source": [
    "# convert ANY regular vector into a simplex vector\n",
    "def convert_to_simplex(vector, names, vector_names, simplex_names):\n",
    "    simplex_vector = np.zeros(len(simplex_names))\n",
    "    for name in names:\n",
    "        simplex_vector[simplex_names.index(name + \" ON\")] = vector[vector_names.index(name)] - vector[vector_names.index(name + \" OFF\")]\n",
    "        simplex_vector[simplex_names.index(name + \" OFF\")] = vector[vector_names.index(name + \" OFF\")]\n",
    "    return simplex_vector\n",
    "\n",
    "convert_to_simplex(us_east_1_vector, names, name_vector, simplex_names)"
   ]
  },
  {
   "cell_type": "code",
   "execution_count": 122,
   "metadata": {},
   "outputs": [
    {
     "data": {
      "text/plain": [
       "array([1. , 1. , 1. , 1. , 1. , 1. , 0. , 0. , 1. , 0. , 0. , 0. , 0. ,\n",
       "       1. , 0. , 0. , 0. , 0. , 0. , 0. , 0. , 0. , 0. , 0. , 0. , 0. ,\n",
       "       0.4, 0. , 0. , 0. , 0. , 0. , 0. , 0. , 0. , 0. ])"
      ]
     },
     "execution_count": 122,
     "metadata": {},
     "output_type": "execute_result"
    }
   ],
   "source": [
    "# convert ANY simplex vector into a regular vector\n",
    "def convert_to_regular(simplex_vector, names, vector_names, simplex_names):\n",
    "    vector = np.zeros(len(vector_names))\n",
    "    vector[0] = 1\n",
    "    for name in names:\n",
    "        name_index = vector_names.index(name)\n",
    "        name_OFF_index = vector_names.index(name + \" OFF\")\n",
    "        cumulative = simplex_vector[simplex_names.index(name + \" ON\")] + simplex_vector[simplex_names.index(name + \" OFF\")]\n",
    "        vector[name_index] = cumulative\n",
    "        vector[name_OFF_index] = simplex_vector[simplex_names.index(name + \" OFF\")]\n",
    "        for i, vector_name in enumerate(vector_names):\n",
    "            if i in [name_index, name_OFF_index]:\n",
    "                continue\n",
    "            if name in vector_name:\n",
    "                vector[i] += cumulative\n",
    "    return vector\n",
    "\n",
    "convert_to_regular(us_east_1_simplex_vector, names, name_vector, simplex_names)"
   ]
  },
  {
   "cell_type": "code",
   "execution_count": 123,
   "metadata": {},
   "outputs": [
    {
     "name": "stdout",
     "output_type": "stream",
     "text": [
      "[1.  1.  1.  1.  1.  1.  0.  0.  1.  0.  0.  0.  0.  1.  0.  0.  0.  0.\n",
      " 0.  0.  0.  0.  0.  0.  0.  0.  0.4 0.  0.  0.  0.  0.  0.  0.  0.  0. ]\n"
     ]
    }
   ],
   "source": [
    "print(np.array(us_east_1_vector))"
   ]
  },
  {
   "cell_type": "code",
   "execution_count": null,
   "metadata": {},
   "outputs": [],
   "source": []
  }
 ],
 "metadata": {
  "kernelspec": {
   "display_name": "base",
   "language": "python",
   "name": "python3"
  },
  "language_info": {
   "codemirror_mode": {
    "name": "ipython",
    "version": 3
   },
   "file_extension": ".py",
   "mimetype": "text/x-python",
   "name": "python",
   "nbconvert_exporter": "python",
   "pygments_lexer": "ipython3",
   "version": "3.11.4"
  }
 },
 "nbformat": 4,
 "nbformat_minor": 2
}
