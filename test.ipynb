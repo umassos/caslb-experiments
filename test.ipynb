{
 "cells": [
  {
   "cell_type": "code",
   "execution_count": 2,
   "metadata": {},
   "outputs": [
    {
     "name": "stderr",
     "output_type": "stream",
     "text": [
      "/Users/adam/miniconda3/lib/python3.11/site-packages/Cython/Compiler/Main.py:381: FutureWarning: Cython directive 'language_level' not set, using '3str' for now (Py3). This has changed from earlier releases! File: /Users/adam/GitHub/caslb-experiments/clip.pyx\n",
      "  tree = Parsing.p_module(s, pxd, full_module_name)\n",
      "In file included from /Users/adam/.pyxbld/temp.macosx-10.9-x86_64-cpython-311/Users/adam/GitHub/caslb-experiments/clip.c:1240:\n",
      "In file included from /Users/adam/miniconda3/lib/python3.11/site-packages/numpy/core/include/numpy/arrayobject.h:5:\n",
      "In file included from /Users/adam/miniconda3/lib/python3.11/site-packages/numpy/core/include/numpy/ndarrayobject.h:12:\n",
      "In file included from /Users/adam/miniconda3/lib/python3.11/site-packages/numpy/core/include/numpy/ndarraytypes.h:1929:\n",
      "/Users/adam/miniconda3/lib/python3.11/site-packages/numpy/core/include/numpy/npy_1_7_deprecated_api.h:17:2: warning: \"Using deprecated NumPy API, disable it with \"          \"#define NPY_NO_DEPRECATED_API NPY_1_7_API_VERSION\" [-W#warnings]\n",
      "#warning \"Using deprecated NumPy API, disable it with \" \\\n",
      " ^\n",
      "1 warning generated.\n"
     ]
    }
   ],
   "source": [
    "import sys\n",
    "import random\n",
    "import math\n",
    "import itertools\n",
    "import numpy as np\n",
    "import pandas as pd\n",
    "import matplotlib.pyplot as plt\n",
    "from scipy.special import lambertw\n",
    "import seaborn as sns\n",
    "import pickle\n",
    "import warnings\n",
    "\n",
    "import pyximport\n",
    "pyximport.install(setup_args={\"include_dirs\":np.get_include()},\n",
    "                  reload_support=True)\n",
    "import implementations as f\n",
    "import clip as clip"
   ]
  },
  {
   "cell_type": "code",
   "execution_count": 3,
   "metadata": {},
   "outputs": [],
   "source": [
    "# solve for gamma\n",
    "L = 1\n",
    "U = 500\n",
    "beta = 20\n",
    "epsilon = 3\n",
    "gamma = clip.solve_gamma((1+epsilon), U, L, beta)"
   ]
  },
  {
   "cell_type": "code",
   "execution_count": 4,
   "metadata": {},
   "outputs": [
    {
     "name": "stdout",
     "output_type": "stream",
     "text": [
      "(465.6095222449376+0j)\n"
     ]
    }
   ],
   "source": [
    "print(gamma)"
   ]
  },
  {
   "cell_type": "code",
   "execution_count": 5,
   "metadata": {},
   "outputs": [
    {
     "name": "stdout",
     "output_type": "stream",
     "text": [
      "(499.9988525004798+0j)\n"
     ]
    }
   ],
   "source": [
    "epsilon = 0.0001\n",
    "gamma = clip.solve_gamma((1+epsilon), U, L, beta)\n",
    "print(gamma)"
   ]
  },
  {
   "cell_type": "code",
   "execution_count": null,
   "metadata": {},
   "outputs": [],
   "source": []
  }
 ],
 "metadata": {
  "kernelspec": {
   "display_name": "base",
   "language": "python",
   "name": "python3"
  },
  "language_info": {
   "codemirror_mode": {
    "name": "ipython",
    "version": 3
   },
   "file_extension": ".py",
   "mimetype": "text/x-python",
   "name": "python",
   "nbconvert_exporter": "python",
   "pygments_lexer": "ipython3",
   "version": "3.1.undefined"
  }
 },
 "nbformat": 4,
 "nbformat_minor": 2
}
