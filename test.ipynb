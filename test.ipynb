{
 "cells": [
  {
   "cell_type": "code",
   "execution_count": 2,
   "metadata": {},
   "outputs": [
    {
     "name": "stderr",
     "output_type": "stream",
     "text": [
      "/Users/adam/miniconda3/lib/python3.11/site-packages/Cython/Compiler/Main.py:381: FutureWarning: Cython directive 'language_level' not set, using '3str' for now (Py3). This has changed from earlier releases! File: /Users/adam/GitHub/caslb-experiments/clip.pyx\n",
      "  tree = Parsing.p_module(s, pxd, full_module_name)\n",
      "In file included from /Users/adam/.pyxbld/temp.macosx-10.9-x86_64-cpython-311/Users/adam/GitHub/caslb-experiments/clip.c:1240:\n",
      "In file included from /Users/adam/miniconda3/lib/python3.11/site-packages/numpy/core/include/numpy/arrayobject.h:5:\n",
      "In file included from /Users/adam/miniconda3/lib/python3.11/site-packages/numpy/core/include/numpy/ndarrayobject.h:12:\n",
      "In file included from /Users/adam/miniconda3/lib/python3.11/site-packages/numpy/core/include/numpy/ndarraytypes.h:1929:\n",
      "/Users/adam/miniconda3/lib/python3.11/site-packages/numpy/core/include/numpy/npy_1_7_deprecated_api.h:17:2: warning: \"Using deprecated NumPy API, disable it with \"          \"#define NPY_NO_DEPRECATED_API NPY_1_7_API_VERSION\" [-W#warnings]\n",
      "#warning \"Using deprecated NumPy API, disable it with \" \\\n",
      " ^\n",
      "1 warning generated.\n"
     ]
    }
   ],
   "source": [
    "import sys\n",
    "import random\n",
    "import math\n",
    "import itertools\n",
    "import numpy as np\n",
    "import pandas as pd\n",
    "import matplotlib.pyplot as plt\n",
    "from scipy.special import lambertw\n",
    "import seaborn as sns\n",
    "import pickle\n",
    "import warnings\n",
    "\n",
    "import pyximport\n",
    "pyximport.install(setup_args={\"include_dirs\":np.get_include()},\n",
    "                  reload_support=True)\n",
    "import implementations as f\n",
    "import clip as clip"
   ]
  },
  {
   "cell_type": "code",
   "execution_count": 3,
   "metadata": {},
   "outputs": [],
   "source": [
    "# solve for gamma\n",
    "L = 1\n",
    "U = 500\n",
    "beta = 20\n",
    "epsilon = 3\n",
    "gamma = clip.solve_gamma((1+epsilon), U, L, beta)"
   ]
  },
  {
   "cell_type": "code",
   "execution_count": 4,
   "metadata": {},
   "outputs": [
    {
     "name": "stdout",
     "output_type": "stream",
     "text": [
      "(465.6095222449376+0j)\n"
     ]
    }
   ],
   "source": [
    "print(gamma)"
   ]
  },
  {
   "cell_type": "code",
   "execution_count": 5,
   "metadata": {},
   "outputs": [
    {
     "name": "stdout",
     "output_type": "stream",
     "text": [
      "(499.9988525004798+0j)\n"
     ]
    }
   ],
   "source": [
    "epsilon = 0.0001\n",
    "gamma = clip.solve_gamma((1+epsilon), U, L, beta)\n",
    "print(gamma)"
   ]
  },
  {
   "cell_type": "code",
   "execution_count": 2,
   "metadata": {},
   "outputs": [
    {
     "name": "stdout",
     "output_type": "stream",
     "text": [
      "[[  0.         221.04270463 265.87320574 258.25058548 722.05950992\n",
      "  772.2161215  833.40118343 423.50058893 375.51670644 299.64739884\n",
      "  328.75874126 461.9706228  483.33471074 686.        ]\n",
      " [221.04270463   0.         127.71512309 333.99182243 399.68632075\n",
      "  548.81081081 597.69266055 295.36737089 666.83783784 639.37528868\n",
      "  619.09584296 735.98714953 761.84232365 428.03819444]\n",
      " [265.87320574 127.71512309   0.         280.51525822 574.26882966\n",
      "  495.00698487 605.48896632 230.0661157  643.14071511 563.25490196\n",
      "  596.75116279 691.57159091 775.8178025  478.02401372]\n",
      " [258.25058548 333.99182243 280.51525822   0.         779.18096357\n",
      "  340.81551116 426.3225058  413.80162413 673.70245041 644.62657503\n",
      "  628.91385332 755.6559633  581.04317549 479.87260035]\n",
      " [722.05950992 399.68632075 574.26882966 779.18096357   0.\n",
      "  516.10409357 601.10672854 530.42099057 676.14033019 625.49828962\n",
      "  589.62514828 706.71461717 546.66620499 511.16258741]\n",
      " [772.2161215  548.81081081 495.00698487 340.81551116 516.10409357\n",
      "    0.         619.32566168 754.74364896 189.00343249 146.13103448\n",
      "  145.12763466 149.19302326 346.1891516  387.05871886]\n",
      " [833.40118343 597.69266055 605.48896632 426.3225058  601.10672854\n",
      "  619.32566168   0.         850.89687138 176.63488372 242.15990991\n",
      "  308.3712297  264.47821101 468.00544959 409.88829787]\n",
      " [423.50058893 295.36737089 230.0661157  413.80162413 530.42099057\n",
      "  754.74364896 850.89687138   0.         372.09324009 298.1201867\n",
      "  336.79835873 434.81691773 529.27538248 758.15306122]\n",
      " [375.51670644 666.83783784 643.14071511 673.70245041 676.14033019\n",
      "  189.00343249 176.63488372 372.09324009   0.         209.29527105\n",
      "  575.77956372 153.26041667 825.19529086 262.9440678 ]\n",
      " [299.64739884 639.37528868 563.25490196 644.62657503 625.49828962\n",
      "  146.13103448 242.15990991 298.1201867  209.29527105   0.\n",
      "  623.10312862  76.54545455 830.6510989  324.26994907]\n",
      " [328.75874126 619.09584296 596.75116279 628.91385332 589.62514828\n",
      "  145.12763466 308.3712297  336.79835873 575.77956372 623.10312862\n",
      "    0.          75.12135356 852.82401091 271.21538462]\n",
      " [461.9706228  735.98714953 691.57159091 755.6559633  706.71461717\n",
      "  149.19302326 264.47821101 434.81691773 153.26041667  76.54545455\n",
      "   75.12135356   0.         559.93360996 381.00174825]\n",
      " [483.33471074 761.84232365 775.8178025  581.04317549 546.66620499\n",
      "  346.1891516  468.00544959 529.27538248 825.19529086 830.6510989\n",
      "  852.82401091 559.93360996   0.         463.86323268]\n",
      " [686.         428.03819444 478.02401372 479.87260035 511.16258741\n",
      "  387.05871886 409.88829787 758.15306122 262.9440678  324.26994907\n",
      "  271.21538462 381.00174825 463.86323268   0.        ]]\n"
     ]
    }
   ],
   "source": [
    "import metric\n",
    "\n",
    "# test the metric\n",
    "m = metric.MetricSpace()\n",
    "\n",
    "print(m.avg_distances)"
   ]
  },
  {
   "cell_type": "code",
   "execution_count": null,
   "metadata": {},
   "outputs": [],
   "source": []
  }
 ],
 "metadata": {
  "kernelspec": {
   "display_name": "base",
   "language": "python",
   "name": "python3"
  },
  "language_info": {
   "codemirror_mode": {
    "name": "ipython",
    "version": 3
   },
   "file_extension": ".py",
   "mimetype": "text/x-python",
   "name": "python",
   "nbconvert_exporter": "python",
   "pygments_lexer": "ipython3",
   "version": "3.11.4"
  }
 },
 "nbformat": 4,
 "nbformat_minor": 2
}
