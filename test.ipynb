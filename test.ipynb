{
 "cells": [
  {
   "cell_type": "code",
   "execution_count": 1,
   "metadata": {},
   "outputs": [
    {
     "data": {
      "text/plain": [
       "(None, <pyximport._pyximport3.PyxImportMetaFinder at 0x1065718a0>)"
      ]
     },
     "execution_count": 1,
     "metadata": {},
     "output_type": "execute_result"
    }
   ],
   "source": [
    "import sys\n",
    "import random\n",
    "import math\n",
    "import itertools\n",
    "import numpy as np\n",
    "import pandas as pd\n",
    "import matplotlib.pyplot as plt\n",
    "from scipy.special import lambertw\n",
    "import seaborn as sns\n",
    "import pickle\n",
    "import warnings\n",
    "\n",
    "import pyximport\n",
    "pyximport.install(setup_args={\"include_dirs\":np.get_include()},\n",
    "                  reload_support=True)\n",
    "# import implementations as f\n",
    "# import clip as clip"
   ]
  },
  {
   "cell_type": "code",
   "execution_count": 3,
   "metadata": {},
   "outputs": [],
   "source": [
    "# solve for gamma\n",
    "L = 1\n",
    "U = 500\n",
    "beta = 20\n",
    "epsilon = 3\n",
    "gamma = clip.solve_gamma((1+epsilon), U, L, beta)"
   ]
  },
  {
   "cell_type": "code",
   "execution_count": 4,
   "metadata": {},
   "outputs": [
    {
     "name": "stdout",
     "output_type": "stream",
     "text": [
      "(465.6095222449376+0j)\n"
     ]
    }
   ],
   "source": [
    "print(gamma)"
   ]
  },
  {
   "cell_type": "code",
   "execution_count": 5,
   "metadata": {},
   "outputs": [
    {
     "name": "stdout",
     "output_type": "stream",
     "text": [
      "(499.9988525004798+0j)\n"
     ]
    }
   ],
   "source": [
    "epsilon = 0.0001\n",
    "gamma = clip.solve_gamma((1+epsilon), U, L, beta)\n",
    "print(gamma)"
   ]
  },
  {
   "cell_type": "code",
   "execution_count": 1,
   "metadata": {},
   "outputs": [],
   "source": [
    "import metric\n",
    "\n",
    "# test the metric\n",
    "m = metric.MetricSpace()\n",
    "\n",
    "# print(m.avg_distances)"
   ]
  },
  {
   "cell_type": "code",
   "execution_count": 3,
   "metadata": {},
   "outputs": [],
   "source": [
    "import carbonTraces\n",
    "\n",
    "names = m.get_names()\n",
    "\n",
    "# get the diameter\n",
    "D = m.diameter()\n",
    "\n",
    "# get the distance matrix\n",
    "simplex_names, c_simplex, simplex_distances = m.generate_simplex_distances()\n",
    "dim = len(simplex_names)\n",
    "\n",
    "# get the weight vector, the c vector, and the name vector\n",
    "weights = m.get_weight_vector()\n",
    "c_vector, name_vector = m.get_unit_c_vector()\n",
    "\n",
    "# get the carbon trace\n",
    "datetimes, carbon_vector = carbonTraces.get_numpy(m)"
   ]
  },
  {
   "cell_type": "code",
   "execution_count": 4,
   "metadata": {},
   "outputs": [
    {
     "name": "stdout",
     "output_type": "stream",
     "text": [
      "['root', \"['us-west-1', 'il-central-1', 'us-east-1', 'af-south-1', 'eu-west-2', 'ap-south-2', 'eu-west-3', 'eu-north-1', 'ca-central-1', 'eu-central-1', 'sa-east-1', 'ap-northeast-2', 'us-west-2', 'ap-southeast-2']\", \"['us-west-1', 'il-central-1', 'us-east-1', 'af-south-1', 'eu-west-2', 'ap-south-2', 'eu-west-3', 'eu-north-1', 'ca-central-1', 'eu-central-1', 'sa-east-1', 'ap-northeast-2', 'us-west-2', 'ap-southeast-2']\", 'ap-southeast-2', \"['us-west-1', 'il-central-1', 'eu-west-2', 'af-south-1', 'ap-south-2', 'eu-west-3', 'eu-north-1', 'eu-central-1', 'sa-east-1', 'ap-northeast-2', 'us-west-2']\", \"['us-west-1', 'il-central-1', 'eu-west-2', 'af-south-1', 'ap-south-2', 'eu-west-3', 'eu-north-1', 'eu-central-1', 'sa-east-1', 'ap-northeast-2', 'us-west-2']\", 'il-central-1', 'af-south-1', 'sa-east-1', 'ap-south-2', 'ca-central-1', 'us-east-1', 'ap-southeast-2 OFF', \"['eu-north-1', 'eu-west-2', 'eu-west-3', 'eu-central-1', 'ap-northeast-2']\", 'eu-north-1', 'eu-central-1', \"['us-west-1', 'us-west-2']\", 'il-central-1 OFF', 'af-south-1 OFF', 'sa-east-1 OFF', 'ap-south-2 OFF', 'ca-central-1 OFF', 'us-east-1 OFF', 'ap-northeast-2', 'eu-west-2', 'eu-west-3', 'eu-north-1 OFF', 'eu-central-1 OFF', 'us-west-1', 'us-west-2', 'ap-northeast-2 OFF', 'eu-west-2 OFF', 'eu-west-3 OFF', 'us-west-1 OFF', 'us-west-2 OFF']\n",
      "[[0. 0. 0. ... 0. 0. 0.]\n",
      " [0. 0. 0. ... 0. 0. 0.]\n",
      " [0. 0. 0. ... 0. 0. 0.]\n",
      " ...\n",
      " [0. 0. 0. ... 0. 0. 0.]\n",
      " [0. 0. 0. ... 0. 0. 0.]\n",
      " [0. 0. 0. ... 0. 0. 0.]]\n"
     ]
    }
   ],
   "source": [
    "print(name_vector)\n",
    "\n",
    "print(carbon_vector)"
   ]
  },
  {
   "cell_type": "code",
   "execution_count": 3,
   "metadata": {},
   "outputs": [
    {
     "name": "stdout",
     "output_type": "stream",
     "text": [
      " ['eu-central-1', 'ap-south-2', 'us-west-1', 'sa-east-1', 'il-central-1', 'us-east-1', 'af-south-1', 'us-west-2', 'eu-west-3', 'ca-central-1', 'eu-north-1', 'eu-west-2', 'ap-southeast-2', 'ap-northeast-2']\n"
     ]
    }
   ],
   "source": [
    "m.print_tree()"
   ]
  },
  {
   "cell_type": "code",
   "execution_count": 4,
   "metadata": {},
   "outputs": [
    {
     "name": "stdout",
     "output_type": "stream",
     "text": [
      "[0]\n"
     ]
    }
   ],
   "source": [
    "print(c_vector)"
   ]
  },
  {
   "cell_type": "code",
   "execution_count": 5,
   "metadata": {},
   "outputs": [
    {
     "name": "stdout",
     "output_type": "stream",
     "text": [
      "[0]\n"
     ]
    }
   ],
   "source": [
    "print(m.unit_c_vector)"
   ]
  },
  {
   "cell_type": "code",
   "execution_count": 5,
   "metadata": {},
   "outputs": [],
   "source": [
    "# Load the carbon traces into a dict of pandas dataframe\n",
    "dfs = {}\n",
    "for name in names:\n",
    "    df = pd.read_csv(f\"carbon-data/{name}.csv\", parse_dates=[\"datetime\"])\n",
    "    # keep only the columns we need\n",
    "    df = df[[\"datetime\", \"carbon_intensity_avg\"]]\n",
    "    dfs[name] = df"
   ]
  },
  {
   "cell_type": "code",
   "execution_count": 4,
   "metadata": {},
   "outputs": [
    {
     "name": "stdout",
     "output_type": "stream",
     "text": [
      "[[0.]\n",
      " [0.]\n",
      " [0.]\n",
      " ...\n",
      " [0.]\n",
      " [0.]\n",
      " [0.]]\n"
     ]
    }
   ],
   "source": [
    "print(carbon_vector)"
   ]
  },
  {
   "cell_type": "code",
   "execution_count": 9,
   "metadata": {},
   "outputs": [
    {
     "name": "stdout",
     "output_type": "stream",
     "text": [
      "['root']\n",
      "[0]\n",
      "['none']\n"
     ]
    }
   ],
   "source": [
    "name_vector = m.name_vector.copy()\n",
    "print(name_vector)\n",
    "c_vector = m.unit_c_vector.copy()\n",
    "print(c_vector)\n",
    "\n",
    "for i, name in enumerate(name_vector):\n",
    "    if \"[\" in name: \n",
    "        name_vector[i] = \"none\" \n",
    "    if \"OFF\" in name:\n",
    "        name_vector[i] = \"none\"\n",
    "    if name == 'root':\n",
    "        name_vector[i] = \"none\" \n",
    "\n",
    "print(name_vector)"
   ]
  },
  {
   "cell_type": "code",
   "execution_count": null,
   "metadata": {},
   "outputs": [],
   "source": [
    "# create a numpy matrix where each column is the corresponding carbon intensity trace for that region\n",
    "X = np.zeros((len(dfs[\"us-east-1\"]), len(name_vector)))\n",
    "\n",
    "for i, name in enumerate(name_vector):\n",
    "    if name == \"none\":\n",
    "        continue\n",
    "    print(dfs[name][\"carbon_intensity_avg\"].values)\n",
    "    carbon = dfs[name][\"carbon_intensity_avg\"].values\n",
    "    X[i, :] = np.array(carbon)"
   ]
  },
  {
   "cell_type": "code",
   "execution_count": 1,
   "metadata": {},
   "outputs": [],
   "source": [
    "import metric\n",
    "m = metric.MetricSpace()"
   ]
  },
  {
   "cell_type": "code",
   "execution_count": 2,
   "metadata": {},
   "outputs": [],
   "source": [
    "m = metric.MetricSpace()"
   ]
  },
  {
   "cell_type": "code",
   "execution_count": 8,
   "metadata": {},
   "outputs": [
    {
     "name": "stdout",
     "output_type": "stream",
     "text": [
      "[array([1, 2, 3, 4]), array([2, 1, 4, 3]), array([4, 3, 1, 2]), array([2, 1, 3, 4])]\n"
     ]
    }
   ],
   "source": [
    "import random\n",
    "import numpy as np\n",
    "\n",
    "distances = np.array([1, 2, 3, 4])\n",
    "\n",
    "times = 4\n",
    "\n",
    "simplex_distance_rands = [distances] \n",
    "for _ in range(times-1):\n",
    "    simplex_distance_rands.append(np.random.permutation(distances))\n",
    "# shuffle the distance list\n",
    "random.shuffle(simplex_distance_rands)\n",
    "\n",
    "print(simplex_distance_rands)"
   ]
  },
  {
   "cell_type": "code",
   "execution_count": 9,
   "metadata": {},
   "outputs": [],
   "source": [
    "# format these distances into a list of length exactly T\n",
    "simplex_distance_list = []\n",
    "repeat = 24 // times\n",
    "for distances in simplex_distance_rands:\n",
    "    simplex_distance_list.extend([distances] * repeat)\n",
    "# add the remaining distances  \n",
    "simplex_distance_list.extend([simplex_distance_list[-1]] * (24 - len(simplex_distance_list)))"
   ]
  },
  {
   "cell_type": "code",
   "execution_count": 10,
   "metadata": {},
   "outputs": [
    {
     "name": "stdout",
     "output_type": "stream",
     "text": [
      "[array([1, 2, 3, 4]), array([1, 2, 3, 4]), array([1, 2, 3, 4]), array([1, 2, 3, 4]), array([1, 2, 3, 4]), array([1, 2, 3, 4]), array([2, 1, 4, 3]), array([2, 1, 4, 3]), array([2, 1, 4, 3]), array([2, 1, 4, 3]), array([2, 1, 4, 3]), array([2, 1, 4, 3]), array([4, 3, 1, 2]), array([4, 3, 1, 2]), array([4, 3, 1, 2]), array([4, 3, 1, 2]), array([4, 3, 1, 2]), array([4, 3, 1, 2]), array([2, 1, 3, 4]), array([2, 1, 3, 4]), array([2, 1, 3, 4]), array([2, 1, 3, 4]), array([2, 1, 3, 4]), array([2, 1, 3, 4])]\n"
     ]
    }
   ],
   "source": [
    "print(simplex_distance_list)"
   ]
  },
  {
   "cell_type": "code",
   "execution_count": 11,
   "metadata": {},
   "outputs": [
    {
     "name": "stdout",
     "output_type": "stream",
     "text": [
      "24\n"
     ]
    }
   ],
   "source": [
    "print(len(simplex_distance_list))"
   ]
  },
  {
   "cell_type": "code",
   "execution_count": null,
   "metadata": {},
   "outputs": [],
   "source": []
  }
 ],
 "metadata": {
  "kernelspec": {
   "display_name": "base",
   "language": "python",
   "name": "python3"
  },
  "language_info": {
   "codemirror_mode": {
    "name": "ipython",
    "version": 3
   },
   "file_extension": ".py",
   "mimetype": "text/x-python",
   "name": "python",
   "nbconvert_exporter": "python",
   "pygments_lexer": "ipython3",
   "version": "3.11.4"
  }
 },
 "nbformat": 4,
 "nbformat_minor": 2
}
