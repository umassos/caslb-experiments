{
 "cells": [
  {
   "cell_type": "code",
   "execution_count": 1,
   "metadata": {},
   "outputs": [],
   "source": [
    "# load carbon traces into a pandas dataframe\n",
    "import pandas as pd\n",
    "import numpy as np"
   ]
  },
  {
   "cell_type": "code",
   "execution_count": 2,
   "metadata": {},
   "outputs": [],
   "source": [
    "# AWS regions\n",
    "names = [\n",
    "    \"us-east-1\",      # US East (N. Virginia)\n",
    "    \"us-west-1\",      # US West (N. California)\n",
    "    \"us-west-2\",      # US West (Oregon)\n",
    "    \"af-south-1\",     # Africa (Cape Town)\n",
    "    \"ap-south-2\",     # Asia Pacific (Hyderabad)\n",
    "    \"ap-northeast-2\", # Asia Pacific (Seoul)\n",
    "    \"ap-southeast-2\", # Asia Pacific (Sydney)\n",
    "    \"ca-central-1\",   # Canada (Central)\n",
    "    \"eu-central-1\",   # Europe (Frankfurt)\n",
    "    \"eu-west-2\",      # Europe (London)\n",
    "    \"eu-west-3\",      # Europe (Paris)\n",
    "    \"eu-north-1\",     # Europe (Stockholm)\n",
    "    \"sa-east-1\",       # South America (São Paulo)\n",
    "    \"il-central-1\"    # Israel (Tel Aviv)\n",
    "]"
   ]
  },
  {
   "cell_type": "code",
   "execution_count": 12,
   "metadata": {},
   "outputs": [
    {
     "name": "stdout",
     "output_type": "stream",
     "text": [
      "                   datetime  carbon_intensity_avg\n",
      "0 2020-01-01 00:00:00+00:00                382.14\n",
      "1 2020-01-01 01:00:00+00:00                377.11\n",
      "2 2020-01-01 02:00:00+00:00                375.74\n",
      "3 2020-01-01 03:00:00+00:00                373.20\n",
      "4 2020-01-01 04:00:00+00:00                360.48\n"
     ]
    }
   ],
   "source": [
    "# define a dict of dataframes\n",
    "dfs = {}\n",
    "for name in names:\n",
    "    df = pd.read_csv(f\"carbon-data/{name}.csv\", parse_dates=[\"datetime\"])\n",
    "    # keep only the columns we need\n",
    "    df = df[[\"datetime\", \"carbon_intensity_avg\"]]\n",
    "    dfs[name] = df\n",
    "    # print(len(df))\n",
    "\n",
    "# print the first few rows of the first dataframe\n",
    "print(dfs[\"us-east-1\"].head())"
   ]
  },
  {
   "cell_type": "code",
   "execution_count": 13,
   "metadata": {},
   "outputs": [
    {
     "name": "stdout",
     "output_type": "stream",
     "text": [
      "c_vector: [0, 0, 0, 0, 0, 1, 0, 0, 1, 1, 1, 1, 1, 1, 1, 1, 1, 1, 0, 0, 0, 0, 0, 0, 0, 0, 0, 0, 1, 1, 1, 0, 0, 0]\n"
     ]
    }
   ],
   "source": [
    "# load the metric space\n",
    "import metric\n",
    "m = metric.MetricSpace()\n",
    "\n",
    "# get the \"column names\" of the vectors for the tree embedding in the metric space\n",
    "name_vector = m.name_vector"
   ]
  },
  {
   "cell_type": "code",
   "execution_count": 14,
   "metadata": {},
   "outputs": [
    {
     "name": "stdout",
     "output_type": "stream",
     "text": [
      "['root', ['us-east-1', 'eu-north-1', 'af-south-1', 'il-central-1', 'ap-south-2', 'us-west-1', 'ap-southeast-2', 'ca-central-1', 'ap-northeast-2', 'us-west-2', 'eu-west-2', 'sa-east-1', 'eu-central-1', 'eu-west-3'], ['us-east-1', 'eu-north-1', 'af-south-1', 'il-central-1', 'ap-south-2', 'us-west-1', 'ap-southeast-2', 'ca-central-1', 'ap-northeast-2', 'us-west-2', 'eu-west-2', 'sa-east-1', 'eu-central-1', 'eu-west-3'], ['us-east-1', 'eu-north-1', 'af-south-1', 'il-central-1', 'ap-south-2', 'us-west-1', 'ap-southeast-2', 'ca-central-1', 'ap-northeast-2', 'us-west-2', 'eu-west-2', 'sa-east-1', 'eu-central-1', 'eu-west-3'], ['us-east-1', 'eu-north-1', 'af-south-1', 'il-central-1', 'ap-south-2', 'us-west-1', 'ap-southeast-2', 'ca-central-1', 'ap-northeast-2', 'us-west-2', 'eu-west-2', 'sa-east-1', 'eu-central-1', 'eu-west-3'], 'us-west-2', 'us-west-2 OFF', ['eu-north-1', 'af-south-1', 'il-central-1', 'ap-southeast-2', 'sa-east-1', 'eu-west-2', 'eu-central-1', 'eu-west-3'], 'eu-north-1', 'eu-west-3', 'af-south-1', 'il-central-1', 'sa-east-1', 'ap-northeast-2', 'ca-central-1', 'us-east-1', 'ap-south-2', 'us-west-1', 'eu-north-1 OFF', 'eu-west-3 OFF', 'af-south-1 OFF', 'il-central-1 OFF', 'sa-east-1 OFF', 'ap-northeast-2 OFF', 'ca-central-1 OFF', 'us-east-1 OFF', 'ap-south-2 OFF', 'us-west-1 OFF', 'ap-southeast-2', 'eu-central-1', 'eu-west-2', 'ap-southeast-2 OFF', 'eu-central-1 OFF', 'eu-west-2 OFF']\n"
     ]
    }
   ],
   "source": [
    "print(name_vector)"
   ]
  },
  {
   "cell_type": "code",
   "execution_count": 18,
   "metadata": {},
   "outputs": [
    {
     "name": "stdout",
     "output_type": "stream",
     "text": [
      "['none', ['us-east-1', 'eu-north-1', 'af-south-1', 'il-central-1', 'ap-south-2', 'us-west-1', 'ap-southeast-2', 'ca-central-1', 'ap-northeast-2', 'us-west-2', 'eu-west-2', 'sa-east-1', 'eu-central-1', 'eu-west-3'], ['us-east-1', 'eu-north-1', 'af-south-1', 'il-central-1', 'ap-south-2', 'us-west-1', 'ap-southeast-2', 'ca-central-1', 'ap-northeast-2', 'us-west-2', 'eu-west-2', 'sa-east-1', 'eu-central-1', 'eu-west-3'], ['us-east-1', 'eu-north-1', 'af-south-1', 'il-central-1', 'ap-south-2', 'us-west-1', 'ap-southeast-2', 'ca-central-1', 'ap-northeast-2', 'us-west-2', 'eu-west-2', 'sa-east-1', 'eu-central-1', 'eu-west-3'], ['us-east-1', 'eu-north-1', 'af-south-1', 'il-central-1', 'ap-south-2', 'us-west-1', 'ap-southeast-2', 'ca-central-1', 'ap-northeast-2', 'us-west-2', 'eu-west-2', 'sa-east-1', 'eu-central-1', 'eu-west-3'], 'us-west-2', 'none', ['eu-north-1', 'af-south-1', 'il-central-1', 'ap-southeast-2', 'sa-east-1', 'eu-west-2', 'eu-central-1', 'eu-west-3'], 'eu-north-1', 'eu-west-3', 'af-south-1', 'il-central-1', 'sa-east-1', 'ap-northeast-2', 'ca-central-1', 'us-east-1', 'ap-south-2', 'us-west-1', 'none', 'none', 'none', 'none', 'none', 'none', 'none', 'none', 'none', 'none', 'ap-southeast-2', 'eu-central-1', 'eu-west-2', 'none', 'none', 'none']\n"
     ]
    }
   ],
   "source": [
    "for i, name in enumerate(name_vector):\n",
    "    if \"[\" in name: \n",
    "        name_vector[i] = \"none\" \n",
    "    if \"OFF\" in name:\n",
    "        name_vector[i] = \"none\"\n",
    "    if name == 'root':\n",
    "        name_vector[i] = \"none\" \n",
    "\n",
    "print(name_vector)"
   ]
  },
  {
   "cell_type": "code",
   "execution_count": 19,
   "metadata": {},
   "outputs": [
    {
     "name": "stdout",
     "output_type": "stream",
     "text": [
      "none\n",
      "['us-east-1', 'eu-north-1', 'af-south-1', 'il-central-1', 'ap-south-2', 'us-west-1', 'ap-southeast-2', 'ca-central-1', 'ap-northeast-2', 'us-west-2', 'eu-west-2', 'sa-east-1', 'eu-central-1', 'eu-west-3']\n"
     ]
    },
    {
     "ename": "TypeError",
     "evalue": "unhashable type: 'list'",
     "output_type": "error",
     "traceback": [
      "\u001b[0;31m---------------------------------------------------------------------------\u001b[0m",
      "\u001b[0;31mTypeError\u001b[0m                                 Traceback (most recent call last)",
      "Cell \u001b[0;32mIn[19], line 8\u001b[0m\n\u001b[1;32m      6\u001b[0m     \u001b[38;5;28;01mif\u001b[39;00m name \u001b[38;5;241m==\u001b[39m \u001b[38;5;124m\"\u001b[39m\u001b[38;5;124mnone\u001b[39m\u001b[38;5;124m\"\u001b[39m:\n\u001b[1;32m      7\u001b[0m         \u001b[38;5;28;01mcontinue\u001b[39;00m\n\u001b[0;32m----> 8\u001b[0m     X[:, i] \u001b[38;5;241m=\u001b[39m np\u001b[38;5;241m.\u001b[39marray(\u001b[43mdfs\u001b[49m\u001b[43m[\u001b[49m\u001b[43mname\u001b[49m\u001b[43m]\u001b[49m[\u001b[38;5;124m\"\u001b[39m\u001b[38;5;124mcarbon_intensity_avg\u001b[39m\u001b[38;5;124m\"\u001b[39m])\n\u001b[1;32m     10\u001b[0m \u001b[38;5;66;03m# print the first few rows of the matrix\u001b[39;00m\n\u001b[1;32m     11\u001b[0m \u001b[38;5;28mprint\u001b[39m(X[:\u001b[38;5;241m5\u001b[39m, :])\n",
      "\u001b[0;31mTypeError\u001b[0m: unhashable type: 'list'"
     ]
    }
   ],
   "source": [
    "# create a numpy matrix where each column is the corresponding carbon intensity trace for that region\n",
    "X = np.zeros((len(dfs[\"us-east-1\"]), len(name_vector)))\n",
    "\n",
    "for i, name in enumerate(name_vector):\n",
    "    print(name)\n",
    "    if name == \"none\":\n",
    "        continue\n",
    "    X[:, i] = np.array(dfs[name][\"carbon_intensity_avg\"])\n",
    "\n",
    "# print the first few rows of the matrix\n",
    "print(X[:5, :])\n",
    "\n",
    "# save the datetimes to a separate pandas series\n",
    "datetimes = dfs[\"us-east-1\"][\"datetime\"]\n",
    "\n",
    "print(datetimes.head())\n"
   ]
  },
  {
   "cell_type": "code",
   "execution_count": 8,
   "metadata": {},
   "outputs": [],
   "source": [
    "import carbonTraces"
   ]
  },
  {
   "cell_type": "code",
   "execution_count": 12,
   "metadata": {},
   "outputs": [],
   "source": [
    "# get the numpy array of the carbon traces\n",
    "datetimes, carbonMat = carbonTraces.get_numpy(m)"
   ]
  },
  {
   "cell_type": "code",
   "execution_count": 13,
   "metadata": {},
   "outputs": [
    {
     "name": "stdout",
     "output_type": "stream",
     "text": [
      "0   2020-01-01 00:00:00+00:00\n",
      "1   2020-01-01 01:00:00+00:00\n",
      "2   2020-01-01 02:00:00+00:00\n",
      "3   2020-01-01 03:00:00+00:00\n",
      "4   2020-01-01 04:00:00+00:00\n",
      "Name: datetime, dtype: datetime64[ns, UTC]\n"
     ]
    }
   ],
   "source": [
    "print(datetimes[:5])"
   ]
  },
  {
   "cell_type": "code",
   "execution_count": 14,
   "metadata": {},
   "outputs": [
    {
     "name": "stdout",
     "output_type": "stream",
     "text": [
      "[[  0.     0.     0.     0.     0.   101.48 741.99 369.98 589.31   0.\n",
      "   28.23 382.14 669.14 325.75 755.7    0.     0.     0.     0.     0.\n",
      "  452.69 477.98   0.     0.     0.     0.     0.    22.9   65.6  221.52\n",
      "    0.     0.     0.     0.     0.  ]\n",
      " [  0.     0.     0.     0.     0.   106.59 742.1  403.58 589.31   0.\n",
      "   28.37 377.11 665.54 339.59 758.61   0.     0.     0.     0.     0.\n",
      "  448.76 470.83   0.     0.     0.     0.     0.    22.87  56.1  222.48\n",
      "    0.     0.     0.     0.     0.  ]\n",
      " [  0.     0.     0.     0.     0.   109.89 734.37 397.43 589.31   0.\n",
      "   29.2  375.74 671.44 348.48 761.52   0.     0.     0.     0.     0.\n",
      "  445.49 467.67   0.     0.     0.     0.     0.    22.83  43.01 213.51\n",
      "    0.     0.     0.     0.     0.  ]\n",
      " [  0.     0.     0.     0.     0.   113.49 713.62 392.26 589.31   0.\n",
      "   28.69 373.2  675.39 340.05 756.49   0.     0.     0.     0.     0.\n",
      "  442.58 466.59   0.     0.     0.     0.     0.    23.26  43.82 210.23\n",
      "    0.     0.     0.     0.     0.  ]\n",
      " [  0.     0.     0.     0.     0.   103.83 702.62 395.92 589.31   0.\n",
      "   28.72 360.48 690.77 345.38 751.85   0.     0.     0.     0.     0.\n",
      "  442.33 466.85   0.     0.     0.     0.     0.    23.91  44.78 199.95\n",
      "    0.     0.     0.     0.     0.  ]]\n"
     ]
    }
   ],
   "source": [
    "print(carbonMat[:5, :])"
   ]
  },
  {
   "cell_type": "code",
   "execution_count": null,
   "metadata": {},
   "outputs": [],
   "source": []
  }
 ],
 "metadata": {
  "kernelspec": {
   "display_name": "base",
   "language": "python",
   "name": "python3"
  },
  "language_info": {
   "codemirror_mode": {
    "name": "ipython",
    "version": 3
   },
   "file_extension": ".py",
   "mimetype": "text/x-python",
   "name": "python",
   "nbconvert_exporter": "python",
   "pygments_lexer": "ipython3",
   "version": "3.10.12"
  }
 },
 "nbformat": 4,
 "nbformat_minor": 2
}
