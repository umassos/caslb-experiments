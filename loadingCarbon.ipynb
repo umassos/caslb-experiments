{
 "cells": [
  {
   "cell_type": "code",
   "execution_count": 5,
   "metadata": {},
   "outputs": [],
   "source": [
    "# load carbon traces into a pandas dataframe\n",
    "import pandas as pd\n",
    "import numpy as np"
   ]
  },
  {
   "cell_type": "code",
   "execution_count": 6,
   "metadata": {},
   "outputs": [],
   "source": [
    "# AWS regions\n",
    "names = [\n",
    "    \"us-east-1\",      # US East (N. Virginia)\n",
    "    \"us-west-1\",      # US West (N. California)\n",
    "    \"us-west-2\",      # US West (Oregon)\n",
    "    \"af-south-1\",     # Africa (Cape Town)\n",
    "    \"ap-south-2\",     # Asia Pacific (Hyderabad)\n",
    "    \"ap-northeast-2\", # Asia Pacific (Seoul)\n",
    "    \"ap-southeast-2\", # Asia Pacific (Sydney)\n",
    "    \"ca-central-1\",   # Canada (Central)\n",
    "    \"eu-central-1\",   # Europe (Frankfurt)\n",
    "    \"eu-west-2\",      # Europe (London)\n",
    "    \"eu-west-3\",      # Europe (Paris)\n",
    "    \"eu-north-1\",     # Europe (Stockholm)\n",
    "    \"sa-east-1\",       # South America (São Paulo)\n",
    "    \"il-central-1\"    # Israel (Tel Aviv)\n",
    "]\n",
    "\n",
    "marginal_names = [\n",
    "    \"us-east-1\",      # US East (N. Virginia)\n",
    "    \"us-west-1\",      # US West (N. California)\n",
    "    \"us-west-2\",      # US West (Oregon)\n",
    "    \"ap-southeast-2\", # Asia Pacific (Sydney)\n",
    "    \"ca-central-1\",   # Canada (Central)\n",
    "    \"eu-central-1\",   # Europe (Frankfurt)\n",
    "    \"eu-west-2\",      # Europe (London)\n",
    "    \"eu-west-3\",      # Europe (Paris)\n",
    "    \"eu-north-1\",     # Europe (Stockholm)\n",
    "]"
   ]
  },
  {
   "cell_type": "code",
   "execution_count": 7,
   "metadata": {},
   "outputs": [
    {
     "name": "stdout",
     "output_type": "stream",
     "text": [
      "                   datetime  carbon_intensity_avg\n",
      "0 2020-01-01 00:00:00+00:00                382.14\n",
      "1 2020-01-01 01:00:00+00:00                377.11\n",
      "2 2020-01-01 02:00:00+00:00                375.74\n",
      "3 2020-01-01 03:00:00+00:00                373.20\n",
      "4 2020-01-01 04:00:00+00:00                360.48\n"
     ]
    }
   ],
   "source": [
    "# define a dict of dataframes\n",
    "dfs = {}\n",
    "for name in names:\n",
    "    df = pd.read_csv(f\"carbon-data/{name}.csv\", parse_dates=[\"datetime\"])\n",
    "    # keep only the columns we need\n",
    "    df = df[[\"datetime\", \"carbon_intensity_avg\"]]\n",
    "    dfs[name] = df\n",
    "    # print(len(df))\n",
    "\n",
    "# print the first few rows of the first dataframe\n",
    "print(dfs[\"us-east-1\"].head())"
   ]
  },
  {
   "cell_type": "code",
   "execution_count": 41,
   "metadata": {},
   "outputs": [
    {
     "name": "stdout",
     "output_type": "stream",
     "text": [
      "                   datetime  marginal_carbon_avg  marginal_forecast_avg\n",
      "0 2022-01-01 00:00:00+00:00          1215.583333            1215.527228\n",
      "1 2022-01-01 01:00:00+00:00          1201.333333            1215.846383\n",
      "2 2022-01-01 02:00:00+00:00          1201.250000            1217.291609\n",
      "3 2022-01-01 03:00:00+00:00          1177.916667            1217.602517\n",
      "4 2022-01-01 04:00:00+00:00          1177.333333            1218.497541\n"
     ]
    }
   ],
   "source": [
    "# define a dict of dataframes\n",
    "dfs = {}\n",
    "for name in marginal_names:\n",
    "    df = pd.read_csv(f\"marginal-data/{name}.csv\", parse_dates=[\"datetime\"])\n",
    "    # keep only the columns we need\n",
    "    df = df[[\"datetime\", \"marginal_carbon_avg\", \"marginal_forecast_avg\"]]\n",
    "    # anything below 12 is a data error, truncate it to 12\n",
    "    df[\"marginal_carbon_avg\"] = np.maximum(df[\"marginal_carbon_avg\"], 1)\n",
    "    df[\"marginal_forecast_avg\"] = np.maximum(df[\"marginal_forecast_avg\"], 1)\n",
    "    dfs[name] = df\n",
    "    # print(len(df))\n",
    "\n",
    "# print the first few rows of the first dataframe\n",
    "print(dfs[\"us-east-1\"].head())"
   ]
  },
  {
   "cell_type": "code",
   "execution_count": 42,
   "metadata": {},
   "outputs": [
    {
     "data": {
      "text/plain": [
       "1.0"
      ]
     },
     "execution_count": 42,
     "metadata": {},
     "output_type": "execute_result"
    }
   ],
   "source": [
    "region = \"ap-southeast-2\"\n",
    "dfs[region][\"marginal_carbon_avg\"].min()"
   ]
  },
  {
   "cell_type": "code",
   "execution_count": 43,
   "metadata": {},
   "outputs": [
    {
     "data": {
      "text/plain": [
       "1949.5"
      ]
     },
     "execution_count": 43,
     "metadata": {},
     "output_type": "execute_result"
    }
   ],
   "source": [
    "dfs[region][\"marginal_carbon_avg\"].max()"
   ]
  },
  {
   "cell_type": "code",
   "execution_count": 70,
   "metadata": {},
   "outputs": [
    {
     "name": "stdout",
     "output_type": "stream",
     "text": [
      "Global average carbon intensity: 362.0820754894641 gCO2/kWh\n"
     ]
    }
   ],
   "source": [
    "# print the global average carbon intensity\n",
    "global_avg = np.mean([df[\"carbon_intensity_avg\"].mean() for df in dfs.values()])\n",
    "print(f\"Global average carbon intensity: {global_avg} gCO2/kWh\")"
   ]
  },
  {
   "cell_type": "code",
   "execution_count": 1,
   "metadata": {},
   "outputs": [],
   "source": [
    "# load the metric space\n",
    "import metric\n",
    "m = metric.MetricSpace()\n",
    "\n",
    "# get the \"column names\" of the vectors for the tree embedding in the metric space\n",
    "# name_vector = m.name_vector"
   ]
  },
  {
   "cell_type": "code",
   "execution_count": 2,
   "metadata": {},
   "outputs": [
    {
     "name": "stdout",
     "output_type": "stream",
     "text": [
      "[[  0.           1.         221.04270463 221.04270463 265.87320574\n",
      "  265.87320574 258.25058548 258.25058548 722.05950992 722.05950992\n",
      "  772.2161215  772.2161215  833.40118343 833.40118343 423.50058893\n",
      "  423.50058893 375.51670644 375.51670644 299.64739884 299.64739884\n",
      "  328.75874126 328.75874126 461.9706228  461.9706228  483.33471074\n",
      "  483.33471074 686.         686.        ]\n",
      " [  1.           0.         221.04270463 221.04270463 265.87320574\n",
      "  265.87320574 258.25058548 258.25058548 722.05950992 722.05950992\n",
      "  772.2161215  772.2161215  833.40118343 833.40118343 423.50058893\n",
      "  423.50058893 375.51670644 375.51670644 299.64739884 299.64739884\n",
      "  328.75874126 328.75874126 461.9706228  461.9706228  483.33471074\n",
      "  483.33471074 686.         686.        ]\n",
      " [221.04270463 221.04270463   0.           1.         127.71512309\n",
      "  127.71512309 333.99182243 333.99182243 399.68632075 399.68632075\n",
      "  548.81081081 548.81081081 597.69266055 597.69266055 295.36737089\n",
      "  295.36737089 666.83783784 666.83783784 639.37528868 639.37528868\n",
      "  619.09584296 619.09584296 735.98714953 735.98714953 761.84232365\n",
      "  761.84232365 428.03819444 428.03819444]\n",
      " [221.04270463 221.04270463   1.           0.         127.71512309\n",
      "  127.71512309 333.99182243 333.99182243 399.68632075 399.68632075\n",
      "  548.81081081 548.81081081 597.69266055 597.69266055 295.36737089\n",
      "  295.36737089 666.83783784 666.83783784 639.37528868 639.37528868\n",
      "  619.09584296 619.09584296 735.98714953 735.98714953 761.84232365\n",
      "  761.84232365 428.03819444 428.03819444]\n",
      " [265.87320574 265.87320574 127.71512309 127.71512309   0.\n",
      "    1.         280.51525822 280.51525822 574.26882966 574.26882966\n",
      "  495.00698487 495.00698487 605.48896632 605.48896632 230.0661157\n",
      "  230.0661157  643.14071511 643.14071511 563.25490196 563.25490196\n",
      "  596.75116279 596.75116279 691.57159091 691.57159091 775.8178025\n",
      "  775.8178025  478.02401372 478.02401372]\n",
      " [265.87320574 265.87320574 127.71512309 127.71512309   1.\n",
      "    0.         280.51525822 280.51525822 574.26882966 574.26882966\n",
      "  495.00698487 495.00698487 605.48896632 605.48896632 230.0661157\n",
      "  230.0661157  643.14071511 643.14071511 563.25490196 563.25490196\n",
      "  596.75116279 596.75116279 691.57159091 691.57159091 775.8178025\n",
      "  775.8178025  478.02401372 478.02401372]\n",
      " [258.25058548 258.25058548 333.99182243 333.99182243 280.51525822\n",
      "  280.51525822   0.           1.         779.18096357 779.18096357\n",
      "  340.81551116 340.81551116 426.3225058  426.3225058  413.80162413\n",
      "  413.80162413 673.70245041 673.70245041 644.62657503 644.62657503\n",
      "  628.91385332 628.91385332 755.6559633  755.6559633  581.04317549\n",
      "  581.04317549 479.87260035 479.87260035]\n",
      " [258.25058548 258.25058548 333.99182243 333.99182243 280.51525822\n",
      "  280.51525822   1.           0.         779.18096357 779.18096357\n",
      "  340.81551116 340.81551116 426.3225058  426.3225058  413.80162413\n",
      "  413.80162413 673.70245041 673.70245041 644.62657503 644.62657503\n",
      "  628.91385332 628.91385332 755.6559633  755.6559633  581.04317549\n",
      "  581.04317549 479.87260035 479.87260035]\n",
      " [722.05950992 722.05950992 399.68632075 399.68632075 574.26882966\n",
      "  574.26882966 779.18096357 779.18096357   0.           1.\n",
      "  516.10409357 516.10409357 601.10672854 601.10672854 530.42099057\n",
      "  530.42099057 676.14033019 676.14033019 625.49828962 625.49828962\n",
      "  589.62514828 589.62514828 706.71461717 706.71461717 546.66620499\n",
      "  546.66620499 511.16258741 511.16258741]\n",
      " [722.05950992 722.05950992 399.68632075 399.68632075 574.26882966\n",
      "  574.26882966 779.18096357 779.18096357   1.           0.\n",
      "  516.10409357 516.10409357 601.10672854 601.10672854 530.42099057\n",
      "  530.42099057 676.14033019 676.14033019 625.49828962 625.49828962\n",
      "  589.62514828 589.62514828 706.71461717 706.71461717 546.66620499\n",
      "  546.66620499 511.16258741 511.16258741]\n",
      " [772.2161215  772.2161215  548.81081081 548.81081081 495.00698487\n",
      "  495.00698487 340.81551116 340.81551116 516.10409357 516.10409357\n",
      "    0.           1.         619.32566168 619.32566168 754.74364896\n",
      "  754.74364896 189.00343249 189.00343249 146.13103448 146.13103448\n",
      "  145.12763466 145.12763466 149.19302326 149.19302326 346.1891516\n",
      "  346.1891516  387.05871886 387.05871886]\n",
      " [772.2161215  772.2161215  548.81081081 548.81081081 495.00698487\n",
      "  495.00698487 340.81551116 340.81551116 516.10409357 516.10409357\n",
      "    1.           0.         619.32566168 619.32566168 754.74364896\n",
      "  754.74364896 189.00343249 189.00343249 146.13103448 146.13103448\n",
      "  145.12763466 145.12763466 149.19302326 149.19302326 346.1891516\n",
      "  346.1891516  387.05871886 387.05871886]\n",
      " [833.40118343 833.40118343 597.69266055 597.69266055 605.48896632\n",
      "  605.48896632 426.3225058  426.3225058  601.10672854 601.10672854\n",
      "  619.32566168 619.32566168   0.           1.         850.89687138\n",
      "  850.89687138 176.63488372 176.63488372 242.15990991 242.15990991\n",
      "  308.3712297  308.3712297  264.47821101 264.47821101 468.00544959\n",
      "  468.00544959 409.88829787 409.88829787]\n",
      " [833.40118343 833.40118343 597.69266055 597.69266055 605.48896632\n",
      "  605.48896632 426.3225058  426.3225058  601.10672854 601.10672854\n",
      "  619.32566168 619.32566168   1.           0.         850.89687138\n",
      "  850.89687138 176.63488372 176.63488372 242.15990991 242.15990991\n",
      "  308.3712297  308.3712297  264.47821101 264.47821101 468.00544959\n",
      "  468.00544959 409.88829787 409.88829787]\n",
      " [423.50058893 423.50058893 295.36737089 295.36737089 230.0661157\n",
      "  230.0661157  413.80162413 413.80162413 530.42099057 530.42099057\n",
      "  754.74364896 754.74364896 850.89687138 850.89687138   0.\n",
      "    1.         372.09324009 372.09324009 298.1201867  298.1201867\n",
      "  336.79835873 336.79835873 434.81691773 434.81691773 529.27538248\n",
      "  529.27538248 758.15306122 758.15306122]\n",
      " [423.50058893 423.50058893 295.36737089 295.36737089 230.0661157\n",
      "  230.0661157  413.80162413 413.80162413 530.42099057 530.42099057\n",
      "  754.74364896 754.74364896 850.89687138 850.89687138   1.\n",
      "    0.         372.09324009 372.09324009 298.1201867  298.1201867\n",
      "  336.79835873 336.79835873 434.81691773 434.81691773 529.27538248\n",
      "  529.27538248 758.15306122 758.15306122]\n",
      " [375.51670644 375.51670644 666.83783784 666.83783784 643.14071511\n",
      "  643.14071511 673.70245041 673.70245041 676.14033019 676.14033019\n",
      "  189.00343249 189.00343249 176.63488372 176.63488372 372.09324009\n",
      "  372.09324009   0.           1.         209.29527105 209.29527105\n",
      "  575.77956372 575.77956372 153.26041667 153.26041667 825.19529086\n",
      "  825.19529086 262.9440678  262.9440678 ]\n",
      " [375.51670644 375.51670644 666.83783784 666.83783784 643.14071511\n",
      "  643.14071511 673.70245041 673.70245041 676.14033019 676.14033019\n",
      "  189.00343249 189.00343249 176.63488372 176.63488372 372.09324009\n",
      "  372.09324009   1.           0.         209.29527105 209.29527105\n",
      "  575.77956372 575.77956372 153.26041667 153.26041667 825.19529086\n",
      "  825.19529086 262.9440678  262.9440678 ]\n",
      " [299.64739884 299.64739884 639.37528868 639.37528868 563.25490196\n",
      "  563.25490196 644.62657503 644.62657503 625.49828962 625.49828962\n",
      "  146.13103448 146.13103448 242.15990991 242.15990991 298.1201867\n",
      "  298.1201867  209.29527105 209.29527105   0.           1.\n",
      "  623.10312862 623.10312862  76.54545455  76.54545455 830.6510989\n",
      "  830.6510989  324.26994907 324.26994907]\n",
      " [299.64739884 299.64739884 639.37528868 639.37528868 563.25490196\n",
      "  563.25490196 644.62657503 644.62657503 625.49828962 625.49828962\n",
      "  146.13103448 146.13103448 242.15990991 242.15990991 298.1201867\n",
      "  298.1201867  209.29527105 209.29527105   1.           0.\n",
      "  623.10312862 623.10312862  76.54545455  76.54545455 830.6510989\n",
      "  830.6510989  324.26994907 324.26994907]\n",
      " [328.75874126 328.75874126 619.09584296 619.09584296 596.75116279\n",
      "  596.75116279 628.91385332 628.91385332 589.62514828 589.62514828\n",
      "  145.12763466 145.12763466 308.3712297  308.3712297  336.79835873\n",
      "  336.79835873 575.77956372 575.77956372 623.10312862 623.10312862\n",
      "    0.           1.          75.12135356  75.12135356 852.82401091\n",
      "  852.82401091 271.21538462 271.21538462]\n",
      " [328.75874126 328.75874126 619.09584296 619.09584296 596.75116279\n",
      "  596.75116279 628.91385332 628.91385332 589.62514828 589.62514828\n",
      "  145.12763466 145.12763466 308.3712297  308.3712297  336.79835873\n",
      "  336.79835873 575.77956372 575.77956372 623.10312862 623.10312862\n",
      "    1.           0.          75.12135356  75.12135356 852.82401091\n",
      "  852.82401091 271.21538462 271.21538462]\n",
      " [461.9706228  461.9706228  735.98714953 735.98714953 691.57159091\n",
      "  691.57159091 755.6559633  755.6559633  706.71461717 706.71461717\n",
      "  149.19302326 149.19302326 264.47821101 264.47821101 434.81691773\n",
      "  434.81691773 153.26041667 153.26041667  76.54545455  76.54545455\n",
      "   75.12135356  75.12135356   0.           1.         559.93360996\n",
      "  559.93360996 381.00174825 381.00174825]\n",
      " [461.9706228  461.9706228  735.98714953 735.98714953 691.57159091\n",
      "  691.57159091 755.6559633  755.6559633  706.71461717 706.71461717\n",
      "  149.19302326 149.19302326 264.47821101 264.47821101 434.81691773\n",
      "  434.81691773 153.26041667 153.26041667  76.54545455  76.54545455\n",
      "   75.12135356  75.12135356   1.           0.         559.93360996\n",
      "  559.93360996 381.00174825 381.00174825]\n",
      " [483.33471074 483.33471074 761.84232365 761.84232365 775.8178025\n",
      "  775.8178025  581.04317549 581.04317549 546.66620499 546.66620499\n",
      "  346.1891516  346.1891516  468.00544959 468.00544959 529.27538248\n",
      "  529.27538248 825.19529086 825.19529086 830.6510989  830.6510989\n",
      "  852.82401091 852.82401091 559.93360996 559.93360996   0.\n",
      "    1.         463.86323268 463.86323268]\n",
      " [483.33471074 483.33471074 761.84232365 761.84232365 775.8178025\n",
      "  775.8178025  581.04317549 581.04317549 546.66620499 546.66620499\n",
      "  346.1891516  346.1891516  468.00544959 468.00544959 529.27538248\n",
      "  529.27538248 825.19529086 825.19529086 830.6510989  830.6510989\n",
      "  852.82401091 852.82401091 559.93360996 559.93360996   1.\n",
      "    0.         463.86323268 463.86323268]\n",
      " [686.         686.         428.03819444 428.03819444 478.02401372\n",
      "  478.02401372 479.87260035 479.87260035 511.16258741 511.16258741\n",
      "  387.05871886 387.05871886 409.88829787 409.88829787 758.15306122\n",
      "  758.15306122 262.9440678  262.9440678  324.26994907 324.26994907\n",
      "  271.21538462 271.21538462 381.00174825 381.00174825 463.86323268\n",
      "  463.86323268   0.           1.        ]\n",
      " [686.         686.         428.03819444 428.03819444 478.02401372\n",
      "  478.02401372 479.87260035 479.87260035 511.16258741 511.16258741\n",
      "  387.05871886 387.05871886 409.88829787 409.88829787 758.15306122\n",
      "  758.15306122 262.9440678  262.9440678  324.26994907 324.26994907\n",
      "  271.21538462 271.21538462 381.00174825 381.00174825 463.86323268\n",
      "  463.86323268   1.           0.        ]]\n"
     ]
    }
   ],
   "source": [
    "# get simplex distances from the metric space\n",
    "simplex_names, c_simplex, simplex_distances = m.generate_simplex_distances()\n",
    "\n",
    "# get weight vector from the metric space\n",
    "weight_vector = m.weight_vector\n",
    "\n",
    "print(simplex_distances)"
   ]
  },
  {
   "cell_type": "code",
   "execution_count": 73,
   "metadata": {},
   "outputs": [],
   "source": [
    "def weighted_l1_norm(vector1, vector2, phi, weights, cvxpy=False):\n",
    "    if cvxpy:\n",
    "        phi1 = phi @ vector1\n",
    "        phi2 = phi @ vector2\n",
    "        weighted_diff = cp.multiply(cp.abs(phi1 - phi2), weights)\n",
    "        weighted_sum = cp.sum(weighted_diff)\n",
    "    else:\n",
    "        phi1 = phi @ vector1\n",
    "        phi2 = phi @ vector2\n",
    "        weighted_diff = np.abs(phi1 - phi2) * weights\n",
    "        weighted_sum = np.sum(weighted_diff)\n",
    "\n",
    "    return weighted_sum"
   ]
  },
  {
   "cell_type": "code",
   "execution_count": 85,
   "metadata": {},
   "outputs": [
    {
     "name": "stdout",
     "output_type": "stream",
     "text": [
      "Distance between us-west-1 and ap-northeast-2: 548.8108108108108\n",
      "(35, 28)\n",
      "35\n",
      "35\n",
      "Vector distance between us-west-1 and ap-northeast-2: 1297.3890153320299\n"
     ]
    }
   ],
   "source": [
    "# choose two regions to measure distance (before)\n",
    "region1 = \"us-west-1\"\n",
    "region2 = \"ap-northeast-2\"\n",
    "\n",
    "# get the distance between the two regions\n",
    "distance = m.distance(region1, region2)\n",
    "\n",
    "weights = m.get_weight_vector()\n",
    "\n",
    "c_vector, name_vector = m.get_unit_c_vector()\n",
    "\n",
    "print(f\"Distance between {region1} and {region2}: {distance}\")\n",
    "\n",
    "# get the distance between the two regions (vector)\n",
    "east_vector, east_simplex = m.get_start_state(region1)\n",
    "west_vector, west_simplex = m.get_start_state(region2)\n",
    "phi = m.phi(names, name_vector, simplex_names)\n",
    "\n",
    "print(phi.shape)\n",
    "print(len(east_vector))\n",
    "print(len(west_vector))\n",
    "\n",
    "vector_distance = weighted_l1_norm(east_simplex, west_simplex, phi, weights)\n",
    "print(f\"Vector distance between {region1} and {region2}: {vector_distance}\")"
   ]
  },
  {
   "cell_type": "code",
   "execution_count": 86,
   "metadata": {},
   "outputs": [
    {
     "name": "stdout",
     "output_type": "stream",
     "text": [
      "Distance between eu-west-3 and ap-northeast-2: 548.8108108108108\n"
     ]
    }
   ],
   "source": [
    "# let's try swapping us-west-1 with us-west-2\n",
    "# create a new simplex distance matrix\n",
    "new_simplex_distances = simplex_distances.copy()\n",
    "swap1index = simplex_names.index(\"us-west-1 OFF\")\n",
    "swap2index = simplex_names.index(\"eu-west-3 OFF\")\n",
    "new_simplex_distances[:, swap2index] = simplex_distances[:, swap1index]\n",
    "new_simplex_distances[:, swap1index] = simplex_distances[:, swap2index]\n",
    "new_simplex_distances[swap2index, :] = simplex_distances[swap1index, :]\n",
    "new_simplex_distances[swap1index, :] = simplex_distances[swap2index, :]\n",
    "\n",
    "# print the distance between us-west-1 and ap-northeast-2\n",
    "distance = new_simplex_distances[simplex_names.index(\"eu-west-3 OFF\"), simplex_names.index(\"ap-northeast-2 OFF\")]\n",
    "\n",
    "print(f\"Distance between eu-west-3 and ap-northeast-2: {distance}\")"
   ]
  },
  {
   "cell_type": "code",
   "execution_count": 87,
   "metadata": {},
   "outputs": [
    {
     "name": "stdout",
     "output_type": "stream",
     "text": [
      "Vector distance between eu-west-3 and ap-northeast-2: 1297.3890153320299\n"
     ]
    }
   ],
   "source": [
    "# now swap the corresponding indices in the weight vector\n",
    "new_name_vector = name_vector.copy()\n",
    "for i, name in enumerate(name_vector):\n",
    "    new_name = name.replace(\"us-west-1\", \"INTERMEDIATE\").replace(\"eu-west-3\", \"us-west-1\").replace(\"INTERMEDIATE\", \"eu-west-3\")\n",
    "    new_name_vector[i] = new_name\n",
    "\n",
    "# get the distance between the two regions (vector)\n",
    "phi = m.phi(names, new_name_vector, simplex_names)\n",
    "east_vector, east_simplex = m.get_start_state(\"eu-west-3\")\n",
    "west_vector, west_simplex = m.get_start_state(\"ap-northeast-2\")\n",
    "\n",
    "vector_distance = weighted_l1_norm(east_simplex, west_simplex, phi, weights)\n",
    "print(f\"Vector distance between eu-west-3 and ap-northeast-2: {vector_distance}\")\n"
   ]
  },
  {
   "cell_type": "code",
   "execution_count": 66,
   "metadata": {},
   "outputs": [
    {
     "name": "stdout",
     "output_type": "stream",
     "text": [
      "[  0.         555.25949903 555.25949903 555.25949903 277.62974951\n",
      " 277.62974951 277.62974951 277.62974951 277.62974951 277.62974951\n",
      " 277.62974951 277.62974951 277.62974951 277.62974951 138.81487476\n",
      " 138.81487476   1.           1.           1.         138.81487476\n",
      "   1.           1.           1.         138.81487476 138.81487476\n",
      " 138.81487476   1.           1.          69.40743738  69.40743738\n",
      "   1.           1.          69.40743738  69.40743738   1.\n",
      "   1.           1.           1.        ]\n",
      "['root', \"['ap-south-2', 'eu-north-1', 'sa-east-1', 'eu-west-2', 'eu-central-1', 'ca-central-1', 'af-south-1', 'ap-southeast-2', 'ap-northeast-2', 'us-west-1', 'eu-west-3', 'il-central-1', 'us-east-1', 'us-west-2']\", \"['ap-south-2', 'eu-north-1', 'sa-east-1', 'eu-west-2', 'eu-central-1', 'ca-central-1', 'af-south-1', 'ap-southeast-2', 'ap-northeast-2', 'us-west-1', 'eu-west-3', 'il-central-1', 'us-east-1', 'us-west-2']\", \"['ap-south-2', 'eu-north-1', 'sa-east-1', 'eu-west-2', 'eu-central-1', 'ca-central-1', 'af-south-1', 'ap-southeast-2', 'ap-northeast-2', 'us-west-1', 'eu-west-3', 'il-central-1', 'us-east-1', 'us-west-2']\", \"['ca-central-1', 'af-south-1', 'ap-southeast-2', 'ap-northeast-2', 'us-west-1', 'il-central-1', 'us-east-1', 'us-west-2']\", 'il-central-1', 'ap-northeast-2', 'ap-southeast-2', \"['ca-central-1', 'af-south-1', 'ap-southeast-2', 'ap-northeast-2', 'us-west-1', 'il-central-1', 'us-east-1', 'us-west-2']\", 'ca-central-1', 'ap-south-2', 'sa-east-1', \"['eu-north-1', 'eu-west-2', 'eu-west-3', 'eu-central-1']\", \"['eu-north-1', 'eu-west-2', 'eu-west-3', 'eu-central-1']\", 'af-south-1', 'us-east-1', 'il-central-1 OFF', 'ap-northeast-2 OFF', 'ap-southeast-2 OFF', \"['us-west-1', 'us-west-2']\", 'ca-central-1 OFF', 'ap-south-2 OFF', 'sa-east-1 OFF', 'eu-west-3', 'eu-central-1', \"['eu-north-1', 'eu-west-2']\", 'af-south-1 OFF', 'us-east-1 OFF', 'us-west-1', 'us-west-2', 'eu-west-3 OFF', 'eu-central-1 OFF', 'eu-north-1', 'eu-west-2', 'us-west-1 OFF', 'us-west-2 OFF', 'eu-north-1 OFF', 'eu-west-2 OFF']\n"
     ]
    }
   ],
   "source": [
    "print(weights)\n",
    "\n",
    "print(name_vector)"
   ]
  },
  {
   "cell_type": "code",
   "execution_count": 3,
   "metadata": {},
   "outputs": [],
   "source": [
    "# get random distances from metric\n",
    "rand_distances, _, rand_phi = m.shuffled_distances()"
   ]
  },
  {
   "cell_type": "code",
   "execution_count": 5,
   "metadata": {},
   "outputs": [
    {
     "name": "stdout",
     "output_type": "stream",
     "text": [
      "(28, 28)\n"
     ]
    }
   ],
   "source": [
    "print(rand_distances.shape)"
   ]
  },
  {
   "cell_type": "code",
   "execution_count": 6,
   "metadata": {},
   "outputs": [
    {
     "name": "stdout",
     "output_type": "stream",
     "text": [
      "(28, 28)\n"
     ]
    }
   ],
   "source": [
    "print(simplex_distances.shape)"
   ]
  }
 ],
 "metadata": {
  "kernelspec": {
   "display_name": "base",
   "language": "python",
   "name": "python3"
  },
  "language_info": {
   "codemirror_mode": {
    "name": "ipython",
    "version": 3
   },
   "file_extension": ".py",
   "mimetype": "text/x-python",
   "name": "python",
   "nbconvert_exporter": "python",
   "pygments_lexer": "ipython3",
   "version": "3.11.4"
  }
 },
 "nbformat": 4,
 "nbformat_minor": 2
}
