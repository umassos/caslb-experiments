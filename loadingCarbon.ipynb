{
 "cells": [
  {
   "cell_type": "code",
   "execution_count": 1,
   "metadata": {},
   "outputs": [],
   "source": [
    "# load carbon traces into a pandas dataframe\n",
    "import pandas as pd\n",
    "import numpy as np"
   ]
  },
  {
   "cell_type": "code",
   "execution_count": 2,
   "metadata": {},
   "outputs": [],
   "source": [
    "# AWS regions\n",
    "names = [\n",
    "    \"us-east-1\",      # US East (N. Virginia)\n",
    "    \"us-west-1\",      # US West (N. California)\n",
    "    \"us-west-2\",      # US West (Oregon)\n",
    "    \"af-south-1\",     # Africa (Cape Town)\n",
    "    \"ap-south-2\",     # Asia Pacific (Hyderabad)\n",
    "    \"ap-northeast-2\", # Asia Pacific (Seoul)\n",
    "    \"ap-southeast-2\", # Asia Pacific (Sydney)\n",
    "    \"ca-central-1\",   # Canada (Central)\n",
    "    \"eu-central-1\",   # Europe (Frankfurt)\n",
    "    \"eu-west-2\",      # Europe (London)\n",
    "    \"eu-west-3\",      # Europe (Paris)\n",
    "    \"eu-north-1\",     # Europe (Stockholm)\n",
    "    \"sa-east-1\",       # South America (São Paulo)\n",
    "    \"il-central-1\"    # Israel (Tel Aviv)\n",
    "]"
   ]
  },
  {
   "cell_type": "code",
   "execution_count": 3,
   "metadata": {},
   "outputs": [
    {
     "name": "stdout",
     "output_type": "stream",
     "text": [
      "                   datetime  carbon_intensity_avg\n",
      "0 2020-01-01 00:00:00+00:00                382.14\n",
      "1 2020-01-01 01:00:00+00:00                377.11\n",
      "2 2020-01-01 02:00:00+00:00                375.74\n",
      "3 2020-01-01 03:00:00+00:00                373.20\n",
      "4 2020-01-01 04:00:00+00:00                360.48\n"
     ]
    }
   ],
   "source": [
    "# define a dict of dataframes\n",
    "dfs = {}\n",
    "for name in names:\n",
    "    df = pd.read_csv(f\"carbon-data/{name}.csv\", parse_dates=[\"datetime\"])\n",
    "    # keep only the columns we need\n",
    "    df = df[[\"datetime\", \"carbon_intensity_avg\"]]\n",
    "    dfs[name] = df\n",
    "    # print(len(df))\n",
    "\n",
    "# print the first few rows of the first dataframe\n",
    "print(dfs[\"us-east-1\"].head())"
   ]
  },
  {
   "cell_type": "code",
   "execution_count": 4,
   "metadata": {},
   "outputs": [],
   "source": [
    "# load the metric space\n",
    "import metric\n",
    "m = metric.MetricSpace()\n",
    "\n",
    "# get the \"column names\" of the vectors for the tree embedding in the metric space\n",
    "name_vector = m.name_vector"
   ]
  },
  {
   "cell_type": "code",
   "execution_count": 5,
   "metadata": {},
   "outputs": [
    {
     "name": "stdout",
     "output_type": "stream",
     "text": [
      "['root', \"['ap-south-2', 'eu-north-1', 'us-west-2', 'eu-west-2', 'af-south-1', 'eu-west-3', 'us-east-1', 'ap-southeast-2', 'ca-central-1', 'eu-central-1', 'us-west-1', 'ap-northeast-2', 'il-central-1', 'sa-east-1']\", \"['ap-south-2', 'eu-north-1', 'us-west-2', 'eu-west-2', 'af-south-1', 'eu-west-3', 'us-east-1', 'ap-southeast-2', 'ca-central-1', 'eu-central-1', 'us-west-1', 'ap-northeast-2', 'il-central-1', 'sa-east-1']\", \"['ap-south-2', 'eu-north-1', 'us-west-2', 'eu-west-2', 'af-south-1', 'eu-west-3', 'us-east-1', 'ap-southeast-2', 'ca-central-1', 'eu-central-1', 'us-west-1', 'ap-northeast-2', 'il-central-1', 'sa-east-1']\", 'sa-east-1', 'ap-south-2', 'ca-central-1', \"['eu-north-1', 'us-west-2', 'eu-west-2', 'af-south-1', 'eu-west-3', 'us-east-1', 'ca-central-1', 'eu-central-1', 'us-west-1']\", \"['eu-north-1', 'us-west-2', 'eu-west-2', 'af-south-1', 'eu-west-3', 'us-east-1', 'ca-central-1', 'eu-central-1', 'us-west-1']\", 'us-east-1', 'af-south-1', \"['eu-north-1', 'us-west-2', 'eu-west-2', 'af-south-1', 'eu-west-3', 'us-east-1', 'ca-central-1', 'eu-central-1', 'us-west-1']\", 'ap-northeast-2', 'ap-southeast-2', 'il-central-1', 'sa-east-1 OFF', 'ap-south-2 OFF', 'ca-central-1 OFF', 'us-west-2', 'us-west-1', \"['eu-west-3', 'eu-north-1']\", 'us-east-1 OFF', 'af-south-1 OFF', 'eu-west-2', 'eu-central-1', 'ap-northeast-2 OFF', 'ap-southeast-2 OFF', 'il-central-1 OFF', 'us-west-2 OFF', 'us-west-1 OFF', 'eu-west-3', 'eu-north-1', 'eu-west-2 OFF', 'eu-central-1 OFF', 'eu-west-3 OFF', 'eu-north-1 OFF']\n"
     ]
    }
   ],
   "source": [
    "print(name_vector)"
   ]
  },
  {
   "cell_type": "code",
   "execution_count": 6,
   "metadata": {},
   "outputs": [
    {
     "name": "stdout",
     "output_type": "stream",
     "text": [
      "['none', 'none', 'none', 'none', 'sa-east-1', 'ap-south-2', 'ca-central-1', 'none', 'none', 'us-east-1', 'af-south-1', 'none', 'ap-northeast-2', 'ap-southeast-2', 'il-central-1', 'none', 'none', 'none', 'us-west-2', 'us-west-1', 'none', 'none', 'none', 'eu-west-2', 'eu-central-1', 'none', 'none', 'none', 'none', 'none', 'eu-west-3', 'eu-north-1', 'none', 'none', 'none', 'none']\n"
     ]
    }
   ],
   "source": [
    "for i, name in enumerate(name_vector):\n",
    "    if \"[\" in name: \n",
    "        name_vector[i] = \"none\" \n",
    "    if \"OFF\" in name:\n",
    "        name_vector[i] = \"none\"\n",
    "    if name == 'root':\n",
    "        name_vector[i] = \"none\" \n",
    "\n",
    "print(name_vector)"
   ]
  },
  {
   "cell_type": "code",
   "execution_count": 7,
   "metadata": {},
   "outputs": [
    {
     "name": "stdout",
     "output_type": "stream",
     "text": [
      "none\n",
      "none\n",
      "none\n",
      "none\n",
      "sa-east-1\n",
      "ap-south-2\n",
      "ca-central-1\n",
      "none\n",
      "none\n",
      "us-east-1\n",
      "af-south-1\n",
      "none\n",
      "ap-northeast-2\n",
      "ap-southeast-2\n",
      "il-central-1\n",
      "none\n",
      "none\n",
      "none\n",
      "us-west-2\n",
      "us-west-1\n",
      "none\n",
      "none\n",
      "none\n",
      "eu-west-2\n",
      "eu-central-1\n",
      "none\n",
      "none\n",
      "none\n",
      "none\n",
      "none\n",
      "eu-west-3\n",
      "eu-north-1\n",
      "none\n",
      "none\n",
      "none\n",
      "none\n",
      "[[  0.     0.     0.     0.   101.48 741.99  28.23   0.     0.   382.14\n",
      "  755.7    0.   477.98 669.14 589.31   0.     0.     0.   325.75 369.98\n",
      "    0.     0.     0.   221.52 452.69   0.     0.     0.     0.     0.\n",
      "   65.6   22.9    0.     0.     0.     0.  ]\n",
      " [  0.     0.     0.     0.   106.59 742.1   28.37   0.     0.   377.11\n",
      "  758.61   0.   470.83 665.54 589.31   0.     0.     0.   339.59 403.58\n",
      "    0.     0.     0.   222.48 448.76   0.     0.     0.     0.     0.\n",
      "   56.1   22.87   0.     0.     0.     0.  ]\n",
      " [  0.     0.     0.     0.   109.89 734.37  29.2    0.     0.   375.74\n",
      "  761.52   0.   467.67 671.44 589.31   0.     0.     0.   348.48 397.43\n",
      "    0.     0.     0.   213.51 445.49   0.     0.     0.     0.     0.\n",
      "   43.01  22.83   0.     0.     0.     0.  ]\n",
      " [  0.     0.     0.     0.   113.49 713.62  28.69   0.     0.   373.2\n",
      "  756.49   0.   466.59 675.39 589.31   0.     0.     0.   340.05 392.26\n",
      "    0.     0.     0.   210.23 442.58   0.     0.     0.     0.     0.\n",
      "   43.82  23.26   0.     0.     0.     0.  ]\n",
      " [  0.     0.     0.     0.   103.83 702.62  28.72   0.     0.   360.48\n",
      "  751.85   0.   466.85 690.77 589.31   0.     0.     0.   345.38 395.92\n",
      "    0.     0.     0.   199.95 442.33   0.     0.     0.     0.     0.\n",
      "   44.78  23.91   0.     0.     0.     0.  ]]\n",
      "0   2020-01-01 00:00:00+00:00\n",
      "1   2020-01-01 01:00:00+00:00\n",
      "2   2020-01-01 02:00:00+00:00\n",
      "3   2020-01-01 03:00:00+00:00\n",
      "4   2020-01-01 04:00:00+00:00\n",
      "Name: datetime, dtype: datetime64[ns, UTC]\n"
     ]
    }
   ],
   "source": [
    "# create a numpy matrix where each column is the corresponding carbon intensity trace for that region\n",
    "X = np.zeros((len(dfs[\"us-east-1\"]), len(name_vector)))\n",
    "\n",
    "for i, name in enumerate(name_vector):\n",
    "    print(name)\n",
    "    if name == \"none\":\n",
    "        continue\n",
    "    X[:, i] = np.array(dfs[name][\"carbon_intensity_avg\"])\n",
    "\n",
    "# print the first few rows of the matrix\n",
    "print(X[:5, :])\n",
    "\n",
    "# save the datetimes to a separate pandas series\n",
    "datetimes = dfs[\"us-east-1\"][\"datetime\"]\n",
    "\n",
    "print(datetimes.head())\n"
   ]
  },
  {
   "cell_type": "code",
   "execution_count": 8,
   "metadata": {},
   "outputs": [],
   "source": [
    "import carbonTraces"
   ]
  },
  {
   "cell_type": "code",
   "execution_count": 9,
   "metadata": {},
   "outputs": [],
   "source": [
    "# get the numpy array of the carbon traces\n",
    "datetimes, carbonMat = carbonTraces.get_numpy(m)"
   ]
  },
  {
   "cell_type": "code",
   "execution_count": 10,
   "metadata": {},
   "outputs": [
    {
     "name": "stdout",
     "output_type": "stream",
     "text": [
      "0   2020-01-01 00:00:00+00:00\n",
      "1   2020-01-01 01:00:00+00:00\n",
      "2   2020-01-01 02:00:00+00:00\n",
      "3   2020-01-01 03:00:00+00:00\n",
      "4   2020-01-01 04:00:00+00:00\n",
      "Name: datetime, dtype: datetime64[ns, UTC]\n"
     ]
    }
   ],
   "source": [
    "print(datetimes[:5])"
   ]
  },
  {
   "cell_type": "code",
   "execution_count": 11,
   "metadata": {},
   "outputs": [
    {
     "name": "stdout",
     "output_type": "stream",
     "text": [
      "[[  0.     0.     0.     0.   101.48 741.99  28.23   0.     0.   382.14\n",
      "  755.7    0.   477.98 669.14 589.31   0.     0.     0.   325.75 369.98\n",
      "    0.     0.     0.   221.52 452.69   0.     0.     0.     0.     0.\n",
      "   65.6   22.9    0.     0.     0.     0.  ]\n",
      " [  0.     0.     0.     0.   106.59 742.1   28.37   0.     0.   377.11\n",
      "  758.61   0.   470.83 665.54 589.31   0.     0.     0.   339.59 403.58\n",
      "    0.     0.     0.   222.48 448.76   0.     0.     0.     0.     0.\n",
      "   56.1   22.87   0.     0.     0.     0.  ]\n",
      " [  0.     0.     0.     0.   109.89 734.37  29.2    0.     0.   375.74\n",
      "  761.52   0.   467.67 671.44 589.31   0.     0.     0.   348.48 397.43\n",
      "    0.     0.     0.   213.51 445.49   0.     0.     0.     0.     0.\n",
      "   43.01  22.83   0.     0.     0.     0.  ]\n",
      " [  0.     0.     0.     0.   113.49 713.62  28.69   0.     0.   373.2\n",
      "  756.49   0.   466.59 675.39 589.31   0.     0.     0.   340.05 392.26\n",
      "    0.     0.     0.   210.23 442.58   0.     0.     0.     0.     0.\n",
      "   43.82  23.26   0.     0.     0.     0.  ]\n",
      " [  0.     0.     0.     0.   103.83 702.62  28.72   0.     0.   360.48\n",
      "  751.85   0.   466.85 690.77 589.31   0.     0.     0.   345.38 395.92\n",
      "    0.     0.     0.   199.95 442.33   0.     0.     0.     0.     0.\n",
      "   44.78  23.91   0.     0.     0.     0.  ]]\n"
     ]
    }
   ],
   "source": [
    "print(carbonMat[:5, :])"
   ]
  },
  {
   "cell_type": "code",
   "execution_count": null,
   "metadata": {},
   "outputs": [],
   "source": []
  },
  {
   "cell_type": "code",
   "execution_count": null,
   "metadata": {},
   "outputs": [],
   "source": []
  },
  {
   "cell_type": "code",
   "execution_count": null,
   "metadata": {},
   "outputs": [],
   "source": []
  },
  {
   "cell_type": "code",
   "execution_count": null,
   "metadata": {},
   "outputs": [],
   "source": []
  }
 ],
 "metadata": {
  "kernelspec": {
   "display_name": "base",
   "language": "python",
   "name": "python3"
  },
  "language_info": {
   "codemirror_mode": {
    "name": "ipython",
    "version": 3
   },
   "file_extension": ".py",
   "mimetype": "text/x-python",
   "name": "python",
   "nbconvert_exporter": "python",
   "pygments_lexer": "ipython3",
   "version": "3.11.4"
  }
 },
 "nbformat": 4,
 "nbformat_minor": 2
}
